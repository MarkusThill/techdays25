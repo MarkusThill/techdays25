{
 "cells": [
  {
   "cell_type": "markdown",
   "metadata": {
    "colab_type": "text",
    "id": "view-in-github"
   },
   "source": [
    "<a href=\"https://colab.research.google.com/github/MarkusThill/techdays25/blob/feature-lab2-initial-draft/notebooks/lab2-model-quantization.ipynb\" target=\"_parent\"><img src=\"https://colab.research.google.com/assets/colab-badge.svg\" alt=\"Open In Colab\"/></a>"
   ]
  },
  {
   "cell_type": "markdown",
   "metadata": {
    "id": "EKWrVTJSVVy4"
   },
   "source": [
    "# 🚀 Lab 2: Effiziente Quantisierung tiefer neuronaler Netze\n",
    "- Dieses Jupyter Notebook **benötigt eine GPU Laufzeit**. Falls nicht bereits voreingestellt, kann daher der Laufzeittyp im Menü unter \"Laufzeit\" > \"Laufzeittyp ändern\" > \"Hardwarebeschleuniger\" > **\"T4 GPU\"** geändert werden!"
   ]
  },
  {
   "cell_type": "markdown",
   "metadata": {
    "id": "N2hhcmOjXQXB"
   },
   "source": [
    "Strukturierung:\n",
    "- Teil 1: Darstellung numerischer Datentypen\n",
    "- Teil 2:\n",
    "  - Quantisierung des einfachen Modells aus Lab 1\n",
    "  - Diverse Betrachtungen auf dem quantisierten Modell (Genauigkeit, etc.)\n",
    "  - Gotchas (Optional): Overflow/Underflow am Beispiel eines Average Pooling layers\n",
    "  - Subnormal Numbers\n",
    "  - ...\n",
    "- Teil 3: Quantisierung eines DTMF Klassifikationsmodells\n",
    "  - Illustration: Erzeugung einer DTMF Wählsequenz und Abspielen derselben\n",
    "  - Laden eines vortrainierten DTMF-Klassifikationsmodells (ConvNet; Keras oder PyTorch)\n",
    "  - Konvertierung nach ONNX\n",
    "  - Quantisierung nach FP16\n",
    "  - Messung der Inferenzzeiten (auch für verschiedene Batch-Sizes) und vergleich von FP32, FP16-Modell\n",
    "  - Vergleich der Genauigkeit von FP16 und FP32 Modell (wie ändert sich die Fehlerrate)\n",
    "  - Optional: Konvertierung nach FP8 und Wiederholung der obigen Schritte\n",
    "  - Optional: Profiling der ONNX Modelle. Wo liegen die \"Hotspots\" des Modells?\n",
    "  - Optional: Trainieren des Modells auf de\n"
   ]
  },
  {
   "cell_type": "markdown",
   "metadata": {
    "id": "HHjiyBN9VVy4"
   },
   "source": [
    "# Vorbereitungen: Installation der nötigen Abhängigkeiten"
   ]
  },
  {
   "cell_type": "code",
   "execution_count": 4,
   "metadata": {
    "colab": {
     "base_uri": "https://localhost:8080/",
     "height": 1000
    },
    "id": "-zRp0QsBVVy5",
    "outputId": "479b2469-db62-401b-994f-ebf424b9649d"
   },
   "outputs": [
    {
     "name": "stdout",
     "output_type": "stream",
     "text": [
      "Collecting techdays25@ git+https://github.com/MarkusThill/techdays25.git@feature-lab2-initial-draft (from techdays25[lab2]@ git+https://github.com/MarkusThill/techdays25.git@feature-lab2-initial-draft)\n",
      "  Cloning https://github.com/MarkusThill/techdays25.git (to revision feature-lab2-initial-draft) to /tmp/pip-install-bx_x55_1/techdays25_71fdd09d220d4f1db5419c6f17a0548f\n",
      "  Running command git clone --filter=blob:none --quiet https://github.com/MarkusThill/techdays25.git /tmp/pip-install-bx_x55_1/techdays25_71fdd09d220d4f1db5419c6f17a0548f\n",
      "  Running command git checkout -b feature-lab2-initial-draft --track origin/feature-lab2-initial-draft\n",
      "  Switched to a new branch 'feature-lab2-initial-draft'\n",
      "  Branch 'feature-lab2-initial-draft' set up to track remote branch 'feature-lab2-initial-draft' from 'origin'.\n",
      "  Resolved https://github.com/MarkusThill/techdays25.git to commit bb37c0254a9f5c01c141421d599cb8bf21928108\n",
      "  Installing build dependencies ... \u001b[?25l\u001b[?25hdone\n",
      "  Getting requirements to build wheel ... \u001b[?25l\u001b[?25hdone\n",
      "  Preparing metadata (pyproject.toml) ... \u001b[?25l\u001b[?25hdone\n",
      "Collecting netron (from techdays25@ git+https://github.com/MarkusThill/techdays25.git@feature-lab2-initial-draft->techdays25[lab2]@ git+https://github.com/MarkusThill/techdays25.git@feature-lab2-initial-draft)\n",
      "  Downloading netron-8.2.8-py3-none-any.whl.metadata (1.5 kB)\n",
      "Collecting onnx (from techdays25@ git+https://github.com/MarkusThill/techdays25.git@feature-lab2-initial-draft->techdays25[lab2]@ git+https://github.com/MarkusThill/techdays25.git@feature-lab2-initial-draft)\n",
      "  Downloading onnx-1.17.0-cp311-cp311-manylinux_2_17_x86_64.manylinux2014_x86_64.whl.metadata (16 kB)\n",
      "Collecting onnxconverter-common (from techdays25@ git+https://github.com/MarkusThill/techdays25.git@feature-lab2-initial-draft->techdays25[lab2]@ git+https://github.com/MarkusThill/techdays25.git@feature-lab2-initial-draft)\n",
      "  Downloading onnxconverter_common-1.14.0-py2.py3-none-any.whl.metadata (4.2 kB)\n",
      "Collecting onnxruntime-gpu (from techdays25@ git+https://github.com/MarkusThill/techdays25.git@feature-lab2-initial-draft->techdays25[lab2]@ git+https://github.com/MarkusThill/techdays25.git@feature-lab2-initial-draft)\n",
      "  Downloading onnxruntime_gpu-1.21.1-cp311-cp311-manylinux_2_27_x86_64.manylinux_2_28_x86_64.whl.metadata (4.8 kB)\n",
      "Collecting tf2onnx (from techdays25@ git+https://github.com/MarkusThill/techdays25.git@feature-lab2-initial-draft->techdays25[lab2]@ git+https://github.com/MarkusThill/techdays25.git@feature-lab2-initial-draft)\n",
      "  Downloading tf2onnx-1.16.1-py3-none-any.whl.metadata (1.3 kB)\n",
      "Requirement already satisfied: numpy>=1.20 in /usr/local/lib/python3.11/dist-packages (from onnx->techdays25@ git+https://github.com/MarkusThill/techdays25.git@feature-lab2-initial-draft->techdays25[lab2]@ git+https://github.com/MarkusThill/techdays25.git@feature-lab2-initial-draft) (2.0.2)\n",
      "Requirement already satisfied: protobuf>=3.20.2 in /usr/local/lib/python3.11/dist-packages (from onnx->techdays25@ git+https://github.com/MarkusThill/techdays25.git@feature-lab2-initial-draft->techdays25[lab2]@ git+https://github.com/MarkusThill/techdays25.git@feature-lab2-initial-draft) (5.29.4)\n",
      "Requirement already satisfied: packaging in /usr/local/lib/python3.11/dist-packages (from onnxconverter-common->techdays25@ git+https://github.com/MarkusThill/techdays25.git@feature-lab2-initial-draft->techdays25[lab2]@ git+https://github.com/MarkusThill/techdays25.git@feature-lab2-initial-draft) (24.2)\n",
      "Collecting protobuf>=3.20.2 (from onnx->techdays25@ git+https://github.com/MarkusThill/techdays25.git@feature-lab2-initial-draft->techdays25[lab2]@ git+https://github.com/MarkusThill/techdays25.git@feature-lab2-initial-draft)\n",
      "  Downloading protobuf-3.20.2-py2.py3-none-any.whl.metadata (720 bytes)\n",
      "Collecting coloredlogs (from onnxruntime-gpu->techdays25@ git+https://github.com/MarkusThill/techdays25.git@feature-lab2-initial-draft->techdays25[lab2]@ git+https://github.com/MarkusThill/techdays25.git@feature-lab2-initial-draft)\n",
      "  Downloading coloredlogs-15.0.1-py2.py3-none-any.whl.metadata (12 kB)\n",
      "Requirement already satisfied: flatbuffers in /usr/local/lib/python3.11/dist-packages (from onnxruntime-gpu->techdays25@ git+https://github.com/MarkusThill/techdays25.git@feature-lab2-initial-draft->techdays25[lab2]@ git+https://github.com/MarkusThill/techdays25.git@feature-lab2-initial-draft) (25.2.10)\n",
      "Requirement already satisfied: sympy in /usr/local/lib/python3.11/dist-packages (from onnxruntime-gpu->techdays25@ git+https://github.com/MarkusThill/techdays25.git@feature-lab2-initial-draft->techdays25[lab2]@ git+https://github.com/MarkusThill/techdays25.git@feature-lab2-initial-draft) (1.13.1)\n",
      "Requirement already satisfied: requests in /usr/local/lib/python3.11/dist-packages (from tf2onnx->techdays25@ git+https://github.com/MarkusThill/techdays25.git@feature-lab2-initial-draft->techdays25[lab2]@ git+https://github.com/MarkusThill/techdays25.git@feature-lab2-initial-draft) (2.32.3)\n",
      "Requirement already satisfied: six in /usr/local/lib/python3.11/dist-packages (from tf2onnx->techdays25@ git+https://github.com/MarkusThill/techdays25.git@feature-lab2-initial-draft->techdays25[lab2]@ git+https://github.com/MarkusThill/techdays25.git@feature-lab2-initial-draft) (1.17.0)\n",
      "Collecting humanfriendly>=9.1 (from coloredlogs->onnxruntime-gpu->techdays25@ git+https://github.com/MarkusThill/techdays25.git@feature-lab2-initial-draft->techdays25[lab2]@ git+https://github.com/MarkusThill/techdays25.git@feature-lab2-initial-draft)\n",
      "  Downloading humanfriendly-10.0-py2.py3-none-any.whl.metadata (9.2 kB)\n",
      "Requirement already satisfied: charset-normalizer<4,>=2 in /usr/local/lib/python3.11/dist-packages (from requests->tf2onnx->techdays25@ git+https://github.com/MarkusThill/techdays25.git@feature-lab2-initial-draft->techdays25[lab2]@ git+https://github.com/MarkusThill/techdays25.git@feature-lab2-initial-draft) (3.4.1)\n",
      "Requirement already satisfied: idna<4,>=2.5 in /usr/local/lib/python3.11/dist-packages (from requests->tf2onnx->techdays25@ git+https://github.com/MarkusThill/techdays25.git@feature-lab2-initial-draft->techdays25[lab2]@ git+https://github.com/MarkusThill/techdays25.git@feature-lab2-initial-draft) (3.10)\n",
      "Requirement already satisfied: urllib3<3,>=1.21.1 in /usr/local/lib/python3.11/dist-packages (from requests->tf2onnx->techdays25@ git+https://github.com/MarkusThill/techdays25.git@feature-lab2-initial-draft->techdays25[lab2]@ git+https://github.com/MarkusThill/techdays25.git@feature-lab2-initial-draft) (2.3.0)\n",
      "Requirement already satisfied: certifi>=2017.4.17 in /usr/local/lib/python3.11/dist-packages (from requests->tf2onnx->techdays25@ git+https://github.com/MarkusThill/techdays25.git@feature-lab2-initial-draft->techdays25[lab2]@ git+https://github.com/MarkusThill/techdays25.git@feature-lab2-initial-draft) (2025.1.31)\n",
      "Requirement already satisfied: mpmath<1.4,>=1.1.0 in /usr/local/lib/python3.11/dist-packages (from sympy->onnxruntime-gpu->techdays25@ git+https://github.com/MarkusThill/techdays25.git@feature-lab2-initial-draft->techdays25[lab2]@ git+https://github.com/MarkusThill/techdays25.git@feature-lab2-initial-draft) (1.3.0)\n",
      "Downloading netron-8.2.8-py3-none-any.whl (1.9 MB)\n",
      "\u001b[2K   \u001b[90m━━━━━━━━━━━━━━━━━━━━━━━━━━━━━━━━━━━━━━━━\u001b[0m \u001b[32m1.9/1.9 MB\u001b[0m \u001b[31m20.2 MB/s\u001b[0m eta \u001b[36m0:00:00\u001b[0m\n",
      "\u001b[?25hDownloading onnx-1.17.0-cp311-cp311-manylinux_2_17_x86_64.manylinux2014_x86_64.whl (16.0 MB)\n",
      "\u001b[2K   \u001b[90m━━━━━━━━━━━━━━━━━━━━━━━━━━━━━━━━━━━━━━━━\u001b[0m \u001b[32m16.0/16.0 MB\u001b[0m \u001b[31m96.9 MB/s\u001b[0m eta \u001b[36m0:00:00\u001b[0m\n",
      "\u001b[?25hDownloading onnxconverter_common-1.14.0-py2.py3-none-any.whl (84 kB)\n",
      "\u001b[2K   \u001b[90m━━━━━━━━━━━━━━━━━━━━━━━━━━━━━━━━━━━━━━━━\u001b[0m \u001b[32m84.5/84.5 kB\u001b[0m \u001b[31m10.2 MB/s\u001b[0m eta \u001b[36m0:00:00\u001b[0m\n",
      "\u001b[?25hDownloading protobuf-3.20.2-py2.py3-none-any.whl (162 kB)\n",
      "\u001b[2K   \u001b[90m━━━━━━━━━━━━━━━━━━━━━━━━━━━━━━━━━━━━━━━━\u001b[0m \u001b[32m162.1/162.1 kB\u001b[0m \u001b[31m18.5 MB/s\u001b[0m eta \u001b[36m0:00:00\u001b[0m\n",
      "\u001b[?25hDownloading onnxruntime_gpu-1.21.1-cp311-cp311-manylinux_2_27_x86_64.manylinux_2_28_x86_64.whl (280.8 MB)\n",
      "\u001b[2K   \u001b[90m━━━━━━━━━━━━━━━━━━━━━━━━━━━━━━━━━━━━━━━━\u001b[0m \u001b[32m280.8/280.8 MB\u001b[0m \u001b[31m4.9 MB/s\u001b[0m eta \u001b[36m0:00:00\u001b[0m\n",
      "\u001b[?25hDownloading tf2onnx-1.16.1-py3-none-any.whl (455 kB)\n",
      "\u001b[2K   \u001b[90m━━━━━━━━━━━━━━━━━━━━━━━━━━━━━━━━━━━━━━━━\u001b[0m \u001b[32m455.8/455.8 kB\u001b[0m \u001b[31m37.8 MB/s\u001b[0m eta \u001b[36m0:00:00\u001b[0m\n",
      "\u001b[?25hDownloading coloredlogs-15.0.1-py2.py3-none-any.whl (46 kB)\n",
      "\u001b[2K   \u001b[90m━━━━━━━━━━━━━━━━━━━━━━━━━━━━━━━━━━━━━━━━\u001b[0m \u001b[32m46.0/46.0 kB\u001b[0m \u001b[31m5.0 MB/s\u001b[0m eta \u001b[36m0:00:00\u001b[0m\n",
      "\u001b[?25hDownloading humanfriendly-10.0-py2.py3-none-any.whl (86 kB)\n",
      "\u001b[2K   \u001b[90m━━━━━━━━━━━━━━━━━━━━━━━━━━━━━━━━━━━━━━━━\u001b[0m \u001b[32m86.8/86.8 kB\u001b[0m \u001b[31m10.2 MB/s\u001b[0m eta \u001b[36m0:00:00\u001b[0m\n",
      "\u001b[?25hBuilding wheels for collected packages: techdays25\n",
      "  Building wheel for techdays25 (pyproject.toml) ... \u001b[?25l\u001b[?25hdone\n",
      "  Created wheel for techdays25: filename=techdays25-0.0.0-py3-none-any.whl size=14129 sha256=c9c201bb4a1983329439980d959db77bff95e3f4700f088c68cd74054b1b936c\n",
      "  Stored in directory: /tmp/pip-ephem-wheel-cache-ag1wqd0u/wheels/55/f0/c2/77ec9487d29014fc257d8ce81622fc7684ef3d7e90cc6578ea\n",
      "Successfully built techdays25\n",
      "Installing collected packages: netron, techdays25, protobuf, humanfriendly, onnx, coloredlogs, tf2onnx, onnxruntime-gpu, onnxconverter-common\n",
      "  Attempting uninstall: protobuf\n",
      "    Found existing installation: protobuf 5.29.4\n",
      "    Uninstalling protobuf-5.29.4:\n",
      "      Successfully uninstalled protobuf-5.29.4\n",
      "\u001b[31mERROR: pip's dependency resolver does not currently take into account all the packages that are installed. This behaviour is the source of the following dependency conflicts.\n",
      "tensorflow 2.18.0 requires protobuf!=4.21.0,!=4.21.1,!=4.21.2,!=4.21.3,!=4.21.4,!=4.21.5,<6.0.0dev,>=3.20.3, but you have protobuf 3.20.2 which is incompatible.\n",
      "grpcio-status 1.71.0 requires protobuf<6.0dev,>=5.26.1, but you have protobuf 3.20.2 which is incompatible.\n",
      "tensorflow-metadata 1.17.1 requires protobuf<6.0.0,>=4.25.2; python_version >= \"3.11\", but you have protobuf 3.20.2 which is incompatible.\n",
      "ydf 0.11.0 requires protobuf<6.0.0,>=5.29.1, but you have protobuf 3.20.2 which is incompatible.\u001b[0m\u001b[31m\n",
      "\u001b[0mSuccessfully installed coloredlogs-15.0.1 humanfriendly-10.0 netron-8.2.8 onnx-1.17.0 onnxconverter-common-1.14.0 onnxruntime-gpu-1.21.1 protobuf-3.20.2 techdays25-0.0.0 tf2onnx-1.16.1\n"
     ]
    },
    {
     "data": {
      "application/vnd.colab-display-data+json": {
       "id": "11cebeda904241cca22a6b40ecb879f9",
       "pip_warning": {
        "packages": [
         "google"
        ]
       }
      }
     },
     "metadata": {},
     "output_type": "display_data"
    }
   ],
   "source": [
    "# Remove the `%%capture`, if you have the impression that something is going wrong during the setup\n",
    "# %%capture\n",
    "!pip install \"techdays25[lab2] @ git+https://github.com/MarkusThill/techdays25.git@feature-lab2-initial-draft\""
   ]
  },
  {
   "cell_type": "markdown",
   "metadata": {
    "id": "PetUdSKZVVy5"
   },
   "source": [
    "**WICHTIG: Nach der Installation der Abhängigkeiten (siehe oben) muss die Google Colab Laufzeit neugestartet werden! Im Anschluss kann mit der Ausführung der nächsten Zellen fortgefahren werden werden.**"
   ]
  },
  {
   "cell_type": "code",
   "execution_count": null,
   "metadata": {
    "id": "Gf2wjy7rVVy5"
   },
   "outputs": [],
   "source": [
    "# @title Some Colab-Specific Configuration {display-mode: \"form\"}\n",
    "import sys\n",
    "\n",
    "IN_COLAB = \"google.colab\" in sys.modules\n",
    "\n",
    "if IN_COLAB:\n",
    "    from google.colab import output\n",
    "\n",
    "    output.enable_custom_widget_manager()"
   ]
  },
  {
   "cell_type": "markdown",
   "metadata": {
    "id": "NPuTmcJKVVy5"
   },
   "source": [
    "## 📘 Einleitung\n",
    "- DTMF\n",
    "- Quanstisierungsansätze\n",
    "- etc."
   ]
  },
  {
   "cell_type": "markdown",
   "metadata": {
    "id": "v-emxsEEVVy5"
   },
   "source": [
    "## 📖 Wiederholung: Darstellung numerischer Datentypen (Optional)\n",
    "- Zweierkomplementdarstellung\n",
    "- IEEE-754 Standard"
   ]
  },
  {
   "cell_type": "markdown",
   "metadata": {
    "id": "e0MW1AnSVVy5"
   },
   "source": [
    "### Ganzahldarstellungen/Zweierkomplementdarstellung"
   ]
  },
  {
   "cell_type": "code",
   "execution_count": null,
   "metadata": {
    "id": "CfRcqICXVVy5"
   },
   "outputs": [],
   "source": [
    "# @title Darstellung von 16-Bit Integer Zahlen {display-mode: \"form\"}\n",
    "\n",
    "import ipywidgets as widgets\n",
    "from IPython.display import HTML\n",
    "\n",
    "# Initialize 8 toggle buttons (bits, MSB to LSB)\n",
    "bit_toggles = [\n",
    "    widgets.ToggleButton(\n",
    "        value=False, description=\"0\", layout=widgets.Layout(width=\"40px\")\n",
    "    )\n",
    "    for _ in range(8)\n",
    "]\n",
    "\n",
    "# Output widget to show results\n",
    "output = widgets.Output()\n",
    "\n",
    "\n",
    "def twos_complement(bits: list[int]) -> int:\n",
    "    \"\"\"Convert list of bits to signed integer using two's complement.\n",
    "\n",
    "    Args:\n",
    "        bits (list[int]): A list of bits representing the binary number.\n",
    "\n",
    "    Returns:\n",
    "        int: The signed integer value of the binary number.\n",
    "    \"\"\"\n",
    "    if bits[0] == 0:\n",
    "        return int(\"\".join(str(b) for b in bits), 2)\n",
    "    # If MSB is 1, it's negative\n",
    "    inverted_bits = [1 - b for b in bits]  # Flip bits\n",
    "    incremented = int(\"\".join(str(b) for b in inverted_bits), 2) + 1\n",
    "    return -incremented\n",
    "\n",
    "\n",
    "def update_display(*args) -> None:\n",
    "    \"\"\"Update the display with the current binary, decimal, and hexadecimal values.\"\"\"\n",
    "    # Read bit values (MSB to LSB)\n",
    "    bit_values = [int(btn.value) for btn in bit_toggles]\n",
    "    bit_string = \"\".join(str(b) for b in bit_values)\n",
    "\n",
    "    # Unsigned decimal value\n",
    "    unsigned_decimal = int(bit_string, 2)\n",
    "\n",
    "    # Signed decimal value (two's complement)\n",
    "    signed_decimal = twos_complement(bit_values)\n",
    "\n",
    "    # Hex representation (2 hex digits for 8 bits)\n",
    "    hex_value = hex(unsigned_decimal).upper().replace(\"X\", \"x\").replace(\"0X\", \"0x\")\n",
    "\n",
    "    # Clear previous output and update\n",
    "    output.clear_output()\n",
    "    with output:\n",
    "        display(\n",
    "            HTML(f\"\"\"\n",
    "        <h3>\n",
    "            Binary: <code>{bit_string}</code><br>\n",
    "            Unsigned Decimal: <b>{unsigned_decimal}</b><br>\n",
    "            Signed Decimal (Two's Complement): <b>{signed_decimal}</b><br>\n",
    "            Hexadecimal: <b>{hex_value}</b>\n",
    "        </h3>\n",
    "        \"\"\")\n",
    "        )\n",
    "\n",
    "    # Update button labels (0/1)\n",
    "    for btn, value in zip(bit_toggles, bit_values):\n",
    "        btn.description = str(value)\n",
    "\n",
    "\n",
    "# Attach observer to all buttons\n",
    "for btn in bit_toggles:\n",
    "    btn.observe(update_display, \"value\")\n",
    "\n",
    "# Display widget\n",
    "display(widgets.HBox(bit_toggles))\n",
    "display(output)\n",
    "\n",
    "# Initialize display\n",
    "update_display()"
   ]
  },
  {
   "cell_type": "markdown",
   "metadata": {
    "id": "TDlSxZqOVVy6"
   },
   "source": [
    "#### Übungsfragen (Optional):\n",
    "- Grundlegendes Setzen von Bits: Setze das 3. Bit (von rechts) einer 8-Bit-Zahl auf 1 und alle anderen Bits auf 0. Was ist die dezimale Darstellung dieser Zahl im unsigned Format?\n",
    "Erwartete Antwort: 4\n",
    "\n",
    "- Setzen mehrerer Bits: Setze das 1., 3. und 5. Bit (von rechts) einer 8-Bit-Zahl auf 1 und alle anderen Bits auf 0. Was ist die dezimale Darstellung dieser Zahl im unsigned Format?\n",
    "Erwartete Antwort: 21\n",
    "\n",
    "- Was ist die größtmögliche bzw. kleinstmögliche Zahl die mit 8 Bit dargestellt werden können? Antwort: -128, +127\n",
    "  - Was wäre die Antwort, wenn wir statt 8-bit Integer, nun 32-bit Integer haben?\n",
    "\n",
    "- Signed vs. Unsigned Darstellung: Setze das 8. Bit (höchstwertiges Bit) auf 1 und alle anderen Bits auf 0. Was sind die dezimalen Darstellungen dieser Zahl im signed und unsigned Format?\n",
    "Erwartete Antwort: Signed: -128, Unsigned: 128\n",
    "\n",
    "- Was charakterisiert eine negative Zahl in der Zweierkomplementdarstellung (unsigned integer) im Allgmeinen? Antwort: Zumindest das vorderste Bit ist gesetzt.\n",
    "\n",
    "- Wie negiere ich eine Zahl (z.B. 32 -> -32 bzw. -71 -> 71)? Antwort: Invertieren alle Bits und Addition  von 1\n",
    "\n",
    "- Angenommen ich habe -33 als 8-bit Zahl vorliegen. Wie würde ich daraus eine 32-bit unsigned Integer Zahl machen? Antwort: Einfach noch drei Bytes voranhängen in denen alle Bits gesetzt sind.\n",
    "\n",
    "- Kombinieren von Bits: Setze das 2., 4. und 6. Bit (von rechts) einer 8-Bit-Zahl auf 1 und alle anderen Bits auf 0. Was sind die dezimalen Darstellungen dieser Zahl im signed und unsigned Format?\n",
    "Erwartete Antwort: Signed: 42, Unsigned: 42\n",
    "\n",
    "- Negative Zahlen in der Signed-Darstellung: Setze das 8. Bit (höchstwertiges Bit) und das 1. Bit (niederwertigstes Bit) auf 1 und alle anderen Bits auf 0. Was sind die dezimalen Darstellungen dieser Zahl im signed und unsigned Format?\n",
    "Erwartete Antwort: Signed: -127, Unsigned: 129\n",
    "\n",
    "- Maximale und minimale Werte: Was ist der maximale Wert, den man mit einer 8-Bit unsigned Zahl darstellen kann? Was ist der minimale Wert, den man mit einer 8-Bit signed Zahl darstellen kann?\n",
    "Erwartete Antwort: Maximale unsigned: 255, Minimale signed: -128\n",
    "\n",
    "- Bitmuster und Werte: Setze die Bits, um die Binärzahl 10101010 zu bilden. Was sind die dezimalen Darstellungen dieser Zahl im signed und unsigned Format?\n",
    "Erwartete Antwort: Signed: -86, Unsigned: 170\n",
    "\n",
    "- Alle Bits gesetzt: Setze alle Bits einer 8-Bit-Zahl auf 1. Was sind die dezimalen Darstellungen dieser Zahl im signed und unsigned Format?\n",
    "Erwartete Antwort: Signed: -1, Unsigned: 255\n",
    "\n",
    "\n",
    "- Verständnis von Überlauf: Was passiert, wenn du 1 zum maximalen Wert einer 8-Bit unsigned Zahl hinzufügst? Was passiert bei einer 8-Bit signed Zahl?\n",
    "Erwartete Antwort: Bei unsigned wird es auf 0 zurückgesetzt. Bei signed verursacht es einen Überlauf und wird auf den minimalen Wert (-128) zurückgesetzt.\n",
    "Zweierkomplement:\n",
    "\n",
    "- Erkläre, wie die Zweierkomplement-Darstellung für negative Zahlen in einer 8-Bit signed Zahl funktioniert.\n",
    "Erwartete Antwort: Im Zweierkomplement ist das höchstwertige Bit (MSB) das Vorzeichenbit. Um das Zweierkomplement einer Zahl zu finden, invertiere alle Bits und addiere 1 zum niederwertigsten Bit (LSB)."
   ]
  },
  {
   "cell_type": "markdown",
   "metadata": {
    "id": "4q1kp8MaVVy6"
   },
   "source": [
    "### Fixkommadarstellungen"
   ]
  },
  {
   "cell_type": "code",
   "execution_count": null,
   "metadata": {
    "id": "DCrHNptuVVy6"
   },
   "outputs": [],
   "source": [
    "# @title Darstellung von 16-Bit Festkomma-Zahlen (engl.: fixpoint binary representations) {display-mode: \"form\"}\n",
    "import ipywidgets as widgets\n",
    "\n",
    "# Initialize 16 toggle buttons (bits, MSB to LSB)\n",
    "bit_toggles = [\n",
    "    widgets.ToggleButton(\n",
    "        value=False, description=\"0\", layout=widgets.Layout(width=\"30px\")\n",
    "    )\n",
    "    for _ in range(16)\n",
    "]\n",
    "\n",
    "# Color bars for sign, integer part, and fractional part\n",
    "color_bars = [\n",
    "    widgets.HTML(\n",
    "        value='<div style=\"width: 30px; height: 10px; background-color: red;\"></div>'\n",
    "    )\n",
    "    if i == 0\n",
    "    else widgets.HTML(\n",
    "        value='<div style=\"width: 30px; height: 10px; background-color: green;\"></div>'\n",
    "    )\n",
    "    if 1 <= i <= 7\n",
    "    else widgets.HTML(\n",
    "        value='<div style=\"width: 30px; height: 10px; background-color: blue;\"></div>'\n",
    "    )\n",
    "    for i in range(16)\n",
    "]\n",
    "\n",
    "# Output widget to show results\n",
    "output = widgets.Output()\n",
    "\n",
    "\n",
    "# def twos_complement(bits):\n",
    "#    \"\"\"Convert list of bits to signed integer using two's complement.\"\"\"\n",
    "#    if bits[0] == 0:\n",
    "#        return int(\"\".join(str(b) for b in bits), 2)\n",
    "#\n",
    "#    # If MSB is 1, it's negative\n",
    "#    inverted_bits = [1 - b for b in bits]  # Flip bits\n",
    "#    incremented = int(\"\".join(str(b) for b in inverted_bits), 2) + 1\n",
    "#    return -incremented\n",
    "\n",
    "\n",
    "def fixed_point_value(bits: list[int]) -> float:\n",
    "    \"\"\"Convert a list of bits to a fixed-point value.\n",
    "\n",
    "    Args:\n",
    "        bits (list[int]): A list of 16 bits representing the binary number in fixed-point format.\n",
    "\n",
    "    Returns:\n",
    "        float: The fixed-point value of the binary number.\n",
    "    \"\"\"\n",
    "    integer_part = bits[:8]\n",
    "    fractional_part = bits[8:]\n",
    "\n",
    "    # Calculate integer value\n",
    "    integer_value = twos_complement(integer_part)\n",
    "\n",
    "    # Calculate fractional value\n",
    "    fractional_value = sum(\n",
    "        bit * 2 ** (-i) for i, bit in enumerate(fractional_part, start=1)\n",
    "    )\n",
    "\n",
    "    return integer_value + fractional_value\n",
    "\n",
    "\n",
    "def update_display(*args) -> None:\n",
    "    \"\"\"Update the display with the current binary, decimal, and hexadecimal values.\"\"\"\n",
    "    # Read bit values (MSB to LSB)\n",
    "    bit_values = [int(btn.value) for btn in bit_toggles]\n",
    "    bit_string = \"\".join(str(b) for b in bit_values)\n",
    "\n",
    "    # Unsigned decimal value\n",
    "    unsigned_decimal = int(bit_string, 2)\n",
    "\n",
    "    # Signed decimal value (two's complement)\n",
    "    signed_decimal = twos_complement(bit_values)\n",
    "\n",
    "    # Fixed-point value\n",
    "    fixed_point_decimal = fixed_point_value(bit_values)\n",
    "\n",
    "    # Hex representation (4 hex digits for 16 bits)\n",
    "    hex_value = hex(unsigned_decimal).upper().replace(\"X\", \"x\").replace(\"0X\", \"0x\")\n",
    "\n",
    "    # Clear previous output and update\n",
    "    output.clear_output()\n",
    "    with output:\n",
    "        display(\n",
    "            HTML(f\"\"\"\n",
    "        <h3>\n",
    "            Binary: <code>\n",
    "                <span style=\"color: red;\">{bit_string[0]}</span>\n",
    "                <span style=\"color: green;\">{bit_string[1:8]}</span>.\n",
    "                <span style=\"color: blue;\">{bit_string[8:]}</span>\n",
    "            </code><br>\n",
    "            Unsigned Decimal: <b>{unsigned_decimal}</b><br>\n",
    "            Signed Decimal (Two's Complement): <b>{signed_decimal}</b><br>\n",
    "            Fixed-Point Decimal: <b>{fixed_point_decimal}</b><br>\n",
    "            Hexadecimal: <b>{hex_value}</b>\n",
    "        </h3>\n",
    "        \"\"\")\n",
    "        )\n",
    "\n",
    "    # Update button labels (0/1)\n",
    "    for btn, value in zip(bit_toggles, bit_values):\n",
    "        btn.description = str(value)\n",
    "\n",
    "\n",
    "# Attach observer to all buttons\n",
    "for btn in bit_toggles:\n",
    "    btn.observe(update_display, \"value\")\n",
    "\n",
    "# Display widget\n",
    "display(widgets.VBox([widgets.HBox(bit_toggles), widgets.HBox(color_bars)]))\n",
    "display(output)\n",
    "\n",
    "# Initialize display\n",
    "update_display()"
   ]
  },
  {
   "cell_type": "markdown",
   "metadata": {
    "id": "bN_oFcfjVVy6"
   },
   "source": [
    "#### Übungsfragen (Optional):"
   ]
  },
  {
   "cell_type": "markdown",
   "metadata": {
    "id": "fmRekLfxVVy6"
   },
   "source": [
    "### Fließkommadarstellungen nach IEEE-754\n",
    "- TODO: Subnormal Numbers\n",
    "- Webseite mit noch mehr Darstellungen: https://evanw.github.io/float-toy/\n",
    "- Verschiedene FP8-Darstellungen: https://asawicki.info/articles/fp8_tables.php\n",
    "- https://onnx.ai/onnx/technical/float8.html"
   ]
  },
  {
   "cell_type": "code",
   "execution_count": null,
   "metadata": {
    "id": "V8LgC7KNVVy6"
   },
   "outputs": [],
   "source": [
    "# @title Darstellung von 16-Bit (FP16) Fließkomma-Zahlen {display-mode: \"form\"}\n",
    "\n",
    "import struct\n",
    "\n",
    "import ipywidgets as widgets\n",
    "import numpy as np\n",
    "\n",
    "# from IPython.display import display\n",
    "\n",
    "# Initialize 16 toggle buttons (bits)\n",
    "bit_toggles = [\n",
    "    widgets.ToggleButton(\n",
    "        value=False, description=\"0\", layout=widgets.Layout(width=\"30px\")\n",
    "    )\n",
    "    for _ in range(16)\n",
    "]\n",
    "\n",
    "# Color bars for sign, exponent, and mantissa\n",
    "color_bars = [\n",
    "    widgets.HTML(\n",
    "        value='<div style=\"width: 30px; height: 10px; background-color: red;\"></div>'\n",
    "    )\n",
    "    if i == 0\n",
    "    else widgets.HTML(\n",
    "        value='<div style=\"width: 30px; height: 10px; background-color: green;\"></div>'\n",
    "    )\n",
    "    if 1 <= i <= 5\n",
    "    else widgets.HTML(\n",
    "        value='<div style=\"width: 30px; height: 10px; background-color: blue;\"></div>'\n",
    "    )\n",
    "    for i in range(16)\n",
    "]\n",
    "\n",
    "# Output widget to show FP16 value and components\n",
    "output = widgets.Output()\n",
    "\n",
    "\n",
    "def bits_to_float16(bits: list[int]) -> np.float16:\n",
    "    \"\"\"Convert list of bits to FP16 float value.\n",
    "\n",
    "    Args:\n",
    "        bits (list[int]): A list of bits representing the binary number.\n",
    "\n",
    "    Returns:\n",
    "        np.float16: The FP16 float value of the binary number.\n",
    "    \"\"\"\n",
    "    bit_string = \"\".join(str(b) for b in bits)\n",
    "    # Convert binary string to integer\n",
    "    int_value = int(bit_string, 2)\n",
    "    # Pack as unsigned 16-bit int, then unpack as float16 using numpy\n",
    "    packed = struct.pack(\"<H\", int_value)  # Big endian 16-bit unsigned int\n",
    "    return np.frombuffer(packed, dtype=np.float16)[0]\n",
    "\n",
    "\n",
    "def update_display(*args):\n",
    "    \"\"\"Update the display with the current binary, FP16 float value, and its components.\"\"\"\n",
    "    # Read bit values (MSB to LSB)\n",
    "    bit_values = [int(btn.value) for btn in bit_toggles]\n",
    "    bit_string = \"\".join(str(b) for b in bit_values)\n",
    "\n",
    "    # Extract components\n",
    "    sign = bit_values[0]\n",
    "    exponent_bits = bit_values[1:6]\n",
    "    mantissa_bits = bit_values[6:]\n",
    "\n",
    "    exponent = int(\"\".join(str(b) for b in exponent_bits), 2)\n",
    "    exponent_unbiased = exponent - 15  # Bias = 15\n",
    "\n",
    "    mantissa_raw = \"\".join(str(b) for b in mantissa_bits)\n",
    "    (\n",
    "        1 + sum(int(b) * 2 ** (-i) for i, b in enumerate(mantissa_bits, start=1))\n",
    "        if exponent != 0\n",
    "        else 0\n",
    "    )\n",
    "\n",
    "    # Convert to float16 value\n",
    "    fp16_value = bits_to_float16(bit_values)\n",
    "\n",
    "    # Clear previous output and display new info\n",
    "    output.clear_output()\n",
    "    with output:\n",
    "        display(\n",
    "            HTML(f\"\"\"\n",
    "        <h3>\n",
    "            Binary: <code>\n",
    "                <span style=\"color: red;\">{bit_string[0]}</span>\n",
    "                <span style=\"color: green;\">{bit_string[1:6]}</span>\n",
    "                <span style=\"color: blue;\">{bit_string[6:]}</span>\n",
    "            </code><br>\n",
    "            Sign (1 bit): <b>{sign}</b> ({\"-\" if sign else \"+\"})<br>\n",
    "            Exponent (5 bits): <b>{\"\".join(str(b) for b in exponent_bits)} (biased: {exponent}, unbiased: {exponent_unbiased})</b><br>\n",
    "            Mantissa (10 bits): <b>{mantissa_raw}</b><br>\n",
    "            <hr>\n",
    "            <b>FP16 Value:</b> {fp16_value}\n",
    "        </h3>\n",
    "        \"\"\")\n",
    "        )\n",
    "\n",
    "    # Update button labels\n",
    "    for btn, value in zip(bit_toggles, bit_values):\n",
    "        btn.description = str(value)\n",
    "\n",
    "\n",
    "# Attach observer to all buttons\n",
    "for btn in bit_toggles:\n",
    "    btn.observe(update_display, \"value\")\n",
    "\n",
    "# Display widget\n",
    "display(widgets.VBox([widgets.HBox(bit_toggles), widgets.HBox(color_bars)]))\n",
    "display(output)\n",
    "\n",
    "# Initialize output\n",
    "update_display()  # 0 01111 0000000001 ^=^ 1.00097656"
   ]
  },
  {
   "cell_type": "markdown",
   "metadata": {
    "id": "RBCmHSNeVVy6"
   },
   "source": [
    "#### Übungsfragen (Optional):\n",
    "- Gibt es einen Unterschied zwischen +0.0 und -0.0?\n",
    "- Wie stelle ich `+Inf` bzw. `-Inf` dar?\n",
    "- Wie stelle ich `NaN` dar?\n",
    "- Was ergibt der Vergleich `float(\"nan\") != float(\"nan\")`?"
   ]
  },
  {
   "cell_type": "markdown",
   "metadata": {
    "id": "7youIav3VVy7"
   },
   "source": [
    "# Case Study 1: Quantisierung eines einfachen Modells (aus Lab 1)\n",
    "- Gotchas: zu große, kleine inputs, numerische Abweichungen. Ggfs.: Sehr kleines Gewicht, sehr großer Input."
   ]
  },
  {
   "cell_type": "markdown",
   "metadata": {
    "id": "k5i-XeVZVVy7"
   },
   "source": [
    "# Case Study 2: Klassifizierung von DTMF (dual-tone multi-frequency) Wählsignalen"
   ]
  },
  {
   "cell_type": "markdown",
   "metadata": {
    "id": "UG6JRjlfVVy7"
   },
   "source": [
    "## Einführung: Generierung und Dekodierung von Dual Tone Multiple Frequency (DTMF)-Signalen <a class=\"anchor\" id=\"part0\"></a>\n",
    "\n",
    "\n",
    "Das Dualton-Mehrfrequenzwahlverfahren (DTMF) ist ein Signalisierungssystem für das Wählen eines Telefons, das in den frühen 1960er Jahren von Western Electric entwickelt und später von Bell System kommerziell an Telefonkunden geliefert wurde.\n",
    "Wenn eine Taste auf dem Telefon gedrückt wird, werden zwei harmonische Tonsignale erzeugt, und die Superposition/Überlagerung beider Signale wird verwendet, um die entsprechende Telefontaste zu charakterisieren. Wenn zum Beispiel die Taste „5“ gedrückt wird, entsteht ein Dualtontonsignal, das sich aus den Frequenzen 770 Hz und 1336 Hz zusammensetzt. Die beiden Frequenzen, die jede Taste beschreiben, sind in der folgenden Tabelle aufgeführt:\n",
    "\n",
    "|   | 1209Hz  | 1336 Hz  | 1477 Hz   | 1633 Hz  |\n",
    "|---|:---:|:---:|:---:|:---:|\n",
    "| **697 Hz**  |  1 | 2  | 3  | A  |\n",
    "| **770 Hz**  |  4 | 5  | 6  | B  |\n",
    "| **852 Hz**  |  7 | 8  | 9  | C  |\n",
    "| **941 Hz**  |  * | 0  | #  | D  |\n",
    "\n",
    "In diesem Beispiel werden wir uns ansehen, wie man solche DTMF-Wählsequenzen generiert, sie in einer Audiodatei speichert und das Audiosignal mit einem einfachen KI-Modell wieder dekodiert.\n",
    "\n",
    "Wir werden die folgenden Schritte durchführen, um ein DTMF-Signal zu erzeugen und zu dekodieren:\n",
    "1. Erzeugung des Signals und der Audiodatei mit `scipy` und `numpy`. Wir speichern die erzeugte Audiodatei in einer `.wav` Datei, die in diesem Notebook oder in deinem lokalen Audioplayer abgespielt werden kann\n",
    "2. Wir entwerfen eine einfaches KI-Modell ... TODO\n",
    "3. Extraktion der gewählten Tastenfolge aus der `.wav`-Datei unter Verwendung des KI-Modells\n",
    "4. Quantisierung & Export des Modells nach ONNX im FP32 und FP16 Format\n",
    "5. Laufzeit Untersuchungen für FP16/FP32, unterschiedliche Batch-Größen und Signallängen."
   ]
  },
  {
   "cell_type": "code",
   "execution_count": 5,
   "metadata": {
    "id": "RNXOs32MVVy7"
   },
   "outputs": [],
   "source": [
    "# Trainiere Modell\n",
    "# Konvertiere Modell nach ONNX (einmal FP32, einmal FP16)\n",
    "# Untersuche Laufzeitunterschiede (auch nach batchsize)\n",
    "# Untersuche Abweichungen. Wie ändert sich die Fehlerrate des Modells für FP32/Fp16?"
   ]
  },
  {
   "cell_type": "markdown",
   "metadata": {
    "id": "d51a6fcd-760a-4926-8d68-7f75eddb906a"
   },
   "source": [
    "## Signal and Audio File Generation <a class=\"anchor\" id=\"part1\"></a>"
   ]
  },
  {
   "cell_type": "code",
   "execution_count": 1,
   "metadata": {
    "id": "d9360855-39ba-450f-975b-ebd7f48a5521"
   },
   "outputs": [],
   "source": [
    "import time\n",
    "\n",
    "# from collections.abc import Callable\n",
    "import matplotlib.pyplot as plt\n",
    "import numpy as np\n",
    "import pandas as pd\n",
    "import tensorflow as tf\n",
    "from scipy.io import wavfile"
   ]
  },
  {
   "cell_type": "code",
   "execution_count": 2,
   "metadata": {
    "colab": {
     "base_uri": "https://localhost:8080/",
     "height": 319,
     "referenced_widgets": [
      "c4e50fc2f76b4f29b1a20f4185019650",
      "3f21496b2092474a9b2edbd566b35aa8",
      "a1c5bb4df3274ac49af93840997c2064",
      "64c8cdec3bd443029caa09baf422e897",
      "b9efa4a30ab94be1b4cfde9ec4a68fdd",
      "87b052d33c6b4bfeb24e2dfc7fb42ee7",
      "a8b7be01f4b24178a3e523813872ad2b",
      "e61cbf44f9e643d88ba1f14b49cf99d8",
      "aae0b317d41547358e7716e9c6e940ae",
      "2929f07fa13c466d908ab9e7565dc707",
      "7f3d260c732948759d065b5eb849bbdf",
      "7f46b4caef0242f4acf3db69c23528e8",
      "0fa929fa1c894fffb17089588425d0de",
      "1632353030784af58d4c4e7dc9548493",
      "aba5670943a84eb28ee977c7e4286338",
      "c9cf05dbe2084d69a35c5eb37dc89059",
      "ed939b28e9b54e6dbcfc72e8a7136d61",
      "c4e4e0054d1d4b36be1592b6d50165be",
      "a84667d9a48749288c5476aa82f2ed52",
      "da9c689df8ce448cb16435b42aa2ce6e",
      "8b1fc910a4c0438e8228751cb73be2d6",
      "ce92f8a59bc9488f91898e479c091d08",
      "d880aa818ec541df8e7f2b9576ea01d0",
      "d577a78cbcd5489598f4d07f68fff91c",
      "6c035d12a3124ba2a718ff8d5137f0fc",
      "c25c5ab150f3487b823568e5d0dd5df0",
      "57358bc1a8194f26abfb907b1c10aee8",
      "fa51be5a5ab44ea4a948692f50a9a53d",
      "01804e43a65c4ac4b7d660aede3a55c8",
      "5a8df18932f046269b3e5795e70a9752",
      "2db92e4f7a1441578dae79af7a471659",
      "f69da50bac2b4b0fb4a938a891acfdd6",
      "c53f6ef37ce04e0e9cf1b6bef57a7a62",
      "efca2da569544246a29fbcc1cd654bd6",
      "46a015ef4693498a8c26769355dd302d",
      "4864b054ce2a498a9e6969f658efe9bc",
      "fb9dcb2753e5494c880f97a117c95dab",
      "06d39d4409064adb916d3577d6e882d4",
      "a57c231c0c03490c84a8fc019e805746",
      "36f77ebfafbf4be5855be6c4207e7804",
      "b564faf7e8d140c69080b68bb1967fe1",
      "be1064f963414b369ae83274a25c899d",
      "37fd4e9f56db46e48acaed441dfb2fd2",
      "a6e4a88b1c4e479481934d2be102f40e",
      "40467eeb1644469eb0c78683c0de5d64",
      "24a976cbb42b442789692c65312931a3",
      "3fbcf7492ed843449514fdb4722b4b4d",
      "f07de4696cb84b979d12e0a49e70f5aa",
      "7dffde832b05437681893359275e1591",
      "c96e18ec445d4aebacc09379b916f2fc"
     ]
    },
    "id": "O6kR8O3oWRKR",
    "outputId": "0e9a2586-7b96-49cf-c102-e0278aef477d"
   },
   "outputs": [
    {
     "data": {
      "application/vnd.jupyter.widget-view+json": {
       "model_id": "c4e50fc2f76b4f29b1a20f4185019650",
       "version_major": 2,
       "version_minor": 0
      },
      "text/plain": [
       "Text(value='', description='Dial Sequence:', disabled=True, layout=Layout(width='300px'), placeholder='Dial se…"
      ]
     },
     "metadata": {},
     "output_type": "display_data"
    },
    {
     "data": {
      "application/vnd.jupyter.widget-view+json": {
       "model_id": "64c8cdec3bd443029caa09baf422e897",
       "version_major": 2,
       "version_minor": 0
      },
      "text/plain": [
       "HBox(children=(Button(description='1', layout=Layout(height='50px', width='50px'), style=ButtonStyle()), Butto…"
      ]
     },
     "metadata": {},
     "output_type": "display_data"
    },
    {
     "data": {
      "application/vnd.jupyter.widget-view+json": {
       "model_id": "aba5670943a84eb28ee977c7e4286338",
       "version_major": 2,
       "version_minor": 0
      },
      "text/plain": [
       "HBox(children=(Button(description='4', layout=Layout(height='50px', width='50px'), style=ButtonStyle()), Butto…"
      ]
     },
     "metadata": {},
     "output_type": "display_data"
    },
    {
     "data": {
      "application/vnd.jupyter.widget-view+json": {
       "model_id": "c25c5ab150f3487b823568e5d0dd5df0",
       "version_major": 2,
       "version_minor": 0
      },
      "text/plain": [
       "HBox(children=(Button(description='7', layout=Layout(height='50px', width='50px'), style=ButtonStyle()), Butto…"
      ]
     },
     "metadata": {},
     "output_type": "display_data"
    },
    {
     "data": {
      "application/vnd.jupyter.widget-view+json": {
       "model_id": "fb9dcb2753e5494c880f97a117c95dab",
       "version_major": 2,
       "version_minor": 0
      },
      "text/plain": [
       "HBox(children=(Button(description='*', layout=Layout(height='50px', width='50px'), style=ButtonStyle()), Butto…"
      ]
     },
     "metadata": {},
     "output_type": "display_data"
    },
    {
     "data": {
      "application/vnd.jupyter.widget-view+json": {
       "model_id": "f07de4696cb84b979d12e0a49e70f5aa",
       "version_major": 2,
       "version_minor": 0
      },
      "text/plain": [
       "Button(description='Clear', layout=Layout(height='50px', width='160px'), style=ButtonStyle())"
      ]
     },
     "metadata": {},
     "output_type": "display_data"
    }
   ],
   "source": [
    "# @title Phone Dialer Widget {display-mode: \"form\"}\n",
    "\n",
    "import ipywidgets as widgets\n",
    "\n",
    "# from IPython.display import display\n",
    "\n",
    "# Initialize a text widget to display the dial sequence\n",
    "dial_sequence = widgets.Text(\n",
    "    value=\"\",\n",
    "    placeholder=\"Dial sequence will appear here...\",\n",
    "    description=\"Dial Sequence:\",\n",
    "    disabled=True,\n",
    "    layout=widgets.Layout(width=\"300px\"),\n",
    ")\n",
    "\n",
    "\n",
    "# Function to handle button clicks\n",
    "def on_button_click(b):\n",
    "    \"\"\"_summary_.\n",
    "\n",
    "    Args:\n",
    "        b (_type_): _description_\n",
    "    \"\"\"\n",
    "    dial_sequence.value += b.description\n",
    "\n",
    "\n",
    "# Create buttons for the phone dialer\n",
    "buttons = []\n",
    "for row in [[\"1\", \"2\", \"3\"], [\"4\", \"5\", \"6\"], [\"7\", \"8\", \"9\"], [\"*\", \"0\", \"#\"]]:\n",
    "    button_row = []\n",
    "    for label in row:\n",
    "        button = widgets.Button(\n",
    "            description=label, layout=widgets.Layout(width=\"50px\", height=\"50px\")\n",
    "        )\n",
    "        button.on_click(on_button_click)\n",
    "        button_row.append(button)\n",
    "    buttons.append(widgets.HBox(button_row))\n",
    "\n",
    "# Create a clear button\n",
    "clear_button = widgets.Button(\n",
    "    description=\"Clear\", layout=widgets.Layout(width=\"160px\", height=\"50px\")\n",
    ")\n",
    "\n",
    "\n",
    "def on_clear_click(b):\n",
    "    \"\"\"_summary_.\n",
    "\n",
    "    Args:\n",
    "        b (_type_): _description_\n",
    "    \"\"\"\n",
    "    dial_sequence.value = \"\"\n",
    "\n",
    "\n",
    "clear_button.on_click(on_clear_click)\n",
    "\n",
    "# Display the dialer\n",
    "display(dial_sequence)\n",
    "for button_row in buttons:\n",
    "    display(button_row)\n",
    "display(clear_button)"
   ]
  },
  {
   "cell_type": "code",
   "execution_count": 3,
   "metadata": {
    "id": "HAyM34wYqx_A"
   },
   "outputs": [],
   "source": [
    "from techdays25.dtmf_generation import DtmfGenerator\n",
    "\n",
    "dtmf_gen = DtmfGenerator(\n",
    "    dur_key=(0.2, 0.3),\n",
    "    dur_pause=(0.01, 0.1),\n",
    "    noise_factor=(10.0, 50.0),\n",
    "    noise_freq_range=(0.0, 20000.0),\n",
    ")"
   ]
  },
  {
   "cell_type": "code",
   "execution_count": 4,
   "metadata": {
    "id": "62132ef1-c61f-4653-9f6c-a4d9f892781e"
   },
   "outputs": [],
   "source": [
    "wav_file_name = \"my_dtmf_file.wav\"\n",
    "\n",
    "# Either generate a random sequence:\n",
    "# my_dialed_sequence_keys = \"\".join([random.choice(\"1234567890ABCD*#\") for i in range(10)])\n",
    "\n",
    "# ... or use a simple sequence for debugging purposes\n",
    "# my_dialed_sequence_keys = \"1234567890ABCD*#\" # for debug purposes...\n",
    "\n",
    "# ... or use a slightly longer sequence (which also contains all symbols)\n",
    "my_dialed_sequence_keys = \"91D282A0B8C16C*C9#504979D#443B\"\n",
    "\n",
    "# Try changing the following arguments: dur_key=0.05, dur_pause=0.02\n",
    "my_dialed_sequence_signal = dtmf_gen.get_tone_sequence(my_dialed_sequence_keys)"
   ]
  },
  {
   "cell_type": "code",
   "execution_count": 9,
   "metadata": {
    "colab": {
     "base_uri": "https://localhost:8080/",
     "height": 482
    },
    "id": "CWiuyJ_7BUS6",
    "outputId": "dd664951-e419-4757-ffe4-b1cf0261ce82"
   },
   "outputs": [
    {
     "data": {
      "text/plain": [
       "Text(0.5, 1.0, '')"
      ]
     },
     "execution_count": 9,
     "metadata": {},
     "output_type": "execute_result"
    },
    {
     "data": {
      "image/png": "[encoded data removed]",
      "text/plain": [
       "<Figure size 1000x500 with 1 Axes>"
      ]
     },
     "metadata": {},
     "output_type": "display_data"
    }
   ],
   "source": [
    "plt.figure(figsize=(10, 5))\n",
    "plt.plot(my_dialed_sequence_signal[: 10**4])\n",
    "plt.xlabel(\"Index\")\n",
    "plt.ylabel(\"Amplitude\")\n",
    "plt.title(\"\")"
   ]
  },
  {
   "cell_type": "code",
   "execution_count": 14,
   "metadata": {
    "colab": {
     "base_uri": "https://localhost:8080/"
    },
    "id": "BJe9QX8Ee9aA",
    "outputId": "16b60f84-1e0e-44ce-841d-690b19a9e6e3"
   },
   "outputs": [
    {
     "data": {
      "text/plain": [
       "np.int64(2615)"
      ]
     },
     "execution_count": 14,
     "metadata": {},
     "output_type": "execute_result"
    }
   ],
   "source": [
    "quant = np.quantile(my_dialed_sequence_signal, 0.99)\n",
    "start_index = np.where(my_dialed_sequence_signal > quant)[0][10]\n",
    "start_index\n",
    "plt"
   ]
  },
  {
   "cell_type": "code",
   "execution_count": null,
   "metadata": {
    "id": "42af11c2-3c15-4a57-afa8-f62b8e82925d"
   },
   "outputs": [],
   "source": [
    "# Now let us listen to the generated WAV file\n",
    "import IPython\n",
    "import numpy as np\n",
    "\n",
    "wavfile.write(\n",
    "    wav_file_name,\n",
    "    dtmf_gen.get_sample_rate(),\n",
    "    (my_dialed_sequence_signal * np.iinfo(np.int32).max).astype(np.int32),\n",
    ")\n",
    "IPython.display.Audio(wav_file_name)"
   ]
  },
  {
   "cell_type": "code",
   "execution_count": null,
   "metadata": {
    "id": "51a52767-7e0e-444f-8028-f5a52fce4820"
   },
   "outputs": [],
   "source": [
    "print(\"Dialed sequence: \", my_dialed_sequence_keys)\n",
    "print(\"Used symbols: \", len(set(my_dialed_sequence_keys)))\n",
    "print(\"Total length of signal:\", my_dialed_sequence_signal.shape[0])"
   ]
  },
  {
   "cell_type": "markdown",
   "metadata": {
    "id": "b763fef4-360e-4a01-910b-add573007fd3"
   },
   "source": [
    "### Spectrogram of the signal"
   ]
  },
  {
   "cell_type": "code",
   "execution_count": null,
   "metadata": {
    "id": "7827a985-0dd0-40c0-993c-e002523ef0e9"
   },
   "outputs": [],
   "source": [
    "plt.figure(figsize=(10, 5))\n",
    "Pxx, freqs, bins, im = plt.specgram(\n",
    "    my_dialed_sequence_signal, NFFT=1024, Fs=dtmf_gen.get_sample_rate()\n",
    ")\n",
    "plt.ylim(0, 2000)\n",
    "plt.xlabel(\"t [s]\")\n",
    "plt.ylabel(\"f [Hz]\")\n",
    "plt.title(\"Spektrogramm des generierten Telefonwählsignals\")\n",
    "plt.show(im)"
   ]
  },
  {
   "cell_type": "code",
   "execution_count": null,
   "metadata": {
    "id": "iN_hSCvRHtgy"
   },
   "outputs": [],
   "source": [
    "X_train, Y_train = dtmf_gen.generate_dataset(n_samples=1024, t_length=2**14)\n",
    "X_val, Y_val = dtmf_gen.generate_dataset(n_samples=64, t_length=2**16)\n",
    "\n",
    "print(X_train.shape, Y_train.shape, X_train.min(), X_train.max())\n",
    "print(X_val.shape, Y_val.shape, X_val.min(), X_val.max())"
   ]
  },
  {
   "cell_type": "code",
   "execution_count": null,
   "metadata": {
    "id": "7AWzMtPVQkgb"
   },
   "outputs": [],
   "source": [
    "# from collections.abc import Callable\n",
    "from collections.abc import Callable\n",
    "from pathlib import Path\n",
    "\n",
    "import numpy as np\n",
    "import onnxruntime as ort\n",
    "import tensorflow as tf\n",
    "from tensorflow.keras import layers\n",
    "\n",
    "\n",
    "def build_dtmf_classifier_model(\n",
    "    input_shape: tuple[int | None, int], num_classes: int\n",
    ") -> tf.keras.Sequential:\n",
    "    \"\"\"Build a DTMF classifier model using a sequential Keras model.\n",
    "\n",
    "    This function constructs a convolutional neural network (CNN) model for\n",
    "    classifying DTMF (Dual-tone multi-frequency) signals. The model consists\n",
    "    of several convolutional layers followed by max pooling and upsampling layers.\n",
    "\n",
    "    Args:\n",
    "        input_shape (tuple[int, int]): The shape of the input data (e.g., (length, channels)).\n",
    "        num_classes (int): The number of output classes for classification.\n",
    "\n",
    "    Returns:\n",
    "        tf.keras.Sequential: A Keras Sequential model configured for DTMF classification.\n",
    "    \"\"\"\n",
    "    return tf.keras.Sequential([\n",
    "        layers.Input(shape=input_shape),\n",
    "        layers.Conv1D(num_classes, kernel_size=1, activation=\"linear\"),\n",
    "    ])"
   ]
  },
  {
   "cell_type": "code",
   "execution_count": null,
   "metadata": {
    "id": "XX1JtkVWTrI5"
   },
   "outputs": [],
   "source": [
    "# from techdays25.dtmf_models import build_dtmf_classifier_model\n",
    "\n",
    "model = build_dtmf_classifier_model((None, 1), dtmf_gen.get_num_keys() + 1)\n",
    "adam = tf.keras.optimizers.Adam(learning_rate=0.001)\n",
    "model.compile(\n",
    "    optimizer=adam, loss=\"categorical_crossentropy\", metrics=[\"accuracy\"]\n",
    ")  # multi-label\n",
    "model.summary()"
   ]
  },
  {
   "cell_type": "code",
   "execution_count": null,
   "metadata": {
    "id": "FcganU0yPkdG"
   },
   "outputs": [],
   "source": [
    "# model.fit(X_train, Y_train, batch_size=64, epochs=50, validation_data=(X_val, Y_val))\n",
    "model.save(\"model.keras\")"
   ]
  },
  {
   "cell_type": "code",
   "execution_count": null,
   "metadata": {
    "id": "FNrpNO97eX3Y"
   },
   "outputs": [],
   "source": [
    "model = tf.keras.models.load_model(\"model.keras\")"
   ]
  },
  {
   "cell_type": "code",
   "execution_count": null,
   "metadata": {
    "id": "aoeSluZ-MoYQ"
   },
   "outputs": [],
   "source": [
    "import IPython\n",
    "\n",
    "idx = 9\n",
    "\n",
    "# TODO: Duplicate Code below:\n",
    "pred = model.predict(X_val[idx : idx + 1])\n",
    "cmap = plt.get_cmap(\"tab20\")\n",
    "colors = [cmap(i) for i in range(16)]  # Get 16 distinct colors\n",
    "\n",
    "plt.figure(figsize=(10, 5))\n",
    "plt.plot(X_val[idx, :, 0])\n",
    "\n",
    "for key_idx in range(pred.shape[-1] - 1):  # last index represents pauses\n",
    "    plt.plot(\n",
    "        pred[0, :, key_idx],\n",
    "        label=f\"{dtmf_gen.get_key(key_idx=key_idx)}\",\n",
    "        color=colors[key_idx],\n",
    "    )\n",
    "plt.legend(loc=\"upper center\", bbox_to_anchor=(0.5, -0.15), ncol=8)\n",
    "plt.show()\n",
    "\n",
    "wavfile.write(\n",
    "    \"val.wav\",\n",
    "    dtmf_gen.get_sample_rate(),\n",
    "    (X_val[idx] * np.iinfo(np.int32).max).flatten().astype(np.int32),\n",
    ")\n",
    "IPython.display.Audio(\"val.wav\")"
   ]
  },
  {
   "cell_type": "code",
   "execution_count": null,
   "metadata": {
    "id": "SozwcF8LNNIZ"
   },
   "outputs": [],
   "source": [
    "# Compute Accuracy\n",
    "pred = model.predict(X_val)\n",
    "thresholded = (pred > 0.5).astype(int)\n",
    "\n",
    "(thresholded == Y_val).sum() / Y_val.size"
   ]
  },
  {
   "cell_type": "code",
   "execution_count": null,
   "metadata": {
    "id": "kesc3J6SUBOv"
   },
   "outputs": [],
   "source": [
    "import matplotlib.pyplot as plt\n",
    "\n",
    "start = time.time()\n",
    "keras_pred = model.predict(my_dialed_sequence_signal.reshape(1, -1, 1))\n",
    "end = time.time()\n",
    "\n",
    "cmap = plt.get_cmap(\"tab20\")\n",
    "\n",
    "colors = [cmap(i) for i in range(16)]  # Get 16 distinct colors\n",
    "\n",
    "plt.figure(figsize=(10, 5))\n",
    "plt.plot(my_dialed_sequence_signal)\n",
    "\n",
    "for key_idx in range(keras_pred.shape[-1] - 1):  # last index represents pauses\n",
    "    plt.plot(\n",
    "        keras_pred[0, :, key_idx],\n",
    "        label=f\"{dtmf_gen.get_key(key_idx=key_idx)}\",\n",
    "        color=colors[key_idx],\n",
    "    )\n",
    "plt.legend(loc=\"upper center\", bbox_to_anchor=(0.5, -0.15), ncol=8)\n",
    "plt.title(f\"Tatsächliche Wahlsequenz: {' '.join(list(my_dialed_sequence_keys))}\")\n",
    "plt.show()\n",
    "print(\"Inferenz-Dauer:\", end - start)"
   ]
  },
  {
   "cell_type": "code",
   "execution_count": null,
   "metadata": {
    "id": "1_zpgnG6CviY"
   },
   "outputs": [],
   "source": [
    "predicted_key_sequence = dtmf_gen.decode_prediction(keras_pred)\n",
    "print(\"Prognostizierte Wählsequenz:\", predicted_key_sequence)\n",
    "print(\n",
    "    \"Passt die Prognose zur tatsächlichen gewählten Sequenz?:\",\n",
    "    \"Ja!\" if predicted_key_sequence == my_dialed_sequence_keys else \"Nein!\",\n",
    ")"
   ]
  },
  {
   "cell_type": "code",
   "execution_count": null,
   "metadata": {
    "id": "G0niGbjMEhna"
   },
   "outputs": [],
   "source": [
    "import onnx\n",
    "import tf2onnx\n",
    "\n",
    "# Diese Zelle könnte einen Fehler werfen.\n",
    "# Dennoch sollte das ONNX Modell korrekt exportiert werden\n",
    "model.output_names = [\"output\"]\n",
    "\n",
    "input_signature = [\n",
    "    tf.TensorSpec([None, None, 1], tf.float32, name=\"input\")\n",
    "]  # TODO: time axis fixed or dynamic?\n",
    "# Use from_function for tf functions\n",
    "onnx_model, _ = tf2onnx.convert.from_keras(model, input_signature, opset=18)\n",
    "onnx.save(onnx_model, \"dtmf_classifier.onnx\")"
   ]
  },
  {
   "cell_type": "code",
   "execution_count": null,
   "metadata": {
    "id": "4EOwr_prgiN4"
   },
   "outputs": [],
   "source": [
    "import onnx\n",
    "from onnxconverter_common import float16\n",
    "\n",
    "onnx_model = onnx.load(\"dtmf_classifier.onnx\")\n",
    "onnx_model_fp16 = float16.convert_float_to_float16(\n",
    "    onnx_model,\n",
    "    min_positive_val=1e-7,\n",
    "    max_finite_val=1e4,\n",
    "    keep_io_types=True,\n",
    "    disable_shape_infer=False,\n",
    "    op_block_list=None,\n",
    "    node_block_list=None,\n",
    ")\n",
    "onnx.save(onnx_model_fp16, \"dtmf_classifier_fp16.onnx\")"
   ]
  },
  {
   "cell_type": "code",
   "execution_count": null,
   "metadata": {
    "id": "JYcDlVrLqWwx"
   },
   "outputs": [],
   "source": [
    "from techdays25.dtmf_models import DtmfClassifierOnnx\n",
    "\n",
    "onnx_classifier = DtmfClassifierOnnx(\"dtmf_classifier.onnx\")\n",
    "onnx_classifier_fp16 = DtmfClassifierOnnx(\"dtmf_classifier_fp16.onnx\")\n",
    "onnx_classifier_int8 = DtmfClassifierOnnx(\"dtmf_classifier_pre.onnx\")"
   ]
  },
  {
   "cell_type": "code",
   "execution_count": null,
   "metadata": {
    "id": "O9OUrzZa-bgt"
   },
   "outputs": [],
   "source": [
    "from techdays25 import onnx_utils\n",
    "\n",
    "onnx_utils.netron_visualize(\"dtmf_classifier.onnx\")"
   ]
  },
  {
   "cell_type": "code",
   "execution_count": null,
   "metadata": {
    "id": "7H557RUJyEhf"
   },
   "outputs": [],
   "source": [
    "onnx_prediction = onnx_classifier.predict(\n",
    "    my_dialed_sequence_signal.reshape(1, -1, 1).astype(np.float32)\n",
    ")\n",
    "predicted_key_sequence = dtmf_gen.decode_prediction(onnx_prediction)\n",
    "print(\"Predicted Sequence:\", predicted_key_sequence)\n",
    "print(\n",
    "    \"Passt die Prognose zur tatsächlichen gewählten Sequenz?:\",\n",
    "    \"Ja!\" if predicted_key_sequence == my_dialed_sequence_keys else \"Nein!\",\n",
    ")"
   ]
  },
  {
   "cell_type": "code",
   "execution_count": null,
   "metadata": {
    "id": "wZZNC80qUvnP"
   },
   "outputs": [],
   "source": [
    "# TODO: TensorRT Execution Provider\n",
    "# TODO: Validate ONNX models and Keras Model on Validation/Test data"
   ]
  },
  {
   "cell_type": "code",
   "execution_count": null,
   "metadata": {
    "id": "n_rvzFHFjpZy"
   },
   "outputs": [],
   "source": [
    "from techdays25.dtmf_models import measure_latency\n",
    "import pandas as pd\n",
    "\n",
    "n_runs = 50\n",
    "n_warmup = 10\n",
    "signal_length = 2**12\n",
    "batch_sizes = [2**i for i in range(8)]\n",
    "# model_dict = {\"keras\": lambda x: sum(np.median(x) for i in range(10)),\n",
    "#         \"onnx\": lambda x: sum(np.median(x) for i in range(5))}\n",
    "model_dict = {\n",
    "    # \"keras\": lambda x: model.predict(x, verbose=0),\n",
    "    \"onnx (FP32)\": onnx_classifier.predict,\n",
    "    \"onnx (FP16)\": onnx_classifier_fp16.predict,\n",
    "    \"onnx (INT8)\": onnx_classifier_int8.predict,\n",
    "}\n",
    "\n",
    "results = {}\n",
    "for model_name, f_predict in model_dict.items():\n",
    "    print(model_name)\n",
    "    timings = {}\n",
    "    for batch_size in batch_sizes:\n",
    "        tensor_shape = (batch_size, signal_length, 1)\n",
    "        batch_timings = measure_latency(\n",
    "            f_predict, tensor_shape=tensor_shape, n_runs=n_runs, n_warmup=n_warmup\n",
    "        )\n",
    "        timings[batch_size] = batch_timings\n",
    "\n",
    "    df = pd.DataFrame(timings)\n",
    "    results[model_name] = df"
   ]
  },
  {
   "cell_type": "code",
   "execution_count": null,
   "metadata": {
    "id": "uzxwUrIdqNFN"
   },
   "outputs": [],
   "source": [
    "import matplotlib.pyplot as plt\n",
    "import numpy as np\n",
    "import pandas as pd\n",
    "\n",
    "cmap = plt.get_cmap(\"tab10\")\n",
    "colors = [cmap(i) for i in range(len(results))]\n",
    "\n",
    "plt.figure(figsize=(8, 5))\n",
    "for (model_name, df), color in zip(results.items(), colors):\n",
    "    # Convert columns to integers for sorting\n",
    "    df.columns = df.columns.astype(int)\n",
    "    df = df[sorted(df.columns)]\n",
    "\n",
    "    # Compute medians and standard deviations\n",
    "    medians = df.median()\n",
    "    stds = df.std()\n",
    "\n",
    "    # X-axis values (sorted batch sizes)\n",
    "    x = medians.index\n",
    "\n",
    "    # Plot with connected points and error bars\n",
    "\n",
    "    plt.errorbar(\n",
    "        x,\n",
    "        medians,\n",
    "        yerr=stds,\n",
    "        fmt=\"-o\",\n",
    "        capsize=5,\n",
    "        color=color,\n",
    "        ecolor=color,\n",
    "        elinewidth=2,\n",
    "        markerfacecolor=\"white\",\n",
    "        label=model_name,\n",
    "    )\n",
    "\n",
    "# Make it pretty\n",
    "plt.xlabel(\"Batch-Größe\")\n",
    "plt.ylabel(\"Latenz [s]\")\n",
    "plt.title(\"TODO\")\n",
    "plt.grid(True, linestyle=\"--\", alpha=0.6, which=\"both\")\n",
    "# plt.xticks(x)\n",
    "plt.tight_layout()\n",
    "plt.legend()\n",
    "# plt.xscale(\"log\")\n",
    "# plt.yscale(\"log\")\n",
    "plt.show()"
   ]
  },
  {
   "cell_type": "code",
   "execution_count": null,
   "metadata": {
    "id": "xb6KDq61AI_G"
   },
   "outputs": [],
   "source": [
    "# import onnx\n",
    "# Load the ONNX model\n",
    "# model_path = \"dtmf_classifier.onnx\"\n",
    "# model = onnx.load(model_path)\n"
   ]
  },
  {
   "cell_type": "code",
   "execution_count": null,
   "metadata": {
    "id": "Yl6erovhKUfL"
   },
   "outputs": [],
   "source": [
    "from onnxruntime.quantization.shape_inference import quant_pre_process\n",
    "\n",
    "quant_pre_process(\"dtmf_classifier.onnx\", \"dtmf_classifier_pre.onnx\")"
   ]
  },
  {
   "cell_type": "code",
   "execution_count": null,
   "metadata": {
    "id": "1dIsBgCdAk-U"
   },
   "outputs": [],
   "source": [
    "from onnxruntime.quantization import (\n",
    "    quantize_dynamic,\n",
    "    QuantType,\n",
    "    CalibrationDataReader,\n",
    "    quantize_static,\n",
    "    QuantFormat,\n",
    "    quantize_dynamic,\n",
    ")\n",
    "\n",
    "\n",
    "class CalibrationDataReaderImpl(CalibrationDataReader):\n",
    "    def __init__(self):\n",
    "        # self.data = calibration_data\n",
    "        # self.data_iter = iter(self.data)\n",
    "        self.counter = 0\n",
    "\n",
    "    def get_next(self):\n",
    "        if self.counter >= 10:\n",
    "            return None\n",
    "        self.counter += 1\n",
    "        X, _ = dtmf_gen.generate_dataset(n_samples=64, t_length=2**12)\n",
    "        return {\"input\": X.astype(np.float32)}\n",
    "\n",
    "\n",
    "# Prepare calibration data\n",
    "calibration_data = None\n",
    "calibration_data_reader = CalibrationDataReaderImpl()\n",
    "\n",
    "# Quantize the model\n",
    "quantized_model_path = \"dtmf_classifier_int8.onnx\"\n",
    "\n",
    "quantize_static(\n",
    "    # quantize_dynamic(\n",
    "    \"dtmf_classifier_pre.onnx\",\n",
    "    quantized_model_path,\n",
    "    calibration_data_reader,\n",
    "    # quant_format=QuantFormat.QOperator\n",
    "    # quant_format=QuantType.QInt8,\n",
    "    # per_channel=True,\n",
    "    # weight_type=QuantType.QInt8,\n",
    "    # optimize_model=True,\n",
    ")"
   ]
  },
  {
   "cell_type": "code",
   "execution_count": null,
   "metadata": {
    "id": "eUvZQOpBDmME"
   },
   "outputs": [],
   "source": [
    "import onnxruntime as ort\n",
    "\n",
    "# Load the quantized model\n",
    "quantized_model = ort.InferenceSession(quantized_model_path)\n",
    "\n",
    "# Run inference with the quantized model\n",
    "X, Y = dtmf_gen.generate_dataset(n_samples=64, t_length=2**10)\n",
    "input_name = quantized_model.get_inputs()[0].name\n",
    "output_name = quantized_model.get_outputs()[0].name\n",
    "\n",
    "result = quantized_model.run([output_name], {input_name: X.astype(np.float32)})[0]"
   ]
  },
  {
   "cell_type": "code",
   "execution_count": null,
   "metadata": {
    "id": "Pk0jgMEAE8a6"
   },
   "outputs": [],
   "source": [
    "thresholded = (result > 0.5).astype(int)\n",
    "(thresholded == Y).sum() / Y.size"
   ]
  },
  {
   "cell_type": "code",
   "execution_count": null,
   "metadata": {
    "id": "onROy1OoTfL_"
   },
   "outputs": [],
   "source": []
  },
  {
   "cell_type": "code",
   "execution_count": null,
   "metadata": {
    "id": "nOiAOUUfH7oQ"
   },
   "outputs": [],
   "source": []
  },
  {
   "cell_type": "code",
   "execution_count": null,
   "metadata": {
    "id": "l2P3-yuoH7w8"
   },
   "outputs": [],
   "source": []
  },
  {
   "cell_type": "code",
   "execution_count": null,
   "metadata": {
    "id": "IyFnYjTSIBz-"
   },
   "outputs": [],
   "source": [
    "# Load cuDNN libraries\n",
    "import ctypes\n",
    "import glob\n",
    "import os\n",
    "import sys\n",
    "from nvidia import cudnn\n",
    "\n",
    "\n",
    "def try_load(library):\n",
    "    try:\n",
    "        ctypes.CDLL(\n",
    "            library, mode=ctypes.RTLD_GLOBAL\n",
    "        )  # Use RTLD_GLOBAL to make symbols available\n",
    "    except OSError:\n",
    "        pass\n",
    "\n",
    "\n",
    "def try_load_libs_from_dir(path):\n",
    "    # Load all .so files (Linux)\n",
    "    for lib in glob.iglob(os.path.join(path, \"*.so*\")):\n",
    "        print(\"try:\", lib)\n",
    "        try_load(lib)\n",
    "\n",
    "\n",
    "# Get the cudnn library path\n",
    "CUDNN_LIB_DIR = os.path.join(cudnn.__path__[0], \"lib\")\n",
    "print(CUDNN_LIB_DIR)\n",
    "\n",
    "# Try loading all libraries in the cudnn lib directory\n",
    "# try_load_libs_from_dir(CUDNN_LIB_DIR)"
   ]
  },
  {
   "cell_type": "code",
   "execution_count": null,
   "metadata": {
    "id": "bbQfmvwtIUei"
   },
   "outputs": [],
   "source": [
    "# Import tensorrt_libs\n",
    "import tensorrt_libs\n",
    "\n",
    "# Import ONNX dependencies\n",
    "import onnxruntime as ort  # Import the ONNX Runtime\n",
    "from onnxruntime.tools.symbolic_shape_infer import SymbolicShapeInference\n",
    "from onnxruntime.quantization import (\n",
    "    CalibrationDataReader,\n",
    "    CalibrationMethod,\n",
    "    create_calibrator,\n",
    "    write_calibration_table,\n",
    ")"
   ]
  },
  {
   "cell_type": "code",
   "execution_count": null,
   "metadata": {
    "id": "av7uiBncTrdZ"
   },
   "outputs": [],
   "source": [
    "ort.get_available_providers()"
   ]
  },
  {
   "cell_type": "code",
   "execution_count": null,
   "metadata": {
    "id": "aXvqz8RSJH_P"
   },
   "outputs": [],
   "source": [
    "providers = [\n",
    "    (\n",
    "        \"TensorrtExecutionProvider\",\n",
    "        {\n",
    "            \"device_id\": 0,  # The device ID\n",
    "            #'trt_max_workspace_size': 4e9, # Maximum workspace size for TensorRT engine (1e9 ≈ 1GB)\n",
    "            \"trt_fp16_enable\": False,\n",
    "            \"trt_int8_enable\": True,\n",
    "            \"trt_int8_use_native_calibration_table\": False,\n",
    "            \"trt_engine_cache_enable\": True,\n",
    "            \"trt_engine_cache_path\": \"./trt_catch_dir\",\n",
    "        },\n",
    "    )\n",
    "]\n",
    "\n",
    "sess_opt = ort.SessionOptions()\n",
    "# sess_opt.graph_optimization_level = ort.GraphOptimizationLevel.ORT_DISABLE_ALL\n",
    "\n",
    "# Load the model and create an InferenceSession\n",
    "session = ort.InferenceSession(\n",
    "    \"dtmf_classifier_int8.onnx\", sess_options=sess_opt, providers=providers\n",
    ")"
   ]
  },
  {
   "cell_type": "code",
   "execution_count": null,
   "metadata": {
    "id": "dIIulQNILIaO"
   },
   "outputs": [],
   "source": [
    "# Run inference with the quantized model\n",
    "X, Y = dtmf_gen.generate_dataset(n_samples=64, t_length=2**12)\n",
    "input_name = session.get_inputs()[0].name\n",
    "output_name = session.get_outputs()[0].name\n",
    "\n",
    "result = session.run([output_name], {input_name: X.astype(np.float32)})[0]\n",
    "# result = session.run([output_name], {input_name: np.ones( (5,1) ).astype(np.float32)})[0]"
   ]
  },
  {
   "cell_type": "code",
   "execution_count": null,
   "metadata": {
    "id": "VhyOhzKuPx1N"
   },
   "outputs": [],
   "source": []
  },
  {
   "cell_type": "code",
   "execution_count": null,
   "metadata": {
    "id": "MOrk46fJK3ZM"
   },
   "outputs": [],
   "source": [
    "thresholded = (result > 0.5).astype(int)\n",
    "(thresholded == Y).sum() / Y.size"
   ]
  },
  {
   "cell_type": "code",
   "execution_count": null,
   "metadata": {
    "id": "twzCNuMFrgvd"
   },
   "outputs": [],
   "source": [
    "# <TODO>: Add custom ONNX layer which does the pre-scaling of the input signal...\n",
    "# and post-processing: rle of the signal, discard keys which are short than 23 ms\n",
    "# Save inference times of each algo in a csv file (in case of a crash)"
   ]
  },
  {
   "cell_type": "code",
   "execution_count": null,
   "metadata": {
    "id": "wlBaeR_oBUS7"
   },
   "outputs": [],
   "source": [
    "import sys\n",
    "\n",
    "sys.float_info"
   ]
  },
  {
   "cell_type": "code",
   "execution_count": null,
   "metadata": {
    "id": "frFXsleBYGPT"
   },
   "outputs": [],
   "source": [
    "import numpy as np\n",
    "import torch\n",
    "\n",
    "\n",
    "def float_to_binary_fp32(num: float) -> str:\n",
    "    \"\"\"Converts a built-in floating point number (64-bit) to its FP32 binary representation.\n",
    "\n",
    "    Args:\n",
    "        num (float): The floating point number to convert.\n",
    "\n",
    "    Returns:\n",
    "        str: A string representing the binary format of the floating point number.\n",
    "    \"\"\"\n",
    "    print(\"fp32:\", num)\n",
    "    return \"\".join(f\"{c:0>8b}\" for c in struct.pack(\"!f\", num))\n",
    "\n",
    "\n",
    "def float_to_binary_fp16(num: float) -> str:\n",
    "    \"\"\"Converts a builtin-in floating point number to a 16-bit floating point number and returns its binary representation.\n",
    "\n",
    "    Args:\n",
    "        num (float): The floating point number to convert.\n",
    "\n",
    "    Returns:\n",
    "        str: A string representing the binary format of the 16-bit floating point number.\n",
    "    \"\"\"\n",
    "    # Convert the number to a float16\n",
    "    float16_num = np.float16(num)\n",
    "\n",
    "    print(\"fp16:\", float16_num)\n",
    "\n",
    "    # Convert the float16 to bytes\n",
    "    float16_bytes = float16_num.tobytes()\n",
    "\n",
    "    # Convert the bytes to a binary string (big endian notation)\n",
    "    return \"\".join(f\"{byte:08b}\" for byte in reversed(float16_bytes))\n",
    "\n",
    "\n",
    "def float_to_binary_bf16(num: float) -> str:\n",
    "    \"\"\"Converts a floating point number to bfloat16  and returns its binary representation.\n",
    "\n",
    "    Args:\n",
    "        num (float): The floating point number to convert.\n",
    "\n",
    "    Returns:\n",
    "        str: A string representing the binary format of the bfloat16 floating point number.\n",
    "    \"\"\"\n",
    "    # Create a tensor with the given number\n",
    "    a = torch.Tensor([num])\n",
    "\n",
    "    # Convert the tensor to bfloat16\n",
    "    bf = a.bfloat16()\n",
    "\n",
    "    print(\"bf16\", bf)\n",
    "\n",
    "    # Convert the bfloat16 tensor to bytes\n",
    "    bf_bytes = bytes(bf.untyped_storage())\n",
    "\n",
    "    # Convert the bytes to a binary string (big endian notation)\n",
    "    return \"\".join(f\"{byte:08b}\" for byte in reversed(bf_bytes))\n",
    "\n",
    "\n",
    "def float_to_binary_fp8_e4m3(num: float) -> str:\n",
    "    \"\"\"Converts a  floating point number to float8 (e4m3) and returns its binary representation.\n",
    "\n",
    "    Args:\n",
    "        num (float): The floating point number to convert.\n",
    "\n",
    "    Returns:\n",
    "        str: A string representing the binary format of the float8 (e4m3) floating point number.\n",
    "    \"\"\"\n",
    "    # Create a tensor with the given number\n",
    "    a = torch.Tensor([num])\n",
    "\n",
    "    # Convert the tensor to float8 (e4m3)\n",
    "    bf = a.to(torch.float8_e4m3fn)\n",
    "\n",
    "    print(\"fp8_e4m3\", bf)\n",
    "\n",
    "    # Convert the float8 tensor to bytes\n",
    "    bf_bytes = bytes(bf.untyped_storage())\n",
    "\n",
    "    # Convert the bytes to a binary string\n",
    "    return \"\".join(f\"{byte:08b}\" for byte in bf_bytes)\n",
    "\n",
    "\n",
    "def float_to_binary_fp8_e5m2(num: float) -> str:\n",
    "    \"\"\"Converts a floating point number to float8 (e5m2)  and returns its binary representation.\n",
    "\n",
    "    Args:\n",
    "        num (float): The floating point number to convert.\n",
    "\n",
    "    Returns:\n",
    "        str: A string representing the binary format of the float8 (e5m2) floating point number.\n",
    "    \"\"\"\n",
    "    # Create a tensor with the given number\n",
    "    a = torch.Tensor([num])\n",
    "\n",
    "    # Convert the tensor to float8 (e5m2)\n",
    "    bf = a.to(torch.float8_e5m2)\n",
    "\n",
    "    print(\"fp8_e5m2\", bf)\n",
    "\n",
    "    # Convert the float8 tensor to bytes\n",
    "    bf_bytes = bytes(bf.untyped_storage())\n",
    "\n",
    "    # Convert the bytes to a binary string\n",
    "    return \"\".join(f\"{byte:08b}\" for byte in bf_bytes)\n",
    "\n",
    "\n",
    "def float_to_binary_int(num: float, bit_length: int = 8) -> str:\n",
    "    \"\"\"Converts a floating point number to its binary representation as an integer.\n",
    "\n",
    "    Args:\n",
    "        num (float): The floating point number to convert.\n",
    "        bit_length (int, optional): The bit length of the binary representation. Defaults to 8.\n",
    "\n",
    "    Returns:\n",
    "        str: A string representing the binary format of the integer part of the floating point number.\n",
    "    \"\"\"\n",
    "    return np.binary_repr(round(num), width=bit_length)\n",
    "\n",
    "\n",
    "num = -8.875074538462327 - 2**-7 - 2**-8\n",
    "float_to_binary_fp32(num)\n",
    "# float_to_binary_fp16(num)\n",
    "# float_to_binary_bf16(num)\n",
    "# float_to_binary_fp8_e4m3(num)\n",
    "# float_to_binary_fp8_e5m2(num)\n",
    "# float_to_binary_int(num, bit_length=8)"
   ]
  },
  {
   "cell_type": "code",
   "execution_count": null,
   "metadata": {
    "id": "Ubud1lCaBUS8"
   },
   "outputs": [],
   "source": [
    "-num - 2**3 - 2**-1 - 2**-2 - 2**-3 - 2**-7 - 2**-8\n",
    "\n",
    "\n",
    "(int(\"1111011100011101\", base=2) - 2**16) / 2**8"
   ]
  },
  {
   "cell_type": "code",
   "execution_count": null,
   "metadata": {
    "id": "H-X1F7z9BUS8"
   },
   "outputs": [],
   "source": [
    "import numpy as np\n",
    "\n",
    "s = \"1100100001111100\"\n",
    "b = int(s, base=2).to_bytes(2, \"little\")\n",
    "print(b)\n",
    "c = np.frombuffer(b, dtype=np.float16, count=1)\n",
    "print(c)"
   ]
  },
  {
   "cell_type": "code",
   "execution_count": null,
   "metadata": {
    "id": "dGjV-2lyBUS9"
   },
   "outputs": [],
   "source": [
    "# Binary string\n",
    "binary_string = \"11000001000011111000101100101011\"\n",
    "\n",
    "# Convert the binary string to an integer\n",
    "binary_int = int(binary_string, 2)\n",
    "\n",
    "# Convert the integer to bytes (4 bytes for float32)\n",
    "binary_bytes = binary_int.to_bytes(4, byteorder=\"big\")\n",
    "\n",
    "# Unpack the bytes to a float\n",
    "float_value = struct.unpack(\">f\", binary_bytes)[0]\n",
    "\n",
    "print(float_value)"
   ]
  }
 ],
 "metadata": {
  "colab": {
   "include_colab_link": true,
   "provenance": []
  },
  "kernelspec": {
   "display_name": "Python 3",
   "name": "python3"
  },
  "language_info": {
   "codemirror_mode": {
    "name": "ipython",
    "version": 3
   },
   "file_extension": ".py",
   "mimetype": "text/x-python",
   "name": "python",
   "nbconvert_exporter": "python",
   "pygments_lexer": "ipython3",
   "version": "3.11.0rc1"
  },
  "widgets": {
   "application/vnd.jupyter.widget-state+json": {
    "01804e43a65c4ac4b7d660aede3a55c8": {
     "model_module": "@jupyter-widgets/controls",
     "model_module_version": "1.5.0",
     "model_name": "ButtonModel",
     "state": {
      "_dom_classes": [],
      "_model_module": "@jupyter-widgets/controls",
      "_model_module_version": "1.5.0",
      "_model_name": "ButtonModel",
      "_view_count": null,
      "_view_module": "@jupyter-widgets/controls",
      "_view_module_version": "1.5.0",
      "_view_name": "ButtonView",
      "button_style": "",
      "description": "9",
      "disabled": false,
      "icon": "",
      "layout": "IPY_MODEL_46a015ef4693498a8c26769355dd302d",
      "style": "IPY_MODEL_4864b054ce2a498a9e6969f658efe9bc",
      "tooltip": ""
     }
    },
    "06d39d4409064adb916d3577d6e882d4": {
     "model_module": "@jupyter-widgets/controls",
     "model_module_version": "1.5.0",
     "model_name": "ButtonModel",
     "state": {
      "_dom_classes": [],
      "_model_module": "@jupyter-widgets/controls",
      "_model_module_version": "1.5.0",
      "_model_name": "ButtonModel",
      "_view_count": null,
      "_view_module": "@jupyter-widgets/controls",
      "_view_module_version": "1.5.0",
      "_view_name": "ButtonView",
      "button_style": "",
      "description": "*",
      "disabled": false,
      "icon": "",
      "layout": "IPY_MODEL_be1064f963414b369ae83274a25c899d",
      "style": "IPY_MODEL_37fd4e9f56db46e48acaed441dfb2fd2",
      "tooltip": ""
     }
    },
    "0fa929fa1c894fffb17089588425d0de": {
     "model_module": "@jupyter-widgets/base",
     "model_module_version": "1.2.0",
     "model_name": "LayoutModel",
     "state": {
      "_model_module": "@jupyter-widgets/base",
      "_model_module_version": "1.2.0",
      "_model_name": "LayoutModel",
      "_view_count": null,
      "_view_module": "@jupyter-widgets/base",
      "_view_module_version": "1.2.0",
      "_view_name": "LayoutView",
      "align_content": null,
      "align_items": null,
      "align_self": null,
      "border": null,
      "bottom": null,
      "display": null,
      "flex": null,
      "flex_flow": null,
      "grid_area": null,
      "grid_auto_columns": null,
      "grid_auto_flow": null,
      "grid_auto_rows": null,
      "grid_column": null,
      "grid_gap": null,
      "grid_row": null,
      "grid_template_areas": null,
      "grid_template_columns": null,
      "grid_template_rows": null,
      "height": "50px",
      "justify_content": null,
      "justify_items": null,
      "left": null,
      "margin": null,
      "max_height": null,
      "max_width": null,
      "min_height": null,
      "min_width": null,
      "object_fit": null,
      "object_position": null,
      "order": null,
      "overflow": null,
      "overflow_x": null,
      "overflow_y": null,
      "padding": null,
      "right": null,
      "top": null,
      "visibility": null,
      "width": "50px"
     }
    },
    "1632353030784af58d4c4e7dc9548493": {
     "model_module": "@jupyter-widgets/controls",
     "model_module_version": "1.5.0",
     "model_name": "ButtonStyleModel",
     "state": {
      "_model_module": "@jupyter-widgets/controls",
      "_model_module_version": "1.5.0",
      "_model_name": "ButtonStyleModel",
      "_view_count": null,
      "_view_module": "@jupyter-widgets/base",
      "_view_module_version": "1.2.0",
      "_view_name": "StyleView",
      "button_color": null,
      "font_weight": ""
     }
    },
    "24a976cbb42b442789692c65312931a3": {
     "model_module": "@jupyter-widgets/base",
     "model_module_version": "1.2.0",
     "model_name": "LayoutModel",
     "state": {
      "_model_module": "@jupyter-widgets/base",
      "_model_module_version": "1.2.0",
      "_model_name": "LayoutModel",
      "_view_count": null,
      "_view_module": "@jupyter-widgets/base",
      "_view_module_version": "1.2.0",
      "_view_name": "LayoutView",
      "align_content": null,
      "align_items": null,
      "align_self": null,
      "border": null,
      "bottom": null,
      "display": null,
      "flex": null,
      "flex_flow": null,
      "grid_area": null,
      "grid_auto_columns": null,
      "grid_auto_flow": null,
      "grid_auto_rows": null,
      "grid_column": null,
      "grid_gap": null,
      "grid_row": null,
      "grid_template_areas": null,
      "grid_template_columns": null,
      "grid_template_rows": null,
      "height": "50px",
      "justify_content": null,
      "justify_items": null,
      "left": null,
      "margin": null,
      "max_height": null,
      "max_width": null,
      "min_height": null,
      "min_width": null,
      "object_fit": null,
      "object_position": null,
      "order": null,
      "overflow": null,
      "overflow_x": null,
      "overflow_y": null,
      "padding": null,
      "right": null,
      "top": null,
      "visibility": null,
      "width": "50px"
     }
    },
    "2929f07fa13c466d908ab9e7565dc707": {
     "model_module": "@jupyter-widgets/controls",
     "model_module_version": "1.5.0",
     "model_name": "ButtonStyleModel",
     "state": {
      "_model_module": "@jupyter-widgets/controls",
      "_model_module_version": "1.5.0",
      "_model_name": "ButtonStyleModel",
      "_view_count": null,
      "_view_module": "@jupyter-widgets/base",
      "_view_module_version": "1.2.0",
      "_view_name": "StyleView",
      "button_color": null,
      "font_weight": ""
     }
    },
    "2db92e4f7a1441578dae79af7a471659": {
     "model_module": "@jupyter-widgets/base",
     "model_module_version": "1.2.0",
     "model_name": "LayoutModel",
     "state": {
      "_model_module": "@jupyter-widgets/base",
      "_model_module_version": "1.2.0",
      "_model_name": "LayoutModel",
      "_view_count": null,
      "_view_module": "@jupyter-widgets/base",
      "_view_module_version": "1.2.0",
      "_view_name": "LayoutView",
      "align_content": null,
      "align_items": null,
      "align_self": null,
      "border": null,
      "bottom": null,
      "display": null,
      "flex": null,
      "flex_flow": null,
      "grid_area": null,
      "grid_auto_columns": null,
      "grid_auto_flow": null,
      "grid_auto_rows": null,
      "grid_column": null,
      "grid_gap": null,
      "grid_row": null,
      "grid_template_areas": null,
      "grid_template_columns": null,
      "grid_template_rows": null,
      "height": "50px",
      "justify_content": null,
      "justify_items": null,
      "left": null,
      "margin": null,
      "max_height": null,
      "max_width": null,
      "min_height": null,
      "min_width": null,
      "object_fit": null,
      "object_position": null,
      "order": null,
      "overflow": null,
      "overflow_x": null,
      "overflow_y": null,
      "padding": null,
      "right": null,
      "top": null,
      "visibility": null,
      "width": "50px"
     }
    },
    "36f77ebfafbf4be5855be6c4207e7804": {
     "model_module": "@jupyter-widgets/controls",
     "model_module_version": "1.5.0",
     "model_name": "ButtonModel",
     "state": {
      "_dom_classes": [],
      "_model_module": "@jupyter-widgets/controls",
      "_model_module_version": "1.5.0",
      "_model_name": "ButtonModel",
      "_view_count": null,
      "_view_module": "@jupyter-widgets/controls",
      "_view_module_version": "1.5.0",
      "_view_name": "ButtonView",
      "button_style": "",
      "description": "#",
      "disabled": false,
      "icon": "",
      "layout": "IPY_MODEL_24a976cbb42b442789692c65312931a3",
      "style": "IPY_MODEL_3fbcf7492ed843449514fdb4722b4b4d",
      "tooltip": ""
     }
    },
    "37fd4e9f56db46e48acaed441dfb2fd2": {
     "model_module": "@jupyter-widgets/controls",
     "model_module_version": "1.5.0",
     "model_name": "ButtonStyleModel",
     "state": {
      "_model_module": "@jupyter-widgets/controls",
      "_model_module_version": "1.5.0",
      "_model_name": "ButtonStyleModel",
      "_view_count": null,
      "_view_module": "@jupyter-widgets/base",
      "_view_module_version": "1.2.0",
      "_view_name": "StyleView",
      "button_color": null,
      "font_weight": ""
     }
    },
    "3f21496b2092474a9b2edbd566b35aa8": {
     "model_module": "@jupyter-widgets/base",
     "model_module_version": "1.2.0",
     "model_name": "LayoutModel",
     "state": {
      "_model_module": "@jupyter-widgets/base",
      "_model_module_version": "1.2.0",
      "_model_name": "LayoutModel",
      "_view_count": null,
      "_view_module": "@jupyter-widgets/base",
      "_view_module_version": "1.2.0",
      "_view_name": "LayoutView",
      "align_content": null,
      "align_items": null,
      "align_self": null,
      "border": null,
      "bottom": null,
      "display": null,
      "flex": null,
      "flex_flow": null,
      "grid_area": null,
      "grid_auto_columns": null,
      "grid_auto_flow": null,
      "grid_auto_rows": null,
      "grid_column": null,
      "grid_gap": null,
      "grid_row": null,
      "grid_template_areas": null,
      "grid_template_columns": null,
      "grid_template_rows": null,
      "height": null,
      "justify_content": null,
      "justify_items": null,
      "left": null,
      "margin": null,
      "max_height": null,
      "max_width": null,
      "min_height": null,
      "min_width": null,
      "object_fit": null,
      "object_position": null,
      "order": null,
      "overflow": null,
      "overflow_x": null,
      "overflow_y": null,
      "padding": null,
      "right": null,
      "top": null,
      "visibility": null,
      "width": "300px"
     }
    },
    "3fbcf7492ed843449514fdb4722b4b4d": {
     "model_module": "@jupyter-widgets/controls",
     "model_module_version": "1.5.0",
     "model_name": "ButtonStyleModel",
     "state": {
      "_model_module": "@jupyter-widgets/controls",
      "_model_module_version": "1.5.0",
      "_model_name": "ButtonStyleModel",
      "_view_count": null,
      "_view_module": "@jupyter-widgets/base",
      "_view_module_version": "1.2.0",
      "_view_name": "StyleView",
      "button_color": null,
      "font_weight": ""
     }
    },
    "40467eeb1644469eb0c78683c0de5d64": {
     "model_module": "@jupyter-widgets/controls",
     "model_module_version": "1.5.0",
     "model_name": "ButtonStyleModel",
     "state": {
      "_model_module": "@jupyter-widgets/controls",
      "_model_module_version": "1.5.0",
      "_model_name": "ButtonStyleModel",
      "_view_count": null,
      "_view_module": "@jupyter-widgets/base",
      "_view_module_version": "1.2.0",
      "_view_name": "StyleView",
      "button_color": null,
      "font_weight": ""
     }
    },
    "46a015ef4693498a8c26769355dd302d": {
     "model_module": "@jupyter-widgets/base",
     "model_module_version": "1.2.0",
     "model_name": "LayoutModel",
     "state": {
      "_model_module": "@jupyter-widgets/base",
      "_model_module_version": "1.2.0",
      "_model_name": "LayoutModel",
      "_view_count": null,
      "_view_module": "@jupyter-widgets/base",
      "_view_module_version": "1.2.0",
      "_view_name": "LayoutView",
      "align_content": null,
      "align_items": null,
      "align_self": null,
      "border": null,
      "bottom": null,
      "display": null,
      "flex": null,
      "flex_flow": null,
      "grid_area": null,
      "grid_auto_columns": null,
      "grid_auto_flow": null,
      "grid_auto_rows": null,
      "grid_column": null,
      "grid_gap": null,
      "grid_row": null,
      "grid_template_areas": null,
      "grid_template_columns": null,
      "grid_template_rows": null,
      "height": "50px",
      "justify_content": null,
      "justify_items": null,
      "left": null,
      "margin": null,
      "max_height": null,
      "max_width": null,
      "min_height": null,
      "min_width": null,
      "object_fit": null,
      "object_position": null,
      "order": null,
      "overflow": null,
      "overflow_x": null,
      "overflow_y": null,
      "padding": null,
      "right": null,
      "top": null,
      "visibility": null,
      "width": "50px"
     }
    },
    "4864b054ce2a498a9e6969f658efe9bc": {
     "model_module": "@jupyter-widgets/controls",
     "model_module_version": "1.5.0",
     "model_name": "ButtonStyleModel",
     "state": {
      "_model_module": "@jupyter-widgets/controls",
      "_model_module_version": "1.5.0",
      "_model_name": "ButtonStyleModel",
      "_view_count": null,
      "_view_module": "@jupyter-widgets/base",
      "_view_module_version": "1.2.0",
      "_view_name": "StyleView",
      "button_color": null,
      "font_weight": ""
     }
    },
    "57358bc1a8194f26abfb907b1c10aee8": {
     "model_module": "@jupyter-widgets/controls",
     "model_module_version": "1.5.0",
     "model_name": "ButtonModel",
     "state": {
      "_dom_classes": [],
      "_model_module": "@jupyter-widgets/controls",
      "_model_module_version": "1.5.0",
      "_model_name": "ButtonModel",
      "_view_count": null,
      "_view_module": "@jupyter-widgets/controls",
      "_view_module_version": "1.5.0",
      "_view_name": "ButtonView",
      "button_style": "",
      "description": "7",
      "disabled": false,
      "icon": "",
      "layout": "IPY_MODEL_2db92e4f7a1441578dae79af7a471659",
      "style": "IPY_MODEL_f69da50bac2b4b0fb4a938a891acfdd6",
      "tooltip": ""
     }
    },
    "5a8df18932f046269b3e5795e70a9752": {
     "model_module": "@jupyter-widgets/base",
     "model_module_version": "1.2.0",
     "model_name": "LayoutModel",
     "state": {
      "_model_module": "@jupyter-widgets/base",
      "_model_module_version": "1.2.0",
      "_model_name": "LayoutModel",
      "_view_count": null,
      "_view_module": "@jupyter-widgets/base",
      "_view_module_version": "1.2.0",
      "_view_name": "LayoutView",
      "align_content": null,
      "align_items": null,
      "align_self": null,
      "border": null,
      "bottom": null,
      "display": null,
      "flex": null,
      "flex_flow": null,
      "grid_area": null,
      "grid_auto_columns": null,
      "grid_auto_flow": null,
      "grid_auto_rows": null,
      "grid_column": null,
      "grid_gap": null,
      "grid_row": null,
      "grid_template_areas": null,
      "grid_template_columns": null,
      "grid_template_rows": null,
      "height": null,
      "justify_content": null,
      "justify_items": null,
      "left": null,
      "margin": null,
      "max_height": null,
      "max_width": null,
      "min_height": null,
      "min_width": null,
      "object_fit": null,
      "object_position": null,
      "order": null,
      "overflow": null,
      "overflow_x": null,
      "overflow_y": null,
      "padding": null,
      "right": null,
      "top": null,
      "visibility": null,
      "width": null
     }
    },
    "64c8cdec3bd443029caa09baf422e897": {
     "model_module": "@jupyter-widgets/controls",
     "model_module_version": "1.5.0",
     "model_name": "HBoxModel",
     "state": {
      "_dom_classes": [],
      "_model_module": "@jupyter-widgets/controls",
      "_model_module_version": "1.5.0",
      "_model_name": "HBoxModel",
      "_view_count": null,
      "_view_module": "@jupyter-widgets/controls",
      "_view_module_version": "1.5.0",
      "_view_name": "HBoxView",
      "box_style": "",
      "children": [
       "IPY_MODEL_b9efa4a30ab94be1b4cfde9ec4a68fdd",
       "IPY_MODEL_87b052d33c6b4bfeb24e2dfc7fb42ee7",
       "IPY_MODEL_a8b7be01f4b24178a3e523813872ad2b"
      ],
      "layout": "IPY_MODEL_e61cbf44f9e643d88ba1f14b49cf99d8"
     }
    },
    "6c035d12a3124ba2a718ff8d5137f0fc": {
     "model_module": "@jupyter-widgets/controls",
     "model_module_version": "1.5.0",
     "model_name": "ButtonStyleModel",
     "state": {
      "_model_module": "@jupyter-widgets/controls",
      "_model_module_version": "1.5.0",
      "_model_name": "ButtonStyleModel",
      "_view_count": null,
      "_view_module": "@jupyter-widgets/base",
      "_view_module_version": "1.2.0",
      "_view_name": "StyleView",
      "button_color": null,
      "font_weight": ""
     }
    },
    "7dffde832b05437681893359275e1591": {
     "model_module": "@jupyter-widgets/base",
     "model_module_version": "1.2.0",
     "model_name": "LayoutModel",
     "state": {
      "_model_module": "@jupyter-widgets/base",
      "_model_module_version": "1.2.0",
      "_model_name": "LayoutModel",
      "_view_count": null,
      "_view_module": "@jupyter-widgets/base",
      "_view_module_version": "1.2.0",
      "_view_name": "LayoutView",
      "align_content": null,
      "align_items": null,
      "align_self": null,
      "border": null,
      "bottom": null,
      "display": null,
      "flex": null,
      "flex_flow": null,
      "grid_area": null,
      "grid_auto_columns": null,
      "grid_auto_flow": null,
      "grid_auto_rows": null,
      "grid_column": null,
      "grid_gap": null,
      "grid_row": null,
      "grid_template_areas": null,
      "grid_template_columns": null,
      "grid_template_rows": null,
      "height": "50px",
      "justify_content": null,
      "justify_items": null,
      "left": null,
      "margin": null,
      "max_height": null,
      "max_width": null,
      "min_height": null,
      "min_width": null,
      "object_fit": null,
      "object_position": null,
      "order": null,
      "overflow": null,
      "overflow_x": null,
      "overflow_y": null,
      "padding": null,
      "right": null,
      "top": null,
      "visibility": null,
      "width": "160px"
     }
    },
    "7f3d260c732948759d065b5eb849bbdf": {
     "model_module": "@jupyter-widgets/base",
     "model_module_version": "1.2.0",
     "model_name": "LayoutModel",
     "state": {
      "_model_module": "@jupyter-widgets/base",
      "_model_module_version": "1.2.0",
      "_model_name": "LayoutModel",
      "_view_count": null,
      "_view_module": "@jupyter-widgets/base",
      "_view_module_version": "1.2.0",
      "_view_name": "LayoutView",
      "align_content": null,
      "align_items": null,
      "align_self": null,
      "border": null,
      "bottom": null,
      "display": null,
      "flex": null,
      "flex_flow": null,
      "grid_area": null,
      "grid_auto_columns": null,
      "grid_auto_flow": null,
      "grid_auto_rows": null,
      "grid_column": null,
      "grid_gap": null,
      "grid_row": null,
      "grid_template_areas": null,
      "grid_template_columns": null,
      "grid_template_rows": null,
      "height": "50px",
      "justify_content": null,
      "justify_items": null,
      "left": null,
      "margin": null,
      "max_height": null,
      "max_width": null,
      "min_height": null,
      "min_width": null,
      "object_fit": null,
      "object_position": null,
      "order": null,
      "overflow": null,
      "overflow_x": null,
      "overflow_y": null,
      "padding": null,
      "right": null,
      "top": null,
      "visibility": null,
      "width": "50px"
     }
    },
    "7f46b4caef0242f4acf3db69c23528e8": {
     "model_module": "@jupyter-widgets/controls",
     "model_module_version": "1.5.0",
     "model_name": "ButtonStyleModel",
     "state": {
      "_model_module": "@jupyter-widgets/controls",
      "_model_module_version": "1.5.0",
      "_model_name": "ButtonStyleModel",
      "_view_count": null,
      "_view_module": "@jupyter-widgets/base",
      "_view_module_version": "1.2.0",
      "_view_name": "StyleView",
      "button_color": null,
      "font_weight": ""
     }
    },
    "87b052d33c6b4bfeb24e2dfc7fb42ee7": {
     "model_module": "@jupyter-widgets/controls",
     "model_module_version": "1.5.0",
     "model_name": "ButtonModel",
     "state": {
      "_dom_classes": [],
      "_model_module": "@jupyter-widgets/controls",
      "_model_module_version": "1.5.0",
      "_model_name": "ButtonModel",
      "_view_count": null,
      "_view_module": "@jupyter-widgets/controls",
      "_view_module_version": "1.5.0",
      "_view_name": "ButtonView",
      "button_style": "",
      "description": "2",
      "disabled": false,
      "icon": "",
      "layout": "IPY_MODEL_7f3d260c732948759d065b5eb849bbdf",
      "style": "IPY_MODEL_7f46b4caef0242f4acf3db69c23528e8",
      "tooltip": ""
     }
    },
    "8b1fc910a4c0438e8228751cb73be2d6": {
     "model_module": "@jupyter-widgets/controls",
     "model_module_version": "1.5.0",
     "model_name": "ButtonStyleModel",
     "state": {
      "_model_module": "@jupyter-widgets/controls",
      "_model_module_version": "1.5.0",
      "_model_name": "ButtonStyleModel",
      "_view_count": null,
      "_view_module": "@jupyter-widgets/base",
      "_view_module_version": "1.2.0",
      "_view_name": "StyleView",
      "button_color": null,
      "font_weight": ""
     }
    },
    "a1c5bb4df3274ac49af93840997c2064": {
     "model_module": "@jupyter-widgets/controls",
     "model_module_version": "1.5.0",
     "model_name": "DescriptionStyleModel",
     "state": {
      "_model_module": "@jupyter-widgets/controls",
      "_model_module_version": "1.5.0",
      "_model_name": "DescriptionStyleModel",
      "_view_count": null,
      "_view_module": "@jupyter-widgets/base",
      "_view_module_version": "1.2.0",
      "_view_name": "StyleView",
      "description_width": ""
     }
    },
    "a57c231c0c03490c84a8fc019e805746": {
     "model_module": "@jupyter-widgets/controls",
     "model_module_version": "1.5.0",
     "model_name": "ButtonModel",
     "state": {
      "_dom_classes": [],
      "_model_module": "@jupyter-widgets/controls",
      "_model_module_version": "1.5.0",
      "_model_name": "ButtonModel",
      "_view_count": null,
      "_view_module": "@jupyter-widgets/controls",
      "_view_module_version": "1.5.0",
      "_view_name": "ButtonView",
      "button_style": "",
      "description": "0",
      "disabled": false,
      "icon": "",
      "layout": "IPY_MODEL_a6e4a88b1c4e479481934d2be102f40e",
      "style": "IPY_MODEL_40467eeb1644469eb0c78683c0de5d64",
      "tooltip": ""
     }
    },
    "a6e4a88b1c4e479481934d2be102f40e": {
     "model_module": "@jupyter-widgets/base",
     "model_module_version": "1.2.0",
     "model_name": "LayoutModel",
     "state": {
      "_model_module": "@jupyter-widgets/base",
      "_model_module_version": "1.2.0",
      "_model_name": "LayoutModel",
      "_view_count": null,
      "_view_module": "@jupyter-widgets/base",
      "_view_module_version": "1.2.0",
      "_view_name": "LayoutView",
      "align_content": null,
      "align_items": null,
      "align_self": null,
      "border": null,
      "bottom": null,
      "display": null,
      "flex": null,
      "flex_flow": null,
      "grid_area": null,
      "grid_auto_columns": null,
      "grid_auto_flow": null,
      "grid_auto_rows": null,
      "grid_column": null,
      "grid_gap": null,
      "grid_row": null,
      "grid_template_areas": null,
      "grid_template_columns": null,
      "grid_template_rows": null,
      "height": "50px",
      "justify_content": null,
      "justify_items": null,
      "left": null,
      "margin": null,
      "max_height": null,
      "max_width": null,
      "min_height": null,
      "min_width": null,
      "object_fit": null,
      "object_position": null,
      "order": null,
      "overflow": null,
      "overflow_x": null,
      "overflow_y": null,
      "padding": null,
      "right": null,
      "top": null,
      "visibility": null,
      "width": "50px"
     }
    },
    "a84667d9a48749288c5476aa82f2ed52": {
     "model_module": "@jupyter-widgets/base",
     "model_module_version": "1.2.0",
     "model_name": "LayoutModel",
     "state": {
      "_model_module": "@jupyter-widgets/base",
      "_model_module_version": "1.2.0",
      "_model_name": "LayoutModel",
      "_view_count": null,
      "_view_module": "@jupyter-widgets/base",
      "_view_module_version": "1.2.0",
      "_view_name": "LayoutView",
      "align_content": null,
      "align_items": null,
      "align_self": null,
      "border": null,
      "bottom": null,
      "display": null,
      "flex": null,
      "flex_flow": null,
      "grid_area": null,
      "grid_auto_columns": null,
      "grid_auto_flow": null,
      "grid_auto_rows": null,
      "grid_column": null,
      "grid_gap": null,
      "grid_row": null,
      "grid_template_areas": null,
      "grid_template_columns": null,
      "grid_template_rows": null,
      "height": null,
      "justify_content": null,
      "justify_items": null,
      "left": null,
      "margin": null,
      "max_height": null,
      "max_width": null,
      "min_height": null,
      "min_width": null,
      "object_fit": null,
      "object_position": null,
      "order": null,
      "overflow": null,
      "overflow_x": null,
      "overflow_y": null,
      "padding": null,
      "right": null,
      "top": null,
      "visibility": null,
      "width": null
     }
    },
    "a8b7be01f4b24178a3e523813872ad2b": {
     "model_module": "@jupyter-widgets/controls",
     "model_module_version": "1.5.0",
     "model_name": "ButtonModel",
     "state": {
      "_dom_classes": [],
      "_model_module": "@jupyter-widgets/controls",
      "_model_module_version": "1.5.0",
      "_model_name": "ButtonModel",
      "_view_count": null,
      "_view_module": "@jupyter-widgets/controls",
      "_view_module_version": "1.5.0",
      "_view_name": "ButtonView",
      "button_style": "",
      "description": "3",
      "disabled": false,
      "icon": "",
      "layout": "IPY_MODEL_0fa929fa1c894fffb17089588425d0de",
      "style": "IPY_MODEL_1632353030784af58d4c4e7dc9548493",
      "tooltip": ""
     }
    },
    "aae0b317d41547358e7716e9c6e940ae": {
     "model_module": "@jupyter-widgets/base",
     "model_module_version": "1.2.0",
     "model_name": "LayoutModel",
     "state": {
      "_model_module": "@jupyter-widgets/base",
      "_model_module_version": "1.2.0",
      "_model_name": "LayoutModel",
      "_view_count": null,
      "_view_module": "@jupyter-widgets/base",
      "_view_module_version": "1.2.0",
      "_view_name": "LayoutView",
      "align_content": null,
      "align_items": null,
      "align_self": null,
      "border": null,
      "bottom": null,
      "display": null,
      "flex": null,
      "flex_flow": null,
      "grid_area": null,
      "grid_auto_columns": null,
      "grid_auto_flow": null,
      "grid_auto_rows": null,
      "grid_column": null,
      "grid_gap": null,
      "grid_row": null,
      "grid_template_areas": null,
      "grid_template_columns": null,
      "grid_template_rows": null,
      "height": "50px",
      "justify_content": null,
      "justify_items": null,
      "left": null,
      "margin": null,
      "max_height": null,
      "max_width": null,
      "min_height": null,
      "min_width": null,
      "object_fit": null,
      "object_position": null,
      "order": null,
      "overflow": null,
      "overflow_x": null,
      "overflow_y": null,
      "padding": null,
      "right": null,
      "top": null,
      "visibility": null,
      "width": "50px"
     }
    },
    "aba5670943a84eb28ee977c7e4286338": {
     "model_module": "@jupyter-widgets/controls",
     "model_module_version": "1.5.0",
     "model_name": "HBoxModel",
     "state": {
      "_dom_classes": [],
      "_model_module": "@jupyter-widgets/controls",
      "_model_module_version": "1.5.0",
      "_model_name": "HBoxModel",
      "_view_count": null,
      "_view_module": "@jupyter-widgets/controls",
      "_view_module_version": "1.5.0",
      "_view_name": "HBoxView",
      "box_style": "",
      "children": [
       "IPY_MODEL_c9cf05dbe2084d69a35c5eb37dc89059",
       "IPY_MODEL_ed939b28e9b54e6dbcfc72e8a7136d61",
       "IPY_MODEL_c4e4e0054d1d4b36be1592b6d50165be"
      ],
      "layout": "IPY_MODEL_a84667d9a48749288c5476aa82f2ed52"
     }
    },
    "b564faf7e8d140c69080b68bb1967fe1": {
     "model_module": "@jupyter-widgets/base",
     "model_module_version": "1.2.0",
     "model_name": "LayoutModel",
     "state": {
      "_model_module": "@jupyter-widgets/base",
      "_model_module_version": "1.2.0",
      "_model_name": "LayoutModel",
      "_view_count": null,
      "_view_module": "@jupyter-widgets/base",
      "_view_module_version": "1.2.0",
      "_view_name": "LayoutView",
      "align_content": null,
      "align_items": null,
      "align_self": null,
      "border": null,
      "bottom": null,
      "display": null,
      "flex": null,
      "flex_flow": null,
      "grid_area": null,
      "grid_auto_columns": null,
      "grid_auto_flow": null,
      "grid_auto_rows": null,
      "grid_column": null,
      "grid_gap": null,
      "grid_row": null,
      "grid_template_areas": null,
      "grid_template_columns": null,
      "grid_template_rows": null,
      "height": null,
      "justify_content": null,
      "justify_items": null,
      "left": null,
      "margin": null,
      "max_height": null,
      "max_width": null,
      "min_height": null,
      "min_width": null,
      "object_fit": null,
      "object_position": null,
      "order": null,
      "overflow": null,
      "overflow_x": null,
      "overflow_y": null,
      "padding": null,
      "right": null,
      "top": null,
      "visibility": null,
      "width": null
     }
    },
    "b9efa4a30ab94be1b4cfde9ec4a68fdd": {
     "model_module": "@jupyter-widgets/controls",
     "model_module_version": "1.5.0",
     "model_name": "ButtonModel",
     "state": {
      "_dom_classes": [],
      "_model_module": "@jupyter-widgets/controls",
      "_model_module_version": "1.5.0",
      "_model_name": "ButtonModel",
      "_view_count": null,
      "_view_module": "@jupyter-widgets/controls",
      "_view_module_version": "1.5.0",
      "_view_name": "ButtonView",
      "button_style": "",
      "description": "1",
      "disabled": false,
      "icon": "",
      "layout": "IPY_MODEL_aae0b317d41547358e7716e9c6e940ae",
      "style": "IPY_MODEL_2929f07fa13c466d908ab9e7565dc707",
      "tooltip": ""
     }
    },
    "be1064f963414b369ae83274a25c899d": {
     "model_module": "@jupyter-widgets/base",
     "model_module_version": "1.2.0",
     "model_name": "LayoutModel",
     "state": {
      "_model_module": "@jupyter-widgets/base",
      "_model_module_version": "1.2.0",
      "_model_name": "LayoutModel",
      "_view_count": null,
      "_view_module": "@jupyter-widgets/base",
      "_view_module_version": "1.2.0",
      "_view_name": "LayoutView",
      "align_content": null,
      "align_items": null,
      "align_self": null,
      "border": null,
      "bottom": null,
      "display": null,
      "flex": null,
      "flex_flow": null,
      "grid_area": null,
      "grid_auto_columns": null,
      "grid_auto_flow": null,
      "grid_auto_rows": null,
      "grid_column": null,
      "grid_gap": null,
      "grid_row": null,
      "grid_template_areas": null,
      "grid_template_columns": null,
      "grid_template_rows": null,
      "height": "50px",
      "justify_content": null,
      "justify_items": null,
      "left": null,
      "margin": null,
      "max_height": null,
      "max_width": null,
      "min_height": null,
      "min_width": null,
      "object_fit": null,
      "object_position": null,
      "order": null,
      "overflow": null,
      "overflow_x": null,
      "overflow_y": null,
      "padding": null,
      "right": null,
      "top": null,
      "visibility": null,
      "width": "50px"
     }
    },
    "c25c5ab150f3487b823568e5d0dd5df0": {
     "model_module": "@jupyter-widgets/controls",
     "model_module_version": "1.5.0",
     "model_name": "HBoxModel",
     "state": {
      "_dom_classes": [],
      "_model_module": "@jupyter-widgets/controls",
      "_model_module_version": "1.5.0",
      "_model_name": "HBoxModel",
      "_view_count": null,
      "_view_module": "@jupyter-widgets/controls",
      "_view_module_version": "1.5.0",
      "_view_name": "HBoxView",
      "box_style": "",
      "children": [
       "IPY_MODEL_57358bc1a8194f26abfb907b1c10aee8",
       "IPY_MODEL_fa51be5a5ab44ea4a948692f50a9a53d",
       "IPY_MODEL_01804e43a65c4ac4b7d660aede3a55c8"
      ],
      "layout": "IPY_MODEL_5a8df18932f046269b3e5795e70a9752"
     }
    },
    "c4e4e0054d1d4b36be1592b6d50165be": {
     "model_module": "@jupyter-widgets/controls",
     "model_module_version": "1.5.0",
     "model_name": "ButtonModel",
     "state": {
      "_dom_classes": [],
      "_model_module": "@jupyter-widgets/controls",
      "_model_module_version": "1.5.0",
      "_model_name": "ButtonModel",
      "_view_count": null,
      "_view_module": "@jupyter-widgets/controls",
      "_view_module_version": "1.5.0",
      "_view_name": "ButtonView",
      "button_style": "",
      "description": "6",
      "disabled": false,
      "icon": "",
      "layout": "IPY_MODEL_d577a78cbcd5489598f4d07f68fff91c",
      "style": "IPY_MODEL_6c035d12a3124ba2a718ff8d5137f0fc",
      "tooltip": ""
     }
    },
    "c4e50fc2f76b4f29b1a20f4185019650": {
     "model_module": "@jupyter-widgets/controls",
     "model_module_version": "1.5.0",
     "model_name": "TextModel",
     "state": {
      "_dom_classes": [],
      "_model_module": "@jupyter-widgets/controls",
      "_model_module_version": "1.5.0",
      "_model_name": "TextModel",
      "_view_count": null,
      "_view_module": "@jupyter-widgets/controls",
      "_view_module_version": "1.5.0",
      "_view_name": "TextView",
      "continuous_update": true,
      "description": "Dial Sequence:",
      "description_tooltip": null,
      "disabled": true,
      "layout": "IPY_MODEL_3f21496b2092474a9b2edbd566b35aa8",
      "placeholder": "Dial sequence will appear here...",
      "style": "IPY_MODEL_a1c5bb4df3274ac49af93840997c2064",
      "value": ""
     }
    },
    "c53f6ef37ce04e0e9cf1b6bef57a7a62": {
     "model_module": "@jupyter-widgets/base",
     "model_module_version": "1.2.0",
     "model_name": "LayoutModel",
     "state": {
      "_model_module": "@jupyter-widgets/base",
      "_model_module_version": "1.2.0",
      "_model_name": "LayoutModel",
      "_view_count": null,
      "_view_module": "@jupyter-widgets/base",
      "_view_module_version": "1.2.0",
      "_view_name": "LayoutView",
      "align_content": null,
      "align_items": null,
      "align_self": null,
      "border": null,
      "bottom": null,
      "display": null,
      "flex": null,
      "flex_flow": null,
      "grid_area": null,
      "grid_auto_columns": null,
      "grid_auto_flow": null,
      "grid_auto_rows": null,
      "grid_column": null,
      "grid_gap": null,
      "grid_row": null,
      "grid_template_areas": null,
      "grid_template_columns": null,
      "grid_template_rows": null,
      "height": "50px",
      "justify_content": null,
      "justify_items": null,
      "left": null,
      "margin": null,
      "max_height": null,
      "max_width": null,
      "min_height": null,
      "min_width": null,
      "object_fit": null,
      "object_position": null,
      "order": null,
      "overflow": null,
      "overflow_x": null,
      "overflow_y": null,
      "padding": null,
      "right": null,
      "top": null,
      "visibility": null,
      "width": "50px"
     }
    },
    "c96e18ec445d4aebacc09379b916f2fc": {
     "model_module": "@jupyter-widgets/controls",
     "model_module_version": "1.5.0",
     "model_name": "ButtonStyleModel",
     "state": {
      "_model_module": "@jupyter-widgets/controls",
      "_model_module_version": "1.5.0",
      "_model_name": "ButtonStyleModel",
      "_view_count": null,
      "_view_module": "@jupyter-widgets/base",
      "_view_module_version": "1.2.0",
      "_view_name": "StyleView",
      "button_color": null,
      "font_weight": ""
     }
    },
    "c9cf05dbe2084d69a35c5eb37dc89059": {
     "model_module": "@jupyter-widgets/controls",
     "model_module_version": "1.5.0",
     "model_name": "ButtonModel",
     "state": {
      "_dom_classes": [],
      "_model_module": "@jupyter-widgets/controls",
      "_model_module_version": "1.5.0",
      "_model_name": "ButtonModel",
      "_view_count": null,
      "_view_module": "@jupyter-widgets/controls",
      "_view_module_version": "1.5.0",
      "_view_name": "ButtonView",
      "button_style": "",
      "description": "4",
      "disabled": false,
      "icon": "",
      "layout": "IPY_MODEL_da9c689df8ce448cb16435b42aa2ce6e",
      "style": "IPY_MODEL_8b1fc910a4c0438e8228751cb73be2d6",
      "tooltip": ""
     }
    },
    "ce92f8a59bc9488f91898e479c091d08": {
     "model_module": "@jupyter-widgets/base",
     "model_module_version": "1.2.0",
     "model_name": "LayoutModel",
     "state": {
      "_model_module": "@jupyter-widgets/base",
      "_model_module_version": "1.2.0",
      "_model_name": "LayoutModel",
      "_view_count": null,
      "_view_module": "@jupyter-widgets/base",
      "_view_module_version": "1.2.0",
      "_view_name": "LayoutView",
      "align_content": null,
      "align_items": null,
      "align_self": null,
      "border": null,
      "bottom": null,
      "display": null,
      "flex": null,
      "flex_flow": null,
      "grid_area": null,
      "grid_auto_columns": null,
      "grid_auto_flow": null,
      "grid_auto_rows": null,
      "grid_column": null,
      "grid_gap": null,
      "grid_row": null,
      "grid_template_areas": null,
      "grid_template_columns": null,
      "grid_template_rows": null,
      "height": "50px",
      "justify_content": null,
      "justify_items": null,
      "left": null,
      "margin": null,
      "max_height": null,
      "max_width": null,
      "min_height": null,
      "min_width": null,
      "object_fit": null,
      "object_position": null,
      "order": null,
      "overflow": null,
      "overflow_x": null,
      "overflow_y": null,
      "padding": null,
      "right": null,
      "top": null,
      "visibility": null,
      "width": "50px"
     }
    },
    "d577a78cbcd5489598f4d07f68fff91c": {
     "model_module": "@jupyter-widgets/base",
     "model_module_version": "1.2.0",
     "model_name": "LayoutModel",
     "state": {
      "_model_module": "@jupyter-widgets/base",
      "_model_module_version": "1.2.0",
      "_model_name": "LayoutModel",
      "_view_count": null,
      "_view_module": "@jupyter-widgets/base",
      "_view_module_version": "1.2.0",
      "_view_name": "LayoutView",
      "align_content": null,
      "align_items": null,
      "align_self": null,
      "border": null,
      "bottom": null,
      "display": null,
      "flex": null,
      "flex_flow": null,
      "grid_area": null,
      "grid_auto_columns": null,
      "grid_auto_flow": null,
      "grid_auto_rows": null,
      "grid_column": null,
      "grid_gap": null,
      "grid_row": null,
      "grid_template_areas": null,
      "grid_template_columns": null,
      "grid_template_rows": null,
      "height": "50px",
      "justify_content": null,
      "justify_items": null,
      "left": null,
      "margin": null,
      "max_height": null,
      "max_width": null,
      "min_height": null,
      "min_width": null,
      "object_fit": null,
      "object_position": null,
      "order": null,
      "overflow": null,
      "overflow_x": null,
      "overflow_y": null,
      "padding": null,
      "right": null,
      "top": null,
      "visibility": null,
      "width": "50px"
     }
    },
    "d880aa818ec541df8e7f2b9576ea01d0": {
     "model_module": "@jupyter-widgets/controls",
     "model_module_version": "1.5.0",
     "model_name": "ButtonStyleModel",
     "state": {
      "_model_module": "@jupyter-widgets/controls",
      "_model_module_version": "1.5.0",
      "_model_name": "ButtonStyleModel",
      "_view_count": null,
      "_view_module": "@jupyter-widgets/base",
      "_view_module_version": "1.2.0",
      "_view_name": "StyleView",
      "button_color": null,
      "font_weight": ""
     }
    },
    "da9c689df8ce448cb16435b42aa2ce6e": {
     "model_module": "@jupyter-widgets/base",
     "model_module_version": "1.2.0",
     "model_name": "LayoutModel",
     "state": {
      "_model_module": "@jupyter-widgets/base",
      "_model_module_version": "1.2.0",
      "_model_name": "LayoutModel",
      "_view_count": null,
      "_view_module": "@jupyter-widgets/base",
      "_view_module_version": "1.2.0",
      "_view_name": "LayoutView",
      "align_content": null,
      "align_items": null,
      "align_self": null,
      "border": null,
      "bottom": null,
      "display": null,
      "flex": null,
      "flex_flow": null,
      "grid_area": null,
      "grid_auto_columns": null,
      "grid_auto_flow": null,
      "grid_auto_rows": null,
      "grid_column": null,
      "grid_gap": null,
      "grid_row": null,
      "grid_template_areas": null,
      "grid_template_columns": null,
      "grid_template_rows": null,
      "height": "50px",
      "justify_content": null,
      "justify_items": null,
      "left": null,
      "margin": null,
      "max_height": null,
      "max_width": null,
      "min_height": null,
      "min_width": null,
      "object_fit": null,
      "object_position": null,
      "order": null,
      "overflow": null,
      "overflow_x": null,
      "overflow_y": null,
      "padding": null,
      "right": null,
      "top": null,
      "visibility": null,
      "width": "50px"
     }
    },
    "e61cbf44f9e643d88ba1f14b49cf99d8": {
     "model_module": "@jupyter-widgets/base",
     "model_module_version": "1.2.0",
     "model_name": "LayoutModel",
     "state": {
      "_model_module": "@jupyter-widgets/base",
      "_model_module_version": "1.2.0",
      "_model_name": "LayoutModel",
      "_view_count": null,
      "_view_module": "@jupyter-widgets/base",
      "_view_module_version": "1.2.0",
      "_view_name": "LayoutView",
      "align_content": null,
      "align_items": null,
      "align_self": null,
      "border": null,
      "bottom": null,
      "display": null,
      "flex": null,
      "flex_flow": null,
      "grid_area": null,
      "grid_auto_columns": null,
      "grid_auto_flow": null,
      "grid_auto_rows": null,
      "grid_column": null,
      "grid_gap": null,
      "grid_row": null,
      "grid_template_areas": null,
      "grid_template_columns": null,
      "grid_template_rows": null,
      "height": null,
      "justify_content": null,
      "justify_items": null,
      "left": null,
      "margin": null,
      "max_height": null,
      "max_width": null,
      "min_height": null,
      "min_width": null,
      "object_fit": null,
      "object_position": null,
      "order": null,
      "overflow": null,
      "overflow_x": null,
      "overflow_y": null,
      "padding": null,
      "right": null,
      "top": null,
      "visibility": null,
      "width": null
     }
    },
    "ed939b28e9b54e6dbcfc72e8a7136d61": {
     "model_module": "@jupyter-widgets/controls",
     "model_module_version": "1.5.0",
     "model_name": "ButtonModel",
     "state": {
      "_dom_classes": [],
      "_model_module": "@jupyter-widgets/controls",
      "_model_module_version": "1.5.0",
      "_model_name": "ButtonModel",
      "_view_count": null,
      "_view_module": "@jupyter-widgets/controls",
      "_view_module_version": "1.5.0",
      "_view_name": "ButtonView",
      "button_style": "",
      "description": "5",
      "disabled": false,
      "icon": "",
      "layout": "IPY_MODEL_ce92f8a59bc9488f91898e479c091d08",
      "style": "IPY_MODEL_d880aa818ec541df8e7f2b9576ea01d0",
      "tooltip": ""
     }
    },
    "efca2da569544246a29fbcc1cd654bd6": {
     "model_module": "@jupyter-widgets/controls",
     "model_module_version": "1.5.0",
     "model_name": "ButtonStyleModel",
     "state": {
      "_model_module": "@jupyter-widgets/controls",
      "_model_module_version": "1.5.0",
      "_model_name": "ButtonStyleModel",
      "_view_count": null,
      "_view_module": "@jupyter-widgets/base",
      "_view_module_version": "1.2.0",
      "_view_name": "StyleView",
      "button_color": null,
      "font_weight": ""
     }
    },
    "f07de4696cb84b979d12e0a49e70f5aa": {
     "model_module": "@jupyter-widgets/controls",
     "model_module_version": "1.5.0",
     "model_name": "ButtonModel",
     "state": {
      "_dom_classes": [],
      "_model_module": "@jupyter-widgets/controls",
      "_model_module_version": "1.5.0",
      "_model_name": "ButtonModel",
      "_view_count": null,
      "_view_module": "@jupyter-widgets/controls",
      "_view_module_version": "1.5.0",
      "_view_name": "ButtonView",
      "button_style": "",
      "description": "Clear",
      "disabled": false,
      "icon": "",
      "layout": "IPY_MODEL_7dffde832b05437681893359275e1591",
      "style": "IPY_MODEL_c96e18ec445d4aebacc09379b916f2fc",
      "tooltip": ""
     }
    },
    "f69da50bac2b4b0fb4a938a891acfdd6": {
     "model_module": "@jupyter-widgets/controls",
     "model_module_version": "1.5.0",
     "model_name": "ButtonStyleModel",
     "state": {
      "_model_module": "@jupyter-widgets/controls",
      "_model_module_version": "1.5.0",
      "_model_name": "ButtonStyleModel",
      "_view_count": null,
      "_view_module": "@jupyter-widgets/base",
      "_view_module_version": "1.2.0",
      "_view_name": "StyleView",
      "button_color": null,
      "font_weight": ""
     }
    },
    "fa51be5a5ab44ea4a948692f50a9a53d": {
     "model_module": "@jupyter-widgets/controls",
     "model_module_version": "1.5.0",
     "model_name": "ButtonModel",
     "state": {
      "_dom_classes": [],
      "_model_module": "@jupyter-widgets/controls",
      "_model_module_version": "1.5.0",
      "_model_name": "ButtonModel",
      "_view_count": null,
      "_view_module": "@jupyter-widgets/controls",
      "_view_module_version": "1.5.0",
      "_view_name": "ButtonView",
      "button_style": "",
      "description": "8",
      "disabled": false,
      "icon": "",
      "layout": "IPY_MODEL_c53f6ef37ce04e0e9cf1b6bef57a7a62",
      "style": "IPY_MODEL_efca2da569544246a29fbcc1cd654bd6",
      "tooltip": ""
     }
    },
    "fb9dcb2753e5494c880f97a117c95dab": {
     "model_module": "@jupyter-widgets/controls",
     "model_module_version": "1.5.0",
     "model_name": "HBoxModel",
     "state": {
      "_dom_classes": [],
      "_model_module": "@jupyter-widgets/controls",
      "_model_module_version": "1.5.0",
      "_model_name": "HBoxModel",
      "_view_count": null,
      "_view_module": "@jupyter-widgets/controls",
      "_view_module_version": "1.5.0",
      "_view_name": "HBoxView",
      "box_style": "",
      "children": [
       "IPY_MODEL_06d39d4409064adb916d3577d6e882d4",
       "IPY_MODEL_a57c231c0c03490c84a8fc019e805746",
       "IPY_MODEL_36f77ebfafbf4be5855be6c4207e7804"
      ],
      "layout": "IPY_MODEL_b564faf7e8d140c69080b68bb1967fe1"
     }
    }
   }
  }
 },
 "nbformat": 4,
 "nbformat_minor": 0
}
