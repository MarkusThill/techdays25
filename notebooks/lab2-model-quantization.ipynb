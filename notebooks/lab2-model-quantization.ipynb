{
 "cells": [
  {
   "cell_type": "markdown",
   "metadata": {},
   "source": [
    "# 🚀 Lab 2: Modellquantisierung am Beispiel eines DTMF-Klassifikationsmodells"
   ]
  },
  {
   "cell_type": "markdown",
   "metadata": {},
   "source": [
    "# Vorbereitungen: Installation der nötigen Abhängigkeiten"
   ]
  },
  {
   "cell_type": "code",
   "execution_count": null,
   "metadata": {},
   "outputs": [],
   "source": [
    "# Remove the `%%capture`, if you have the impression that something is going wrong during the setup\n",
    "%%capture\n",
    "!pip install \"techdays25[lab2] @ git+https://github.com/MarkusThill/techdays25.git@main\""
   ]
  },
  {
   "cell_type": "markdown",
   "metadata": {},
   "source": [
    "**WICHTIG: Nach der Installation der Abhängigkeiten (siehe oben) muss die Google Colab Laufzeit neugestartet werden! Im Anschluss kann mit der Ausführung der nächsten Zellen fortgefahren werden werden.**"
   ]
  },
  {
   "cell_type": "code",
   "execution_count": 1,
   "metadata": {},
   "outputs": [],
   "source": [
    "# @title Some Colab-Specific Configuration {display-mode: \"form\"}\n",
    "import sys\n",
    "\n",
    "IN_COLAB = \"google.colab\" in sys.modules\n",
    "\n",
    "if IN_COLAB:\n",
    "    from google.colab import output\n",
    "\n",
    "    output.enable_custom_widget_manager()"
   ]
  },
  {
   "cell_type": "markdown",
   "metadata": {},
   "source": [
    "## Einleitung\n",
    "- DTMF\n",
    "- Quanstisierungsansätze\n",
    "- etc."
   ]
  },
  {
   "cell_type": "markdown",
   "metadata": {},
   "source": [
    "## 📖 Wiederholung: Darstellung numerischer Datentypen (Optional)\n",
    "- Zweierkomplementdarstellung\n",
    "- IEEE-754 Standard"
   ]
  },
  {
   "cell_type": "markdown",
   "metadata": {},
   "source": [
    "### Ganzahldarstellungen/Zweierkomplementdarstellung"
   ]
  },
  {
   "cell_type": "code",
   "execution_count": null,
   "metadata": {},
   "outputs": [
    {
     "data": {
      "application/vnd.jupyter.widget-view+json": {
       "model_id": "c052205cc3df4ecb9583f0907176e555",
       "version_major": 2,
       "version_minor": 0
      },
      "text/plain": [
       "HBox(children=(ToggleButton(value=False, description='0', layout=Layout(width='40px')), ToggleButton(value=Fal…"
      ]
     },
     "metadata": {},
     "output_type": "display_data"
    },
    {
     "data": {
      "application/vnd.jupyter.widget-view+json": {
       "model_id": "ed3d8ca4a97449c4840ef332b55e987f",
       "version_major": 2,
       "version_minor": 0
      },
      "text/plain": [
       "Output()"
      ]
     },
     "metadata": {},
     "output_type": "display_data"
    }
   ],
   "source": [
    "# @title Darstellung von 16-Bit Integer Zahlen {display-mode: \"form\"}\n",
    "\n",
    "import ipywidgets as widgets\n",
    "from IPython.display import HTML\n",
    "\n",
    "# Initialize 8 toggle buttons (bits, MSB to LSB)\n",
    "bit_toggles = [\n",
    "    widgets.ToggleButton(\n",
    "        value=False, description=\"0\", layout=widgets.Layout(width=\"40px\")\n",
    "    )\n",
    "    for _ in range(8)\n",
    "]\n",
    "\n",
    "# Output widget to show results\n",
    "output = widgets.Output()\n",
    "\n",
    "\n",
    "def twos_complement(bits: list[int]) -> int:\n",
    "    \"\"\"Convert list of bits to signed integer using two's complement.\n",
    "\n",
    "    Args:\n",
    "        bits (list[int]): A list of bits representing the binary number.\n",
    "\n",
    "    Returns:\n",
    "        int: The signed integer value of the binary number.\n",
    "    \"\"\"\n",
    "    if bits[0] == 0:\n",
    "        return int(\"\".join(str(b) for b in bits), 2)\n",
    "    # If MSB is 1, it's negative\n",
    "    inverted_bits = [1 - b for b in bits]  # Flip bits\n",
    "    incremented = int(\"\".join(str(b) for b in inverted_bits), 2) + 1\n",
    "    return -incremented\n",
    "\n",
    "\n",
    "def update_display(*args) -> None:\n",
    "    \"\"\"Update the display with the current binary, decimal, and hexadecimal values.\"\"\"\n",
    "    # Read bit values (MSB to LSB)\n",
    "    bit_values = [int(btn.value) for btn in bit_toggles]\n",
    "    bit_string = \"\".join(str(b) for b in bit_values)\n",
    "\n",
    "    # Unsigned decimal value\n",
    "    unsigned_decimal = int(bit_string, 2)\n",
    "\n",
    "    # Signed decimal value (two's complement)\n",
    "    signed_decimal = twos_complement(bit_values)\n",
    "\n",
    "    # Hex representation (2 hex digits for 8 bits)\n",
    "    hex_value = hex(unsigned_decimal).upper().replace(\"X\", \"x\").replace(\"0X\", \"0x\")\n",
    "\n",
    "    # Clear previous output and update\n",
    "    output.clear_output()\n",
    "    with output:\n",
    "        display(\n",
    "            HTML(f\"\"\"\n",
    "        <h3>\n",
    "            Binary: <code>{bit_string}</code><br>\n",
    "            Unsigned Decimal: <b>{unsigned_decimal}</b><br>\n",
    "            Signed Decimal (Two's Complement): <b>{signed_decimal}</b><br>\n",
    "            Hexadecimal: <b>{hex_value}</b>\n",
    "        </h3>\n",
    "        \"\"\")\n",
    "        )\n",
    "\n",
    "    # Update button labels (0/1)\n",
    "    for btn, value in zip(bit_toggles, bit_values):\n",
    "        btn.description = str(value)\n",
    "\n",
    "\n",
    "# Attach observer to all buttons\n",
    "for btn in bit_toggles:\n",
    "    btn.observe(update_display, \"value\")\n",
    "\n",
    "# Display widget\n",
    "display(widgets.HBox(bit_toggles))\n",
    "display(output)\n",
    "\n",
    "# Initialize display\n",
    "update_display()"
   ]
  },
  {
   "cell_type": "markdown",
   "metadata": {},
   "source": [
    "#### Übungsfragen (Optional): \n",
    "- Grundlegendes Setzen von Bits: Setze das 3. Bit (von rechts) einer 8-Bit-Zahl auf 1 und alle anderen Bits auf 0. Was ist die dezimale Darstellung dieser Zahl im unsigned Format?\n",
    "Erwartete Antwort: 4\n",
    "\n",
    "- Setzen mehrerer Bits: Setze das 1., 3. und 5. Bit (von rechts) einer 8-Bit-Zahl auf 1 und alle anderen Bits auf 0. Was ist die dezimale Darstellung dieser Zahl im unsigned Format?\n",
    "Erwartete Antwort: 21\n",
    "\n",
    "- Was ist die größtmögliche bzw. kleinstmögliche Zahl die mit 8 Bit dargestellt werden können? Antwort: -128, +127\n",
    "  - Was wäre die Antwort, wenn wir statt 8-bit Integer, nun 32-bit Integer haben? \n",
    "\n",
    "- Signed vs. Unsigned Darstellung: Setze das 8. Bit (höchstwertiges Bit) auf 1 und alle anderen Bits auf 0. Was sind die dezimalen Darstellungen dieser Zahl im signed und unsigned Format?\n",
    "Erwartete Antwort: Signed: -128, Unsigned: 128\n",
    "\n",
    "- Was charakterisiert eine negative Zahl in der Zweierkomplementdarstellung (unsigned integer) im Allgmeinen? Antwort: Zumindest das vorderste Bit ist gesetzt.\n",
    "\n",
    "- Wie negiere ich eine Zahl (z.B. 32 -> -32 bzw. -71 -> 71)? Antwort: Invertieren alle Bits und Addition  von 1\n",
    "\n",
    "- Angenommen ich habe -33 als 8-bit Zahl vorliegen. Wie würde ich daraus eine 32-bit unsigned Integer Zahl machen? Antwort: Einfach noch drei Bytes voranhängen in denen alle Bits gesetzt sind.\n",
    "\n",
    "- Kombinieren von Bits: Setze das 2., 4. und 6. Bit (von rechts) einer 8-Bit-Zahl auf 1 und alle anderen Bits auf 0. Was sind die dezimalen Darstellungen dieser Zahl im signed und unsigned Format?\n",
    "Erwartete Antwort: Signed: 42, Unsigned: 42\n",
    "\n",
    "- Negative Zahlen in der Signed-Darstellung: Setze das 8. Bit (höchstwertiges Bit) und das 1. Bit (niederwertigstes Bit) auf 1 und alle anderen Bits auf 0. Was sind die dezimalen Darstellungen dieser Zahl im signed und unsigned Format?\n",
    "Erwartete Antwort: Signed: -127, Unsigned: 129\n",
    "\n",
    "- Maximale und minimale Werte: Was ist der maximale Wert, den man mit einer 8-Bit unsigned Zahl darstellen kann? Was ist der minimale Wert, den man mit einer 8-Bit signed Zahl darstellen kann?\n",
    "Erwartete Antwort: Maximale unsigned: 255, Minimale signed: -128\n",
    "\n",
    "- Bitmuster und Werte: Setze die Bits, um die Binärzahl 10101010 zu bilden. Was sind die dezimalen Darstellungen dieser Zahl im signed und unsigned Format?\n",
    "Erwartete Antwort: Signed: -86, Unsigned: 170\n",
    "\n",
    "- Alle Bits gesetzt: Setze alle Bits einer 8-Bit-Zahl auf 1. Was sind die dezimalen Darstellungen dieser Zahl im signed und unsigned Format?\n",
    "Erwartete Antwort: Signed: -1, Unsigned: 255\n",
    "\n",
    "\n",
    "- Verständnis von Überlauf: Was passiert, wenn du 1 zum maximalen Wert einer 8-Bit unsigned Zahl hinzufügst? Was passiert bei einer 8-Bit signed Zahl?\n",
    "Erwartete Antwort: Bei unsigned wird es auf 0 zurückgesetzt. Bei signed verursacht es einen Überlauf und wird auf den minimalen Wert (-128) zurückgesetzt.\n",
    "Zweierkomplement:\n",
    "\n",
    "- Erkläre, wie die Zweierkomplement-Darstellung für negative Zahlen in einer 8-Bit signed Zahl funktioniert.\n",
    "Erwartete Antwort: Im Zweierkomplement ist das höchstwertige Bit (MSB) das Vorzeichenbit. Um das Zweierkomplement einer Zahl zu finden, invertiere alle Bits und addiere 1 zum niederwertigsten Bit (LSB)."
   ]
  },
  {
   "cell_type": "markdown",
   "metadata": {},
   "source": [
    "### Fixkommadarstellungen"
   ]
  },
  {
   "cell_type": "code",
   "execution_count": null,
   "metadata": {},
   "outputs": [
    {
     "data": {
      "application/vnd.jupyter.widget-view+json": {
       "model_id": "1a2f01239bb84ff694020266d6910e56",
       "version_major": 2,
       "version_minor": 0
      },
      "text/plain": [
       "VBox(children=(HBox(children=(ToggleButton(value=False, description='0', layout=Layout(width='30px')), ToggleB…"
      ]
     },
     "metadata": {},
     "output_type": "display_data"
    },
    {
     "data": {
      "application/vnd.jupyter.widget-view+json": {
       "model_id": "d82b1189b53f4e70ba1894862645b4e9",
       "version_major": 2,
       "version_minor": 0
      },
      "text/plain": [
       "Output()"
      ]
     },
     "metadata": {},
     "output_type": "display_data"
    }
   ],
   "source": [
    "# @title Darstellung von 16-Bit Festkomma-Zahlen (engl.: fixpoint binary representations) {display-mode: \"form\"}\n",
    "import ipywidgets as widgets\n",
    "\n",
    "# Initialize 16 toggle buttons (bits, MSB to LSB)\n",
    "bit_toggles = [\n",
    "    widgets.ToggleButton(\n",
    "        value=False, description=\"0\", layout=widgets.Layout(width=\"30px\")\n",
    "    )\n",
    "    for _ in range(16)\n",
    "]\n",
    "\n",
    "# Color bars for sign, integer part, and fractional part\n",
    "color_bars = [\n",
    "    widgets.HTML(\n",
    "        value='<div style=\"width: 30px; height: 10px; background-color: red;\"></div>'\n",
    "    )\n",
    "    if i == 0\n",
    "    else widgets.HTML(\n",
    "        value='<div style=\"width: 30px; height: 10px; background-color: green;\"></div>'\n",
    "    )\n",
    "    if 1 <= i <= 7\n",
    "    else widgets.HTML(\n",
    "        value='<div style=\"width: 30px; height: 10px; background-color: blue;\"></div>'\n",
    "    )\n",
    "    for i in range(16)\n",
    "]\n",
    "\n",
    "# Output widget to show results\n",
    "output = widgets.Output()\n",
    "\n",
    "\n",
    "# def twos_complement(bits):\n",
    "#    \"\"\"Convert list of bits to signed integer using two's complement.\"\"\"\n",
    "#    if bits[0] == 0:\n",
    "#        return int(\"\".join(str(b) for b in bits), 2)\n",
    "#\n",
    "#    # If MSB is 1, it's negative\n",
    "#    inverted_bits = [1 - b for b in bits]  # Flip bits\n",
    "#    incremented = int(\"\".join(str(b) for b in inverted_bits), 2) + 1\n",
    "#    return -incremented\n",
    "\n",
    "\n",
    "def fixed_point_value(bits: list[int]) -> float:\n",
    "    \"\"\"Convert a list of bits to a fixed-point value.\n",
    "\n",
    "    Args:\n",
    "        bits (list[int]): A list of 16 bits representing the binary number in fixed-point format.\n",
    "\n",
    "    Returns:\n",
    "        float: The fixed-point value of the binary number.\n",
    "    \"\"\"\n",
    "    integer_part = bits[:8]\n",
    "    fractional_part = bits[8:]\n",
    "\n",
    "    # Calculate integer value\n",
    "    integer_value = twos_complement(integer_part)\n",
    "\n",
    "    # Calculate fractional value\n",
    "    fractional_value = sum(\n",
    "        bit * 2 ** (-i) for i, bit in enumerate(fractional_part, start=1)\n",
    "    )\n",
    "\n",
    "    return integer_value + fractional_value\n",
    "\n",
    "\n",
    "def update_display(*args) -> None:\n",
    "    \"\"\"Update the display with the current binary, decimal, and hexadecimal values.\"\"\"\n",
    "    # Read bit values (MSB to LSB)\n",
    "    bit_values = [int(btn.value) for btn in bit_toggles]\n",
    "    bit_string = \"\".join(str(b) for b in bit_values)\n",
    "\n",
    "    # Unsigned decimal value\n",
    "    unsigned_decimal = int(bit_string, 2)\n",
    "\n",
    "    # Signed decimal value (two's complement)\n",
    "    signed_decimal = twos_complement(bit_values)\n",
    "\n",
    "    # Fixed-point value\n",
    "    fixed_point_decimal = fixed_point_value(bit_values)\n",
    "\n",
    "    # Hex representation (4 hex digits for 16 bits)\n",
    "    hex_value = hex(unsigned_decimal).upper().replace(\"X\", \"x\").replace(\"0X\", \"0x\")\n",
    "\n",
    "    # Clear previous output and update\n",
    "    output.clear_output()\n",
    "    with output:\n",
    "        display(\n",
    "            HTML(f\"\"\"\n",
    "        <h3>\n",
    "            Binary: <code>\n",
    "                <span style=\"color: red;\">{bit_string[0]}</span>\n",
    "                <span style=\"color: green;\">{bit_string[1:8]}</span>.\n",
    "                <span style=\"color: blue;\">{bit_string[8:]}</span>\n",
    "            </code><br>\n",
    "            Unsigned Decimal: <b>{unsigned_decimal}</b><br>\n",
    "            Signed Decimal (Two's Complement): <b>{signed_decimal}</b><br>\n",
    "            Fixed-Point Decimal: <b>{fixed_point_decimal}</b><br>\n",
    "            Hexadecimal: <b>{hex_value}</b>\n",
    "        </h3>\n",
    "        \"\"\")\n",
    "        )\n",
    "\n",
    "    # Update button labels (0/1)\n",
    "    for btn, value in zip(bit_toggles, bit_values):\n",
    "        btn.description = str(value)\n",
    "\n",
    "\n",
    "# Attach observer to all buttons\n",
    "for btn in bit_toggles:\n",
    "    btn.observe(update_display, \"value\")\n",
    "\n",
    "# Display widget\n",
    "display(widgets.VBox([widgets.HBox(bit_toggles), widgets.HBox(color_bars)]))\n",
    "display(output)\n",
    "\n",
    "# Initialize display\n",
    "update_display()"
   ]
  },
  {
   "cell_type": "markdown",
   "metadata": {},
   "source": [
    "#### Übungsfragen (Optional):"
   ]
  },
  {
   "cell_type": "markdown",
   "metadata": {},
   "source": [
    "### Fließkommadarstellungen nach IEEE-754\n",
    "- TODO: Subnormal Numbers\n",
    "- Webseite mit noch mehr Darstellungen: https://evanw.github.io/float-toy/\n",
    "- Verschiedene FP8-Darstellungen: https://asawicki.info/articles/fp8_tables.php\n",
    "- https://onnx.ai/onnx/technical/float8.html"
   ]
  },
  {
   "cell_type": "code",
   "execution_count": null,
   "metadata": {},
   "outputs": [
    {
     "data": {
      "application/vnd.jupyter.widget-view+json": {
       "model_id": "ac24a87bc23a4a54bdd373ff8ffa3e06",
       "version_major": 2,
       "version_minor": 0
      },
      "text/plain": [
       "VBox(children=(HBox(children=(ToggleButton(value=False, description='0', layout=Layout(width='30px')), ToggleB…"
      ]
     },
     "metadata": {},
     "output_type": "display_data"
    },
    {
     "data": {
      "application/vnd.jupyter.widget-view+json": {
       "model_id": "4740b79720a44013835772dab34ec086",
       "version_major": 2,
       "version_minor": 0
      },
      "text/plain": [
       "Output()"
      ]
     },
     "metadata": {},
     "output_type": "display_data"
    }
   ],
   "source": [
    "# @title Darstellung von 16-Bit (FP16) Fließkomma-Zahlen {display-mode: \"form\"}\n",
    "\n",
    "import struct\n",
    "\n",
    "import ipywidgets as widgets\n",
    "import numpy as np\n",
    "\n",
    "# from IPython.display import display\n",
    "\n",
    "# Initialize 16 toggle buttons (bits)\n",
    "bit_toggles = [\n",
    "    widgets.ToggleButton(\n",
    "        value=False, description=\"0\", layout=widgets.Layout(width=\"30px\")\n",
    "    )\n",
    "    for _ in range(16)\n",
    "]\n",
    "\n",
    "# Color bars for sign, exponent, and mantissa\n",
    "color_bars = [\n",
    "    widgets.HTML(\n",
    "        value='<div style=\"width: 30px; height: 10px; background-color: red;\"></div>'\n",
    "    )\n",
    "    if i == 0\n",
    "    else widgets.HTML(\n",
    "        value='<div style=\"width: 30px; height: 10px; background-color: green;\"></div>'\n",
    "    )\n",
    "    if 1 <= i <= 5\n",
    "    else widgets.HTML(\n",
    "        value='<div style=\"width: 30px; height: 10px; background-color: blue;\"></div>'\n",
    "    )\n",
    "    for i in range(16)\n",
    "]\n",
    "\n",
    "# Output widget to show FP16 value and components\n",
    "output = widgets.Output()\n",
    "\n",
    "\n",
    "def bits_to_float16(bits: list[int]) -> np.float16:\n",
    "    \"\"\"Convert list of bits to FP16 float value.\n",
    "\n",
    "    Args:\n",
    "        bits (list[int]): A list of bits representing the binary number.\n",
    "\n",
    "    Returns:\n",
    "        np.float16: The FP16 float value of the binary number.\n",
    "    \"\"\"\n",
    "    bit_string = \"\".join(str(b) for b in bits)\n",
    "    # Convert binary string to integer\n",
    "    int_value = int(bit_string, 2)\n",
    "    # Pack as unsigned 16-bit int, then unpack as float16 using numpy\n",
    "    packed = struct.pack(\"<H\", int_value)  # Big endian 16-bit unsigned int\n",
    "    return np.frombuffer(packed, dtype=np.float16)[0]\n",
    "\n",
    "\n",
    "def update_display(*args):\n",
    "    \"\"\"Update the display with the current binary, FP16 float value, and its components.\"\"\"\n",
    "    # Read bit values (MSB to LSB)\n",
    "    bit_values = [int(btn.value) for btn in bit_toggles]\n",
    "    bit_string = \"\".join(str(b) for b in bit_values)\n",
    "\n",
    "    # Extract components\n",
    "    sign = bit_values[0]\n",
    "    exponent_bits = bit_values[1:6]\n",
    "    mantissa_bits = bit_values[6:]\n",
    "\n",
    "    exponent = int(\"\".join(str(b) for b in exponent_bits), 2)\n",
    "    exponent_unbiased = exponent - 15  # Bias = 15\n",
    "\n",
    "    mantissa_raw = \"\".join(str(b) for b in mantissa_bits)\n",
    "    (\n",
    "        1 + sum(int(b) * 2 ** (-i) for i, b in enumerate(mantissa_bits, start=1))\n",
    "        if exponent != 0\n",
    "        else 0\n",
    "    )\n",
    "\n",
    "    # Convert to float16 value\n",
    "    fp16_value = bits_to_float16(bit_values)\n",
    "\n",
    "    # Clear previous output and display new info\n",
    "    output.clear_output()\n",
    "    with output:\n",
    "        display(\n",
    "            HTML(f\"\"\"\n",
    "        <h3>\n",
    "            Binary: <code>\n",
    "                <span style=\"color: red;\">{bit_string[0]}</span>\n",
    "                <span style=\"color: green;\">{bit_string[1:6]}</span>\n",
    "                <span style=\"color: blue;\">{bit_string[6:]}</span>\n",
    "            </code><br>\n",
    "            Sign (1 bit): <b>{sign}</b> ({\"-\" if sign else \"+\"})<br>\n",
    "            Exponent (5 bits): <b>{\"\".join(str(b) for b in exponent_bits)} (biased: {exponent}, unbiased: {exponent_unbiased})</b><br>\n",
    "            Mantissa (10 bits): <b>{mantissa_raw}</b><br>\n",
    "            <hr>\n",
    "            <b>FP16 Value:</b> {fp16_value}\n",
    "        </h3>\n",
    "        \"\"\")\n",
    "        )\n",
    "\n",
    "    # Update button labels\n",
    "    for btn, value in zip(bit_toggles, bit_values):\n",
    "        btn.description = str(value)\n",
    "\n",
    "\n",
    "# Attach observer to all buttons\n",
    "for btn in bit_toggles:\n",
    "    btn.observe(update_display, \"value\")\n",
    "\n",
    "# Display widget\n",
    "display(widgets.VBox([widgets.HBox(bit_toggles), widgets.HBox(color_bars)]))\n",
    "display(output)\n",
    "\n",
    "# Initialize output\n",
    "update_display()  # 0 01111 0000000001 ^=^ 1.00097656"
   ]
  },
  {
   "cell_type": "markdown",
   "metadata": {},
   "source": [
    "#### Übungsfragen (Optional):\n",
    "- Gibt es einen Unterschied zwischen +0.0 und -0.0?\n",
    "- Wie stelle ich `+Inf` bzw. `-Inf` dar?\n",
    "- Wie stelle ich `NaN` dar?\n",
    "- Was ergibt der Vergleich `float(\"nan\") != float(\"nan\")`?"
   ]
  },
  {
   "cell_type": "code",
   "execution_count": null,
   "metadata": {},
   "outputs": [
    {
     "data": {
      "text/plain": [
       "True"
      ]
     },
     "execution_count": 10,
     "metadata": {},
     "output_type": "execute_result"
    }
   ],
   "source": []
  },
  {
   "cell_type": "markdown",
   "metadata": {},
   "source": [
    "# Case Study 1: Quantisierung eines einfachen Modells (aus Lab 1) \n",
    "- Gotchas: zu große, kleine inputs, numerische Abweichungen. Ggfs.: Sehr kleines Gewicht, sehr großer Input."
   ]
  },
  {
   "cell_type": "markdown",
   "metadata": {},
   "source": [
    "# Case Study 2: Klassifizierung von DTMF (dual-tone multi-frequency) Wählsignalen\n"
   ]
  },
  {
   "cell_type": "markdown",
   "metadata": {},
   "source": [
    "## Einführung"
   ]
  },
  {
   "cell_type": "code",
   "execution_count": 21,
   "metadata": {},
   "outputs": [],
   "source": [
    "# Trainiere Modell\n",
    "# Konvertiere Modell nach ONNX (einmal FP32, einmal FP16)\n",
    "# Untersuche Laufzeitunterschiede (auch nach batchsize)\n",
    "# Untersuche Abweichungen. Wie ändert sich die Fehlerrate des Modells für FP32/Fp16?"
   ]
  },
  {
   "cell_type": "markdown",
   "metadata": {},
   "source": []
  }
 ],
 "metadata": {
  "kernelspec": {
   "display_name": "venv",
   "language": "python",
   "name": "python3"
  },
  "language_info": {
   "codemirror_mode": {
    "name": "ipython",
    "version": 3
   },
   "file_extension": ".py",
   "mimetype": "text/x-python",
   "name": "python",
   "nbconvert_exporter": "python",
   "pygments_lexer": "ipython3",
   "version": "3.11.0rc1"
  }
 },
 "nbformat": 4,
 "nbformat_minor": 2
}
