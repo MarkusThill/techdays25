{
  "cells": [
    {
      "cell_type": "markdown",
      "metadata": {
        "id": "view-in-github",
        "colab_type": "text"
      },
      "source": [
        "<a href=\"https://colab.research.google.com/github/MarkusThill/techdays25/blob/feature-lab2-initial-draft/notebooks/lab2-model-quantization.ipynb\" target=\"_parent\"><img src=\"https://colab.research.google.com/assets/colab-badge.svg\" alt=\"Open In Colab\"/></a>"
      ]
    },
    {
      "cell_type": "markdown",
      "metadata": {
        "id": "EKWrVTJSVVy4"
      },
      "source": [
        "# 🚀 Lab 2: Effiziente Quantisierung tiefer neuronaler Netze\n",
        "- Dieses Jupyter Notebook **benötigt eine GPU Laufzeit**. Falls nicht bereits voreingestellt, kann daher der Laufzeittyp im Menü unter \"Laufzeit\" > \"Laufzeittyp ändern\" > \"Hardwarebeschleuniger\" > **\"T4 GPU\"** geändert werden!"
      ]
    },
    {
      "cell_type": "markdown",
      "metadata": {
        "id": "N2hhcmOjXQXB"
      },
      "source": [
        "Strukturierung:\n",
        "- Teil 1: Darstellung numerischer Datentypen\n",
        "- Teil 2:\n",
        "  - Quantisierung des einfachen Modells aus Lab 1: TODO: Visualize loss function for widget!\n",
        "  - Diverse Betrachtungen auf dem quantisierten Modell (Genauigkeit, etc.)\n",
        "  - Gotchas (Optional): Overflow/Underflow am Beispiel eines Average Pooling layers\n",
        "  - Subnormal Numbers\n",
        "  - ...\n",
        "- Teil 3: Quantisierung eines DTMF Klassifikationsmodells\n",
        "  - Illustration: Erzeugung einer DTMF Wählsequenz und Abspielen derselben\n",
        "  - Laden eines vortrainierten DTMF-Klassifikationsmodells (ConvNet; Keras oder PyTorch)\n",
        "  - Konvertierung nach ONNX\n",
        "  - Quantisierung nach FP16\n",
        "  - Messung der Inferenzzeiten (auch für verschiedene Batch-Sizes) und vergleich von FP32, FP16-Modell\n",
        "  - Vergleich der Genauigkeit von FP16 und FP32 Modell (wie ändert sich die Fehlerrate)\n",
        "  - Optional: Konvertierung nach FP8 und Wiederholung der obigen Schritte\n",
        "  - Optional: Profiling der ONNX Modelle. Wo liegen die \"Hotspots\" des Modells?\n",
        "  - Optional: Trainieren des Modells auf de\n"
      ]
    },
    {
      "cell_type": "markdown",
      "metadata": {
        "id": "HHjiyBN9VVy4"
      },
      "source": [
        "# Vorbereitungen: Installation der nötigen Abhängigkeiten"
      ]
    },
    {
      "cell_type": "code",
      "execution_count": null,
      "metadata": {
        "id": "-zRp0QsBVVy5"
      },
      "outputs": [],
      "source": [
        "# Remove the `%%capture`, if you have the impression that something is going wrong during the setup\n",
        "%%capture\n",
        "!pip install \"techdays25[lab2] @ git+https://github.com/MarkusThill/techdays25.git@feature-lab2-initial-draft\""
      ]
    },
    {
      "cell_type": "markdown",
      "metadata": {
        "id": "PetUdSKZVVy5"
      },
      "source": [
        "**WICHTIG: Nach der Installation der Abhängigkeiten (siehe oben) muss die Google Colab Laufzeit neugestartet werden! Im Anschluss kann mit der Ausführung der nächsten Zellen fortgefahren werden werden.**"
      ]
    },
    {
      "cell_type": "code",
      "source": [
        "!git clone \"https://github.com/MarkusThill/techdays25.git\"\n",
        "!cd techdays25 && git checkout feature-lab2-initial-draft"
      ],
      "metadata": {
        "id": "TvMZAZUyiYx3"
      },
      "execution_count": null,
      "outputs": []
    },
    {
      "cell_type": "code",
      "execution_count": null,
      "metadata": {
        "id": "Gf2wjy7rVVy5"
      },
      "outputs": [],
      "source": [
        "# @title Colab-spezifische Konfigurationen {display-mode: \"form\"}\n",
        "import sys\n",
        "\n",
        "IN_COLAB = \"google.colab\" in sys.modules\n",
        "\n",
        "if IN_COLAB:\n",
        "    from google.colab import output\n",
        "\n",
        "    output.enable_custom_widget_manager()"
      ]
    },
    {
      "cell_type": "markdown",
      "metadata": {
        "id": "NPuTmcJKVVy5"
      },
      "source": [
        "# 📘 Einleitung und Gliederung\n",
        "\n",
        "Dieses Jupyter Notebook ist in 4 Teile gegliedert. Es empfiehlt sich, die einzelnen Teile von vorne beginnend, nacheinander durchzuarbeiten.\n",
        "\n",
        "- 📖 Teil 1: Darstellung numerischer Datentypen\n",
        "  - In diesem Teil wiederholen wir verschiedene Darstellungen von numerischen Datentypen und lernen in einem interaktivem Modul die Unterschiede zwischen diesen kennen.\n",
        "- 🔢 Teil 2: Quantisierung eines linearen Regressionsmodells (aus Lab 1)\n",
        "- 🕸 Teil 3: Gotchas bei der Modellquantisierung am Beispiel eines einfachen Modells\n",
        "- 📞 Teil 4: Quantisierung eines DTMF Klassifikationsmodells"
      ]
    },
    {
      "cell_type": "markdown",
      "metadata": {
        "id": "v-emxsEEVVy5"
      },
      "source": [
        "# 📖 Teil 1: Darstellung numerischer Datentypen\n",
        "- Zweierkomplementdarstellung\n",
        "- IEEE-754 Standard"
      ]
    },
    {
      "cell_type": "markdown",
      "metadata": {
        "id": "e0MW1AnSVVy5"
      },
      "source": [
        "### Ganzahldarstellungen/Zweierkomplementdarstellung"
      ]
    },
    {
      "cell_type": "code",
      "source": [
        "# @title Darstellung von 8-Bit Integer Zahlen {display-mode: \"form\"}\n",
        "\n",
        "import ipywidgets as widgets\n",
        "from IPython.display import HTML, display\n",
        "\n",
        "# Initialize 8 toggle buttons (bits, MSB to LSB)\n",
        "bit_toggles = [\n",
        "    widgets.ToggleButton(\n",
        "        value=False, description=\"0\", layout=widgets.Layout(width=\"40px\")\n",
        "    )\n",
        "    for _ in range(8)\n",
        "]\n",
        "\n",
        "# Color bars for sign and integer part\n",
        "color_bars = [\n",
        "    widgets.HTML(\n",
        "        value='<div style=\"width: 40px; height: 10px; background-color: red;\"></div>'\n",
        "    )\n",
        "    if i == 0\n",
        "    else widgets.HTML(\n",
        "        value='<div style=\"width: 40px; height: 10px; background-color: green;\"></div>'\n",
        "    )\n",
        "    for i in range(8)\n",
        "]\n",
        "\n",
        "# Output widget to show results\n",
        "output = widgets.Output()\n",
        "\n",
        "\n",
        "def twos_complement(bits: list[int]) -> int:\n",
        "    \"\"\"Convert list of bits to signed integer using two's complement.\n",
        "\n",
        "    Args:\n",
        "        bits (list[int]): A list of bits representing the binary number.\n",
        "\n",
        "    Returns:\n",
        "        int: The signed integer value of the binary number.\n",
        "    \"\"\"\n",
        "    if bits[0] == 0:\n",
        "        return int(\"\".join(str(b) for b in bits), 2)\n",
        "    # If MSB is 1, it's negative\n",
        "    inverted_bits = [1 - b for b in bits]  # Flip bits\n",
        "    incremented = int(\"\".join(str(b) for b in inverted_bits), 2) + 1\n",
        "    return -incremented\n",
        "\n",
        "\n",
        "def update_display(*args) -> None:\n",
        "    \"\"\"Update the display with the current binary, decimal, and hexadecimal values.\"\"\"\n",
        "    # Read bit values (MSB to LSB)\n",
        "    bit_values = [int(btn.value) for btn in bit_toggles]\n",
        "    bit_string = \"\".join(str(b) for b in bit_values)\n",
        "\n",
        "    # Unsigned decimal value\n",
        "    unsigned_decimal = int(bit_string, 2)\n",
        "\n",
        "    # Signed decimal value (two's complement)\n",
        "    signed_decimal = twos_complement(bit_values)\n",
        "\n",
        "    # Hex representation (2 hex digits for 8 bits)\n",
        "    hex_value = hex(unsigned_decimal).upper().replace(\"X\", \"x\").replace(\"0X\", \"0x\")\n",
        "\n",
        "    # Clear previous output and update\n",
        "    output.clear_output()\n",
        "    with output:\n",
        "        display(\n",
        "            HTML(f\"\"\"\n",
        "        <h3>\n",
        "            Binärdarstellung: <code>\n",
        "                <span style=\"color: red;\">{bit_string[0]}</span>\n",
        "                <span style=\"color: green;\">{bit_string[1:]}</span>\n",
        "            </code><br>\n",
        "            Vorzeichenlose Dezimalzahl: <b>{unsigned_decimal}</b><br>\n",
        "            Vorzeichenbehaftete Dezimalzahl (Zweierkomplement): <b>{signed_decimal}</b><br>\n",
        "            Hexadezimaldarstellung: <b>{hex_value}</b>\n",
        "        </h3>\n",
        "        \"\"\")\n",
        "        )\n",
        "\n",
        "    # Update button labels (0/1)\n",
        "    for btn, value in zip(bit_toggles, bit_values):\n",
        "        btn.description = str(value)\n",
        "\n",
        "\n",
        "# Attach observer to all buttons\n",
        "for btn in bit_toggles:\n",
        "    btn.observe(update_display, \"value\")\n",
        "\n",
        "# Display widget\n",
        "display(widgets.VBox([widgets.HBox(bit_toggles), widgets.HBox(color_bars)]))\n",
        "display(output)\n",
        "\n",
        "# Initialize display\n",
        "update_display()\n"
      ],
      "metadata": {
        "id": "Vooo4D08nI9c"
      },
      "execution_count": null,
      "outputs": []
    },
    {
      "cell_type": "markdown",
      "metadata": {
        "id": "TDlSxZqOVVy6"
      },
      "source": [
        "#### Übungsfragen (Optional):\n",
        "\n",
        "- Was ist die größtmögliche bzw. kleinstmögliche Zahl die mit 8 Bit dargestellt werden können? Antwort: -128, +127\n",
        "\n",
        "- Signed vs. Unsigned Darstellung: Setze das 8. Bit (höchstwertiges Bit) auf 1 und alle anderen Bits auf 0. Was sind die dezimalen Darstellungen dieser Zahl im signed und unsigned Format?\n",
        "Erwartete Antwort: Signed: -128, Unsigned: 128\n",
        "\n",
        "- Was charakterisiert eine negative Zahl in der Zweierkomplementdarstellung (unsigned integer) im Allgmeinen? Antwort: Zumindest das vorderste Bit ist gesetzt.\n",
        "\n",
        "- Wie negiere ich eine Zahl (z.B. 32 -> -32 bzw. -71 -> 71)? Antwort: Invertieren aller Bits und Addition  von 1\n",
        "\n",
        "- Angenommen ich habe -33 als 8-bit Zahl vorliegen. Wie würde ich daraus eine 32-bit unsigned Integer Zahl machen? Antwort: Einfach noch drei Bytes voranhängen in denen alle Bits gesetzt sind.\n",
        "\n",
        "- Negative Zahlen in der Signed-Darstellung: Setze das 8. Bit (höchstwertiges Bit) und das 1. Bit (niederwertigstes Bit) auf 1 und alle anderen Bits auf 0. Was sind die dezimalen Darstellungen dieser Zahl im signed und unsigned Format?\n",
        "Erwartete Antwort: Signed: -127, Unsigned: 129\n",
        "\n",
        "- Maximale und minimale Werte: Was ist der maximale Wert, den man mit einer 8-Bit unsigned Zahl darstellen kann? Was ist der minimale Wert, den man mit einer 8-Bit signed Zahl darstellen kann?\n",
        "Erwartete Antwort: Maximale unsigned: 255, Minimale signed: -128\n",
        "\n",
        "- Alle Bits gesetzt: Setze alle Bits einer 8-Bit-Zahl auf 1. Was sind die dezimalen Darstellungen dieser Zahl im signed und unsigned Format?\n",
        "Erwartete Antwort: Signed: -1, Unsigned: 255"
      ]
    },
    {
      "cell_type": "markdown",
      "metadata": {
        "id": "4q1kp8MaVVy6"
      },
      "source": [
        "### Fixkommadarstellungen"
      ]
    },
    {
      "cell_type": "code",
      "source": [
        "# @title Darstellung von 16-Bit Integer/Festkomma-Zahlen {display-mode: \"form\"}\n",
        "import ipywidgets as widgets\n",
        "from IPython.display import HTML, display\n",
        "\n",
        "# Initialize 16 toggle buttons (bits, MSB to LSB)\n",
        "bit_toggles = [\n",
        "    widgets.ToggleButton(\n",
        "        value=False, description=\"0\", layout=widgets.Layout(width=\"30px\")\n",
        "    )\n",
        "    for _ in range(16)\n",
        "]\n",
        "\n",
        "# Color bars for sign, integer part, and fractional part\n",
        "color_bars = [\n",
        "    widgets.HTML(\n",
        "        value='<div style=\"width: 30px; height: 10px; background-color: red;\"></div>'\n",
        "    )\n",
        "    if i == 0\n",
        "    else widgets.HTML(\n",
        "        value='<div style=\"width: 30px; height: 10px; background-color: green;\"></div>'\n",
        "    )\n",
        "    if 1 <= i <= 7\n",
        "    else widgets.HTML(\n",
        "        value='<div style=\"width: 30px; height: 10px; background-color: blue;\"></div>'\n",
        "    )\n",
        "    for i in range(16)\n",
        "]\n",
        "\n",
        "# Output widget to show results\n",
        "output = widgets.Output()\n",
        "\n",
        "def twos_complement(bits: list[int]) -> int:\n",
        "    \"\"\"Convert list of bits to signed integer using two's complement.\n",
        "\n",
        "    Args:\n",
        "        bits (list[int]): A list of bits representing the binary number.\n",
        "\n",
        "    Returns:\n",
        "        int: The signed integer value of the binary number.\n",
        "    \"\"\"\n",
        "    if bits[0] == 0:\n",
        "        return int(\"\".join(str(b) for b in bits), 2)\n",
        "    # If MSB is 1, it's negative\n",
        "    inverted_bits = [1 - b for b in bits]  # Flip bits\n",
        "    incremented = int(\"\".join(str(b) for b in inverted_bits), 2) + 1\n",
        "    return -incremented\n",
        "\n",
        "def fixed_point_value(bits: list[int]) -> float:\n",
        "    \"\"\"Convert a list of bits to a fixed-point value.\n",
        "\n",
        "    Args:\n",
        "        bits (list[int]): A list of 16 bits representing the binary number in fixed-point format.\n",
        "\n",
        "    Returns:\n",
        "        float: The fixed-point value of the binary number.\n",
        "    \"\"\"\n",
        "    integer_part = bits[:8]\n",
        "    fractional_part = bits[8:]\n",
        "\n",
        "    # Calculate integer value\n",
        "    integer_value = twos_complement(integer_part)\n",
        "\n",
        "    # Calculate fractional value\n",
        "    fractional_value = sum(\n",
        "        bit * 2 ** (-i) for i, bit in enumerate(fractional_part, start=1)\n",
        "    )\n",
        "\n",
        "    return integer_value + fractional_value\n",
        "\n",
        "def unsigned_fixed_point_value(bits: list[int]) -> float:\n",
        "    \"\"\"Convert a list of bits to an unsigned fixed-point value.\n",
        "\n",
        "    Args:\n",
        "        bits (list[int]): A list of 16 bits representing the binary number in fixed-point format.\n",
        "\n",
        "    Returns:\n",
        "        float: The unsigned fixed-point value of the binary number.\n",
        "    \"\"\"\n",
        "    integer_part = bits[:8]\n",
        "    fractional_part = bits[8:]\n",
        "\n",
        "    # Calculate integer value\n",
        "    integer_value = int(\"\".join(str(b) for b in integer_part), 2)\n",
        "\n",
        "    # Calculate fractional value\n",
        "    fractional_value = sum(\n",
        "        bit * 2 ** (-i) for i, bit in enumerate(fractional_part, start=1)\n",
        "    )\n",
        "\n",
        "    return integer_value + fractional_value\n",
        "\n",
        "def update_display(*args) -> None:\n",
        "    \"\"\"Update the display with the current binary, decimal, and hexadecimal values.\"\"\"\n",
        "    # Read bit values (MSB to LSB)\n",
        "    bit_values = [int(btn.value) for btn in bit_toggles]\n",
        "    bit_string = \"\".join(str(b) for b in bit_values)\n",
        "\n",
        "    # Unsigned decimal value\n",
        "    unsigned_decimal = int(bit_string, 2)\n",
        "\n",
        "    # Signed decimal value (two's complement)\n",
        "    signed_decimal = twos_complement(bit_values)\n",
        "\n",
        "    # Fixed-point value\n",
        "    fixed_point_decimal = fixed_point_value(bit_values)\n",
        "\n",
        "    # Unsigned fixed-point value\n",
        "    unsigned_fixed_point_decimal = unsigned_fixed_point_value(bit_values)\n",
        "\n",
        "    # Hex representation (4 hex digits for 16 bits)\n",
        "    hex_value = hex(unsigned_decimal).upper().replace(\"X\", \"x\").replace(\"0X\", \"0x\")\n",
        "\n",
        "    # Clear previous output and update\n",
        "    output.clear_output()\n",
        "    with output:\n",
        "        display(\n",
        "            HTML(f\"\"\"\n",
        "        <h3>\n",
        "            Binärdarstellung: <code>\n",
        "                <span style=\"color: red;\">{bit_string[0]}</span>\n",
        "                <span style=\"color: green;\">{bit_string[1:8]}</span>.\n",
        "                <span style=\"color: blue;\">{bit_string[8:]}</span>\n",
        "            </code><br>\n",
        "            Vorzeichenlose Dezimalzahl: <b>{unsigned_decimal}</b><br>\n",
        "            Vorzeichenbehaftete Dezimalzahl (Zweierkomplement): <b>{signed_decimal}</b><br>\n",
        "            Vorzeichenlose Festkommazahl: <b>{unsigned_fixed_point_decimal}</b><br>\n",
        "            Vorzeichenbehaftete Festkommazahl (Zweierkomplement): <b>{fixed_point_decimal}</b><br>\n",
        "            Hexadezimaldarstellung: <b>{hex_value}</b>\n",
        "        </h3>\n",
        "        \"\"\")\n",
        "        )\n",
        "\n",
        "    # Update button labels (0/1)\n",
        "    for btn, value in zip(bit_toggles, bit_values):\n",
        "        btn.description = str(value)\n",
        "\n",
        "def reset_bits(*args) -> None:\n",
        "    \"\"\"Reset all toggle buttons to their initial state (False).\"\"\"\n",
        "    for btn in bit_toggles:\n",
        "        btn.value = False\n",
        "\n",
        "# Create reset button\n",
        "reset_button = widgets.Button(description=\"Reset\", layout=widgets.Layout(width=\"100px\"))\n",
        "reset_button.on_click(reset_bits)\n",
        "\n",
        "# Attach observer to all buttons\n",
        "for btn in bit_toggles:\n",
        "    btn.observe(update_display, \"value\")\n",
        "\n",
        "# Display widget\n",
        "display(widgets.VBox([widgets.HBox(bit_toggles), widgets.HBox(color_bars), reset_button]))\n",
        "display(output)\n",
        "\n",
        "# Initialize display\n",
        "update_display()\n"
      ],
      "metadata": {
        "id": "X37wJrQDpVIt"
      },
      "execution_count": null,
      "outputs": []
    },
    {
      "cell_type": "markdown",
      "metadata": {
        "id": "bN_oFcfjVVy6"
      },
      "source": [
        "#### Übungsfragen (Optional):\n",
        "- Was ist die kleinstmögliche vorzeichenbehaftete Festkommazahl?\n",
        "- Wie stelle ich -1.25 als Festkommazahl dar?\n",
        "- Was ist die kleinstmögliche (größtmögliche) Festkommazahl größer (kleiner) als Null?"
      ]
    },
    {
      "cell_type": "markdown",
      "metadata": {
        "id": "fmRekLfxVVy6"
      },
      "source": [
        "### Fließkommadarstellungen nach IEEE-754\n",
        "- TODO: Subnormal Numbers\n",
        "- Webseite mit noch mehr Darstellungen: https://evanw.github.io/float-toy/\n",
        "- Verschiedene FP8-Darstellungen: https://asawicki.info/articles/fp8_tables.php\n",
        "- https://onnx.ai/onnx/technical/float8.html"
      ]
    },
    {
      "cell_type": "code",
      "execution_count": null,
      "metadata": {
        "id": "V8LgC7KNVVy6"
      },
      "outputs": [],
      "source": [
        "# @title Darstellung von 16-Bit (FP16) Fließkomma-Zahlen {display-mode: \"form\"}\n",
        "\n",
        "import struct\n",
        "import ipywidgets as widgets\n",
        "import numpy as np\n",
        "from IPython.display import HTML, display\n",
        "\n",
        "# Initialize 16 toggle buttons (bits)\n",
        "bit_toggles = [\n",
        "    widgets.ToggleButton(\n",
        "        value=False, description=\"0\", layout=widgets.Layout(width=\"30px\")\n",
        "    )\n",
        "    for _ in range(16)\n",
        "]\n",
        "\n",
        "# Color bars for sign, exponent, and mantissa\n",
        "color_bars = [\n",
        "    widgets.HTML(\n",
        "        value='<div style=\"width: 30px; height: 10px; background-color: red;\"></div>'\n",
        "    )\n",
        "    if i == 0\n",
        "    else widgets.HTML(\n",
        "        value='<div style=\"width: 30px; height: 10px; background-color: green;\"></div>'\n",
        "    )\n",
        "    if 1 <= i <= 5\n",
        "    else widgets.HTML(\n",
        "        value='<div style=\"width: 30px; height: 10px; background-color: blue;\"></div>'\n",
        "    )\n",
        "    for i in range(16)\n",
        "]\n",
        "\n",
        "# Output widget to show FP16 value and components\n",
        "output = widgets.Output()\n",
        "\n",
        "def bits_to_float16(bits: list[int]) -> np.float16:\n",
        "    \"\"\"Convert list of bits to FP16 float value.\n",
        "\n",
        "    Args:\n",
        "        bits (list[int]): A list of bits representing the binary number.\n",
        "\n",
        "    Returns:\n",
        "        np.float16: The FP16 float value of the binary number.\n",
        "    \"\"\"\n",
        "    bit_string = \"\".join(str(b) for b in bits)\n",
        "    # Convert binary string to integer\n",
        "    int_value = int(bit_string, 2)\n",
        "    # Pack as unsigned 16-bit int, then unpack as float16 using numpy\n",
        "    packed = struct.pack(\"<H\", int_value)  # Big endian 16-bit unsigned int\n",
        "    return np.frombuffer(packed, dtype=np.float16)[0]\n",
        "\n",
        "def update_display(*args):\n",
        "    \"\"\"Update the display with the current binary, FP16 float value, and its components.\"\"\"\n",
        "    # Read bit values (MSB to LSB)\n",
        "    bit_values = [int(btn.value) for btn in bit_toggles]\n",
        "    bit_string = \"\".join(str(b) for b in bit_values)\n",
        "\n",
        "    # Extract components\n",
        "    sign = bit_values[0]\n",
        "    exponent_bits = bit_values[1:6]\n",
        "    mantissa_bits = bit_values[6:]\n",
        "\n",
        "    exponent = int(\"\".join(str(b) for b in exponent_bits), 2)\n",
        "    exponent_unbiased = exponent - 15  # Bias = 15\n",
        "\n",
        "    mantissa_raw = \"\".join(str(b) for b in mantissa_bits)\n",
        "    mantissa_value = (\n",
        "        1 + sum(int(b) * 2 ** (-i) for i, b in enumerate(mantissa_bits, start=1))\n",
        "        if exponent != 0\n",
        "        else 0\n",
        "    )\n",
        "\n",
        "    # Convert to float16 value\n",
        "    fp16_value = bits_to_float16(bit_values)\n",
        "\n",
        "    # Clear previous output and display new info\n",
        "    output.clear_output()\n",
        "    with output:\n",
        "        display(\n",
        "            HTML(f\"\"\"\n",
        "        <h3>\n",
        "            Binärdarstellung: <code>\n",
        "                <span style=\"color: red;\">{bit_string[0]}</span>\n",
        "                <span style=\"color: green;\">{bit_string[1:6]}</span>\n",
        "                <span style=\"color: blue;\">{bit_string[6:]}</span>\n",
        "            </code><br>\n",
        "            Vorzeichen (1 bit): <b>{sign}</b> ({\"-\" if sign else \"+\"})<br>\n",
        "            Exponent (5 bits): <b>{\"\".join(str(b) for b in exponent_bits)} (biased: {exponent}, unbiased: {exponent_unbiased})</b><br>\n",
        "            Mantisse (10 bits): <b>{mantissa_raw}</b><br>\n",
        "            <hr>\n",
        "            <b>FP16 Dezimaldarstellung: {fp16_value} </b>\n",
        "        </h3>\n",
        "        \"\"\")\n",
        "        )\n",
        "\n",
        "    # Update button labels\n",
        "    for btn, value in zip(bit_toggles, bit_values):\n",
        "        btn.description = str(value)\n",
        "\n",
        "def reset_bits(*args) -> None:\n",
        "    \"\"\"Reset all toggle buttons to their initial state (False).\"\"\"\n",
        "    for btn in bit_toggles:\n",
        "        btn.value = False\n",
        "\n",
        "# Create reset button\n",
        "reset_button = widgets.Button(description=\"Reset\", layout=widgets.Layout(width=\"100px\"))\n",
        "reset_button.on_click(reset_bits)\n",
        "\n",
        "# Attach observer to all buttons\n",
        "for btn in bit_toggles:\n",
        "    btn.observe(update_display, \"value\")\n",
        "\n",
        "# Display widget\n",
        "display(widgets.VBox([widgets.HBox(bit_toggles), widgets.HBox(color_bars), reset_button]))\n",
        "display(output)\n",
        "\n",
        "# Initialize output\n",
        "update_display()  # 0 01111 0000000001 ^=^ 1.00097656"
      ]
    },
    {
      "cell_type": "markdown",
      "metadata": {
        "id": "RBCmHSNeVVy6"
      },
      "source": [
        "#### Übungsfragen (Optional):\n",
        "- Wie würde ich 1.0, 0.5 und 7.0 darstellen?\n",
        "- Gibt es einen Unterschied zwischen +0.0 und -0.0?\n",
        "- Wie stelle ich `+Inf` bzw. `-Inf` dar?\n",
        "- Wie stelle ich `NaN` dar?\n",
        "- Was ergibt der Vergleich `float(\"nan\") != float(\"nan\")`?"
      ]
    },
    {
      "cell_type": "markdown",
      "metadata": {
        "id": "7youIav3VVy7"
      },
      "source": [
        "# 🔢 Teil 2: Quantisierung eines linearen Regressionsmodells (aus Lab 1)\n",
        "\n",
        "TODO: Einleitung hier:"
      ]
    },
    {
      "cell_type": "code",
      "execution_count": null,
      "metadata": {
        "id": "7KX9mB2kgqHH"
      },
      "outputs": [],
      "source": [
        "# Load necessary libs\n",
        "from pathlib import Path\n",
        "\n",
        "import matplotlib.pyplot as plt\n",
        "import numpy as np\n",
        "import onnx\n",
        "import pandas as pd\n",
        "from onnxconverter_common import float16\n",
        "\n",
        "from techdays25.onnx_utils import (\n",
        "    OnnxModel,\n",
        "    benchmark_models_on_batch_size,\n",
        "    plot_benchmark_results,\n",
        ")"
      ]
    },
    {
      "cell_type": "code",
      "source": [
        "# Specify, which model to use:\n",
        "onnx_model_path = Path(\"techdays25/assets/lab1/pytorch_regression.onnx\")"
      ],
      "metadata": {
        "id": "vMj1QPe8umFV"
      },
      "execution_count": null,
      "outputs": []
    },
    {
      "cell_type": "code",
      "source": [
        "# Visualize the model again:\n",
        "\n",
        "from techdays25 import onnx_utils\n",
        "onnx_utils.netron_visualize(str(onnx_model_path))"
      ],
      "metadata": {
        "id": "zHbGI4Lwuh8v"
      },
      "execution_count": null,
      "outputs": []
    },
    {
      "cell_type": "markdown",
      "metadata": {
        "id": "8Ls-fTM1gqHH"
      },
      "source": [
        "## Quantisiere ONNX Modell nach FP16"
      ]
    },
    {
      "cell_type": "code",
      "execution_count": null,
      "metadata": {
        "id": "hbYQ_9fjMCUD"
      },
      "outputs": [],
      "source": [
        "\n",
        "\n",
        "# Load the previously saved FP32 ONNX model\n",
        "regression_model_fp32 = onnx.load(onnx_model_path)\n",
        "\n",
        "# Convert the FP32 ONNX model to FP16 precision\n",
        "# The keep_io_types=True argument ensures that the input and output types remain the same\n",
        "onnx_model_fp16 = float16.convert_float_to_float16(\n",
        "    regression_model_fp32,  # path to the onnx model\n",
        "    min_positive_val=1e-7,  # Constant values will be clipped to these bounds\n",
        "    max_finite_val=1e4,  # same as above\n",
        "    keep_io_types=True,  # If set to false, the IO types will change to FP16\n",
        "    disable_shape_infer=False,  # Skips running onnx shape/type inference\n",
        "    op_block_list=None,  # A list of OPs which shall not be quantized\n",
        "    node_block_list=None,  # A list of nodes which shall not be converted\n",
        ")\n",
        "\n",
        "# Define the path where the FP16 ONNX model will be saved\n",
        "onnx_model_fp16_path = onnx_model_path.stem + \"_fp16\" + onnx_model_path.suffix\n",
        "\n",
        "# Save the converted FP16 ONNX model to the specified path\n",
        "onnx.save(onnx_model_fp16, onnx_model_fp16_path)\n",
        "\n",
        "# Print a message indicating that the FP16 ONNX model has been saved successfully\n",
        "print(f\"ONNX model (FP16) saved to {onnx_model_fp16_path}\")"
      ]
    },
    {
      "cell_type": "markdown",
      "metadata": {
        "id": "KbOmu6lDgqHI"
      },
      "source": [
        "## Quantisiere Modell nach INT8"
      ]
    },
    {
      "cell_type": "code",
      "source": [
        "# Imports:\n",
        "from typing import Any\n",
        "\n",
        "import numpy as np\n",
        "from onnxruntime.quantization import (\n",
        "    CalibrationDataReader,\n",
        "    QuantType,\n",
        "    quantize_dynamic,\n",
        "    quantize_static,\n",
        ")\n",
        "from onnxruntime.quantization.shape_inference import quant_pre_process"
      ],
      "metadata": {
        "id": "VG3h5hRa25kz"
      },
      "execution_count": null,
      "outputs": []
    },
    {
      "cell_type": "code",
      "execution_count": null,
      "metadata": {
        "id": "cemKbQh6gqHI"
      },
      "outputs": [],
      "source": [
        "# First try static quantization and then switch to dynamic quantization\n",
        "# and see how the results change\n",
        "static_quantization = True  # toggles between static and dynamic quantization\n",
        "onnx_model_path_int8 = onnx_model_path.stem + \"_int8.onnx\"\n",
        "\n",
        "quant_pre_process(onnx_model_path, onnx_model_path_int8 + \".pre\")\n",
        "\n",
        "\n",
        "class CalibrationDataReaderImpl(CalibrationDataReader):\n",
        "    \"\"\"A class for constructing calibration data for the ONNX INT8 calibration.\"\"\"\n",
        "\n",
        "    def __init__(self) -> None:\n",
        "        \"\"\"Initialize the CalibrationDataReaderImpl.\n",
        "\n",
        "        This class implements a calibration data reader for INT8 calibration.\n",
        "        It generates synthetic data for calibration purposes.\n",
        "        \"\"\"\n",
        "        self.counter: int = 0\n",
        "\n",
        "    def get_next(self) -> dict[str, Any] | None:\n",
        "        \"\"\"Get the next batch of calibration data.\n",
        "\n",
        "        This method generates synthetic data for calibration. It returns None after 16 batches.\n",
        "\n",
        "        Returns:\n",
        "            Optional[Dict[str, Any]]: A dictionary containing the input data for calibration,\n",
        "            or None if there are no more batches.\n",
        "        \"\"\"\n",
        "        if self.counter >= 16:\n",
        "            return None\n",
        "        self.counter += 1\n",
        "        X = np.linspace(-10, 10, 1000).reshape(-1, 1)\n",
        "        return {\"input\": X.astype(np.float32)}\n",
        "\n",
        "\n",
        "# Prepare calibration data\n",
        "calibration_data_reader = CalibrationDataReaderImpl()\n",
        "\n",
        "if static_quantization:\n",
        "    quantize_static(\n",
        "        onnx_model_path_int8 + \".pre\",\n",
        "        onnx_model_path_int8,\n",
        "        calibration_data_reader,\n",
        "        # quant_format=QuantFormat.QOperator,\n",
        "        per_channel=True,\n",
        "        weight_type=QuantType.QInt8,\n",
        "    )\n",
        "else:\n",
        "    quantize_dynamic(\n",
        "        onnx_model_path_int8 + \".pre\",\n",
        "        onnx_model_path_int8,\n",
        "        weight_type=QuantType.QInt8,  # Quantize weights to int8\n",
        "        per_channel=True,  # Enable per-channel quantization\n",
        "        reduce_range=True,  # Reduce the quantization range\n",
        "    )"
      ]
    },
    {
      "cell_type": "markdown",
      "metadata": {
        "id": "l_77SjqWgqHI"
      },
      "source": [
        "## Netron Visualisierung der ONNX Modelle"
      ]
    },
    {
      "cell_type": "code",
      "execution_count": null,
      "metadata": {
        "id": "pPJlTiVRgqHI"
      },
      "outputs": [],
      "source": [
        "from techdays25 import onnx_utils\n",
        "\n",
        "# Change model path accordingly:\n",
        "onnx_utils.netron_visualize(\"pytorch_regression_int8.onnx\")"
      ]
    },
    {
      "cell_type": "markdown",
      "metadata": {
        "id": "D6ZYUTq7gqHI"
      },
      "source": [
        "## Vergleich der quantisierten Modellvarianten mit ursprünglichem Modell"
      ]
    },
    {
      "cell_type": "code",
      "execution_count": null,
      "metadata": {
        "id": "fX1nKqsDgqHI"
      },
      "outputs": [],
      "source": [
        "reg_model_fp32_cpu = OnnxModel(onnx_model_path, provider=\"CPUExecutionProvider\")\n",
        "reg_model_fp16_cpu = OnnxModel(onnx_model_fp16_path, provider=\"CPUExecutionProvider\")\n",
        "reg_model_int8_cpu = OnnxModel(onnx_model_path_int8, provider=\"CPUExecutionProvider\")\n",
        "\n",
        "reg_model_fp32_gpu = OnnxModel(onnx_model_path, provider=\"CUDAExecutionProvider\")\n",
        "reg_model_fp16_gpu = OnnxModel(onnx_model_fp16_path, provider=\"CUDAExecutionProvider\")\n",
        "reg_model_int8_gpu = OnnxModel(onnx_model_path_int8, provider=\"CUDAExecutionProvider\")\n",
        "\n",
        "print(\"\\nSpezifikation des FP16 Modells:\")\n",
        "print(reg_model_fp16_cpu)"
      ]
    },
    {
      "cell_type": "code",
      "execution_count": null,
      "metadata": {
        "id": "eGYkUWNzMJGz"
      },
      "outputs": [],
      "source": [
        "# Create some random data and compare the results of the FP16 and FP32 models\n",
        "u_range = (-10, 10)  # set range for which input values shall be generated\n",
        "\n",
        "models = {\n",
        "    \"FP32/CPU\": reg_model_fp32_cpu,  # first model is the reference\n",
        "    \"FP16/CPU\": reg_model_fp16_cpu,\n",
        "    #\"INT8/CPU\": reg_model_int8_cpu,\n",
        "    # \"FP32/GPU\": reg_model_fp32_gpu,\n",
        "    \"FP16/GPU\": reg_model_fp16_gpu,\n",
        "    \"INT8/GPU\": reg_model_int8_gpu,\n",
        "}\n",
        "\n",
        "uu = np.linspace(*u_range, 15).reshape(-1, 1).astype(np.float32)\n",
        "ii_predictions = {k: m.predict(uu).flatten() for k, m in models.items()}\n",
        "\n",
        "# Extract the first key-value pair (this is the reference)\n",
        "first_key = next(iter(ii_predictions))\n",
        "first_value = ii_predictions[first_key]\n",
        "ii_diffs = {\n",
        "    \"Δ\" + k: first_value - v for k, v in ii_predictions.items() if k != first_key\n",
        "}\n",
        "\n",
        "df_data = {\"Input [U/V]\": uu.flatten()}\n",
        "\n",
        "df_data.update(ii_predictions)\n",
        "df_data.update(ii_diffs)\n",
        "\n",
        "pd.DataFrame(df_data)"
      ]
    },
    {
      "cell_type": "markdown",
      "metadata": {
        "id": "jzNNq4CUgqHI"
      },
      "source": [
        "### Fragen (Optional)\n",
        "- Wie verhalten sich die Modellausgaben/Differenzen der beiden obigen Modelle für unterschiedliche Bereiche, die in `u_range` spezifiziert werden, z.B. für `u_range=(0,100)` oder `u_range=(-1000, 1000)`?\n",
        "- Wie lassen sich mögliche Abweichungen erklären?"
      ]
    },
    {
      "cell_type": "code",
      "execution_count": null,
      "metadata": {
        "id": "vRlxbLaqgqHI"
      },
      "outputs": [],
      "source": [
        "# Comment/Uncomment the lines in `models` to unselect/select certain models\n",
        "models = {\n",
        "    \"FP32/CPU\": reg_model_fp32_cpu,  # first model is the reference\n",
        "    #\"FP16/CPU\": reg_model_fp16_cpu,\n",
        "    #\"INT8/CPU\": reg_model_int8_cpu,\n",
        "    # \"FP32/GPU\": reg_model_fp32_gpu,\n",
        "    \"FP16/GPU\": reg_model_fp16_gpu,\n",
        "    \"INT8/GPU\": reg_model_int8_gpu,\n",
        "}\n",
        "\n",
        "# systematically evaluate the model differences for a given range\n",
        "uu = np.linspace(-200, 200, 100000).reshape(-1, 1).astype(np.float32)\n",
        "\n",
        "ii_predictions = {k: m.predict(uu).flatten() for k, m in models.items()}\n",
        "# Extract the first key-value pair (this is the reference)\n",
        "ref_key = next(iter(ii_predictions))\n",
        "ref_value = ii_predictions[ref_key]\n",
        "ii_diffs = {k: ref_value - v for k, v in ii_predictions.items() if k != ref_key}\n",
        "\n",
        "plt.figure(figsize=(10, 5))\n",
        "for k, v in ii_diffs.items():\n",
        "    plt.plot(uu, v, label=k)\n",
        "\n",
        "# plt.yscale(\"symlog\", linthresh=.0001)\n",
        "plt.grid(which=\"both\")\n",
        "plt.xlabel(\"U [V]\")\n",
        "plt.ylabel(r\"$\\Delta \\hat{I}_{ref}$ [mA]\")\n",
        "plt.legend()\n",
        "plt.title(f\"Abweichungen diverser ONNX Modelle zur Referenz {first_key}\")\n",
        "plt.show()"
      ]
    },
    {
      "cell_type": "markdown",
      "source": [
        "### Fragen (Optional)\n",
        "- Unterscheiden sich die Kurven für INT8/CPU (FP16/CPU) und INT8/GPU (FP16/GPU)? Wieso?\n",
        "- Wie ist das Verhalten der Kurven für die INT8-Modelle (statisch quantisiert) bei $\\pm 10.0$ zu erklären?\n",
        "- Gibt es Unterschiede zwischen den statisch und dynamische quantisierten INT8 Modellen?\n"
      ],
      "metadata": {
        "id": "PBHXjy_NzPci"
      }
    },
    {
      "cell_type": "markdown",
      "source": [
        "## Messung der Inferenzzeiten für die quantisierten Modelle\n",
        "- Wir variieren die Batch-Size und messen die Laufzeit für jeweils $n$ Durchläufe"
      ],
      "metadata": {
        "id": "5F97gmC9waHe"
      }
    },
    {
      "cell_type": "code",
      "execution_count": null,
      "metadata": {
        "id": "FJnVIlNxgqHJ"
      },
      "outputs": [],
      "source": [
        "# measure inference times/latency for different batch sizes\n",
        "\n",
        "batch_sizes = [2**i for i in range(10, 23)]\n",
        "model_dict = {\n",
        "    \"ONNX Regression Model (FP32/CPU)\": reg_model_fp32_cpu.predict,\n",
        "    #\"ONNX Regression Model (FP16/CPU)\": reg_model_fp16_cpu.predict,\n",
        "    #\"ONNX Regression Model (INT8/CPU)\": reg_model_int8_cpu.predict,\n",
        "    \"ONNX Regression Model (FP32/GPU)\": reg_model_fp32_gpu.predict,\n",
        "    \"ONNX Regression Model (FP16/GPU)\": reg_model_fp16_gpu.predict,\n",
        "    \"ONNX Regression Model (INT8/GPU)\": reg_model_int8_gpu.predict,\n",
        "}\n",
        "\n",
        "benchmark_results = benchmark_models_on_batch_size(\n",
        "    model_dict=model_dict,\n",
        "    input_shape=(1,),\n",
        "    batch_sizes=batch_sizes,\n",
        "    n_runs=100,\n",
        "    verbose=True,\n",
        ")"
      ]
    },
    {
      "cell_type": "code",
      "execution_count": null,
      "metadata": {
        "id": "Rg8OpUBIgqHJ"
      },
      "outputs": [],
      "source": [
        "plot_benchmark_results(results=benchmark_results, title=\"Laufzeiten der unterschiedlichen quantisierten Modelle\", xscale=\"log\", yscale=None)"
      ]
    },
    {
      "cell_type": "markdown",
      "source": [
        "### Fragen (Optional)\n",
        "- Wie stark ist der Einfluss der Quantisierungen bei diesem Modell auf die Laufzeit?\n",
        "- Wie ist das Laufzeitverhalten des statisch vs. dynamisch quantisierten Modells?"
      ],
      "metadata": {
        "id": "E-_5yC16xqIe"
      }
    },
    {
      "cell_type": "markdown",
      "metadata": {
        "id": "7Fd481-eMB-R"
      },
      "source": [
        "# 🕸 Teil 3: Gotchas bei der Modellquantisierung am Beispiel eines einfachen Modells\n",
        "\n",
        "In diesem Teil werden wir uns damit befassen, welche Probleme bei der Modellquantisierung auftreten können und dies anhand eines Beispiels illustrieren. Folgende Schritte werden durchgeführt:\n",
        "- Erstellen eines benutzerdefinierten Modells in Keras zur Mittelwertbildung über entlang der Zeitachse.\n",
        "- Konvertieren des Keras-Modells in das ONNX-Format.\n",
        "- Quantisieren des ONNX-Modells von FP32 auf FP16.\n",
        "- Generierung von 3-dimensionalen Zeitreihendaten für die Modellinferenz.\n",
        "- Modellinferenz mit dem Keras-Modell.\n",
        "- Modellinferenz mit den FP32/FP16 ONNX-Modellen:\n",
        "  - Laden und Ausführen von ONNX-Modellen mit der ONNX Runtime.\n",
        "  - Vergleich der Ausgaben von FP32- und FP16-ONNX-Modellen.\n",
        "- Diskussion der Beobachtungen und möglicher Lösungen.\n"
      ]
    },
    {
      "cell_type": "markdown",
      "metadata": {
        "id": "pncih_L8dWVa"
      },
      "source": [
        "## Modelldefinition"
      ]
    },
    {
      "cell_type": "markdown",
      "metadata": {
        "id": "Ya6rTWHfamy3"
      },
      "source": [
        "Unser Modell unten nimmt einen 3-dimensionalen Eingabetensor mit den Dimensionen (Batch-Größe, Sequenzlänge, Merkmalsanzahl) entgegen. In unserem Beispiel hat der Eingabetensor die Form (2, 10000, 3), was bedeutet, dass wir zwei Batch-Elemente haben, jedes mit einer Sequenzlänge von 10000 und 3 Merkmalen pro Zeitschritt.\n",
        "\n",
        "Nach der Verarbeitung durch das Modell wird die Zeitdimension reduziert, und die Ausgabe hat die Form (Batch-Größe, Merkmalsanzahl). Für unser Beispiel ergibt sich eine Ausgabe mit der Form (2, 3). Die Ausgabe repräsentiert den Durchschnitt der Merkmale über die gesamte Sequenzlänge für jedes Batch-Element.\n",
        "\n",
        "**Beispiel (Visuelles Beispiel weiter unten)**\n",
        "\n",
        "Eingabetensor (2 x 4 x 3):\n",
        "```\n",
        "[\n",
        "  [\n",
        "    [3, 4, 5],\n",
        "    [4, 5, 6],\n",
        "    [7, 8, 9],\n",
        "    [10, 11, 12]\n",
        "  ],\n",
        "  [\n",
        "    [2, 4, 6],\n",
        "    [8, 10, 12],\n",
        "    [14, 16, 18],\n",
        "    [20, 22, 24]\n",
        "  ]\n",
        "]\n",
        "```\n",
        "\n",
        "Ausgabetensor (2 x 3):\n",
        "```\n",
        "[\n",
        "  [ 6,  7,  8],\n",
        "  [11, 13, 15]\n",
        "]\n",
        "```\n"
      ]
    },
    {
      "cell_type": "code",
      "execution_count": null,
      "metadata": {
        "id": "lBhX8Vul3feC"
      },
      "outputs": [],
      "source": [
        "import tensorflow as tf\n",
        "from tensorflow.keras import Model\n",
        "from tensorflow.keras.layers import Input, Layer\n",
        "\n",
        "\n",
        "class SumLayer(Layer):\n",
        "    \"\"\"Custom Layer to sum over time dimension of a tensor.\"\"\"\n",
        "\n",
        "    def call(self, inputs: tf.Tensor) -> tf.Tensor:\n",
        "        \"\"\"Reduce (sum) the input tensor along the time axis (axis=1).\n",
        "\n",
        "        Args:\n",
        "            inputs (tf.Tensor): The input tensor of shape (batch_size, sequence_length, feature_dim).\n",
        "\n",
        "        Returns:\n",
        "            tf.Tensor: The reduced tensor of shape (batch_size, feature_dim).\n",
        "        \"\"\"\n",
        "        return tf.reduce_sum(inputs, axis=1)\n",
        "\n",
        "\n",
        "# Custom Layer: Division by sequence length\n",
        "class DivisionLayer(Layer):\n",
        "    \"\"\"Divide a tensor by the length of the given sequence.\"\"\"\n",
        "\n",
        "    def call(self, inputs: tuple[tf.Tensor, tf.Tensor]) -> tf.Tensor:\n",
        "        \"\"\"Divide the summed tensor by the sequence length to get the average.\n",
        "\n",
        "        Args:\n",
        "            inputs (Tuple[tf.Tensor, tf.Tensor]): A tuple containing the summed tensor and the original input tensor.\n",
        "                - tensor_x (tf.Tensor): The summed tensor of shape (batch_size, feature_dim).\n",
        "                - original_input (tf.Tensor): The original input tensor of shape (batch_size, sequence_length, feature_dim).\n",
        "\n",
        "        Returns:\n",
        "            tf.Tensor: The averaged tensor of shape (batch_size, feature_dim).\n",
        "        \"\"\"\n",
        "        tensor_x, original_input = inputs\n",
        "        seq_length = tf.shape(original_input)[\n",
        "            1\n",
        "        ]  # Get the dynamic sequence length (length of the time dimension)\n",
        "        return tensor_x / tf.cast(seq_length, dtype=tensor_x.dtype)\n",
        "\n",
        "\n",
        "# Define model with separate Sum and Division layers\n",
        "def global_average_pooling_1d() -> Model:\n",
        "    \"\"\"Define a Keras model with separate Sum and Division layers for global average pooling.\n",
        "\n",
        "    Returns:\n",
        "        Model: A Keras model that performs global average pooling over the time dimension.\n",
        "    \"\"\"\n",
        "    inputs = Input(\n",
        "        shape=(None, 3), name=\"input\"\n",
        "    )  # Define the input layer with shape (sequence_length=None, feature_dim=3)\n",
        "    sum_x = SumLayer(name=\"sum\")(inputs)  # Apply the SumLayer to the inputs\n",
        "    output = DivisionLayer(name=\"divide\")([\n",
        "        sum_x,\n",
        "        inputs,\n",
        "    ])  # Apply the DivisionLayer to the summed tensor and the original inputs\n",
        "    return Model(\n",
        "        inputs, output, name=\"GlobalAveragePooling1D\"\n",
        "    )  # Create the Keras model with the specified input and output\n",
        "\n",
        "\n",
        "# Create the model\n",
        "model = global_average_pooling_1d()\n",
        "\n",
        "# Print model summary to see the architecture\n",
        "model.summary()"
      ]
    },
    {
      "cell_type": "markdown",
      "source": [
        "## Beispiel"
      ],
      "metadata": {
        "id": "eix_OlBl-Nmn"
      }
    },
    {
      "cell_type": "code",
      "source": [
        "# Generate sample data\n",
        "batch_size = 2\n",
        "sequence_length = 5\n",
        "feature_dim = 3\n",
        "np.random.seed(0)\n",
        "sample_data = np.random.rand(batch_size, sequence_length, feature_dim).astype(np.float32).round(1)\n",
        "print(f\"Input {str(sample_data.shape).replace(',', ' x')}:\\n\", sample_data)\n",
        "\n",
        "# Pass data through the model\n",
        "output_data = model.predict(sample_data, verbose=0)\n",
        "\n",
        "# Print the output\n",
        "print(f\"\\nOutput {str(output_data.shape).replace(',', ' x')}:\\n\", output_data)"
      ],
      "metadata": {
        "id": "IoVsJOuP5j7g"
      },
      "execution_count": null,
      "outputs": []
    },
    {
      "cell_type": "code",
      "source": [
        "# @title Visualisierung der obigen Beispieldaten {display-mode: \"form\"}\n",
        "\n",
        "# Visualize the input and output\n",
        "def plot_data(input_data, output_data):\n",
        "    batch_size, sequence_length, feature_dim = input_data.shape\n",
        "    gap_size = 1  # Size of the gap between rows and columns\n",
        "    total_cols = sequence_length + 1 + gap_size  # Include gap for output column\n",
        "    total_rows = feature_dim + gap_size  # Include gap between rows\n",
        "\n",
        "    fig, axes = plt.subplots(nrows=batch_size, ncols=1, figsize=(9, 3 * batch_size))\n",
        "\n",
        "    if batch_size == 1:\n",
        "        axes = [axes]\n",
        "\n",
        "    for i in range(batch_size):\n",
        "        ax = axes[i]\n",
        "        data_with_output = np.full((feature_dim, total_cols), np.nan)  # Initialize with NaNs for gaps\n",
        "        data_with_output[:, :sequence_length] = input_data[i].T  # Fill input data (transpose to match dimensions)\n",
        "        data_with_output[:, sequence_length + gap_size] = output_data[i]  # Fill output data\n",
        "\n",
        "        cax = ax.matshow(data_with_output, cmap='Blues', vmin=0, vmax=1)\n",
        "\n",
        "        for (j, k), val in np.ndenumerate(data_with_output):\n",
        "            if not np.isnan(val):\n",
        "                ax.text(k, j, f'{val:.2f}', ha='center', va='center', color='black')\n",
        "\n",
        "        ax.set_xticks(np.arange(total_cols))\n",
        "        ax.set_xticklabels([f'$t_{t}$' for t in range(sequence_length)] + [''] * gap_size + ['Modell-Output'])\n",
        "        ax.set_yticks(np.arange(feature_dim))\n",
        "        ax.set_yticklabels([f'Kanal {f}' for f in range(feature_dim)])\n",
        "        ax.set_title(f'Signal {i+1}')\n",
        "\n",
        "        # Remove tick lines and surrounding border\n",
        "        ax.tick_params(axis='both', which='both', length=0)\n",
        "        ax.spines['top'].set_visible(False)\n",
        "        ax.spines['right'].set_visible(False)\n",
        "        ax.spines['bottom'].set_visible(False)\n",
        "        ax.spines['left'].set_visible(False)\n",
        "\n",
        "    plt.tight_layout()\n",
        "    plt.show()\n",
        "\n",
        "plot_data(sample_data, output_data)"
      ],
      "metadata": {
        "id": "D2PXtb-z98pd"
      },
      "execution_count": null,
      "outputs": []
    },
    {
      "cell_type": "markdown",
      "metadata": {
        "id": "G8_5U6zHgR-_"
      },
      "source": [
        "## Modellkonvertierung nach ONNX"
      ]
    },
    {
      "cell_type": "code",
      "execution_count": null,
      "metadata": {
        "id": "i-9pMzIv6oUY"
      },
      "outputs": [],
      "source": [
        "# Convert our GlobalAveragePooling1D Model to ONNX format\n",
        "import onnx  # ONNX library for handling ONNX models\n",
        "import tf2onnx  # TensorFlow to ONNX conversion library\n",
        "from onnxconverter_common import float16  # Utility for FP16 conversion\n",
        "\n",
        "# Define the path where the FP32 ONNX model will be saved\n",
        "onnx_model_path_fp32 = \"gap1d_model_fp32.onnx\"\n",
        "\n",
        "# Convert the Keras model to ONNX format with FP32 precision\n",
        "# Define the input specification for the model conversion\n",
        "spec = (tf.TensorSpec((None, None, 3), tf.float32, name=\"input\"),)\n",
        "# Convert the Keras model to ONNX using tf2onnx\n",
        "onnx_model, _ = tf2onnx.convert.from_keras(model, input_signature=spec, opset=18)\n",
        "\n",
        "# Save the converted FP32 ONNX model to the specified path\n",
        "onnx.save(onnx_model, onnx_model_path_fp32)\n",
        "print(f\"ONNX model (FP32) saved to {onnx_model_path_fp32}\")"
      ]
    },
    {
      "cell_type": "markdown",
      "metadata": {
        "id": "pdLdCuQBgaLi"
      },
      "source": [
        "## Quantisierung des ONNX Modells"
      ]
    },
    {
      "cell_type": "code",
      "execution_count": null,
      "metadata": {
        "id": "R8A1tP9V679a"
      },
      "outputs": [],
      "source": [
        "# Now quantize the ONNX model to FP16 and save it\n",
        "\n",
        "# Load the previously saved FP32 ONNX model\n",
        "onnx_model_fp32 = onnx.load(onnx_model_path_fp32)\n",
        "\n",
        "# Convert the FP32 ONNX model to FP16 precision\n",
        "# The keep_io_types=True argument ensures that the input and output types remain the same\n",
        "onnx_model_fp16 = float16.convert_float_to_float16(onnx_model_fp32, keep_io_types=True)\n",
        "\n",
        "# Define the path where the FP16 ONNX model will be saved\n",
        "onnx_model_path_fp16 = \"gap1d_model_fp16.onnx\"\n",
        "\n",
        "# Save the converted FP16 ONNX model to the specified path\n",
        "onnx.save(onnx_model_fp16, onnx_model_path_fp16)\n",
        "\n",
        "# Print a message indicating that the FP16 ONNX model has been saved successfully\n",
        "print(f\"ONNX model (FP16) saved to {onnx_model_path_fp16}\")"
      ]
    },
    {
      "cell_type": "code",
      "execution_count": null,
      "metadata": {
        "id": "4z7m2fr58kMm"
      },
      "outputs": [],
      "source": [
        "from techdays25 import onnx_utils\n",
        "\n",
        "onnx_utils.netron_visualize(\"gap1d_model_fp16.onnx\")"
      ]
    },
    {
      "cell_type": "markdown",
      "metadata": {
        "id": "6R_B8RE7ggas"
      },
      "source": [
        "## Datengenerierung"
      ]
    },
    {
      "cell_type": "code",
      "execution_count": null,
      "metadata": {
        "id": "PORbJXNx4yav"
      },
      "outputs": [],
      "source": [
        "# First create some data and put it through the Keras model\n",
        "import matplotlib.pyplot as plt  # Library for plotting\n",
        "import numpy as np  # Library for numerical operations\n",
        "\n",
        "# Create a random input tensor with a batch size of 2\n",
        "# Generate a sequence of numbers from 0 to 9999 and reshape it to (1, 10000, 1)\n",
        "tt = np.arange(10_000).reshape(1, -1, 1)\n",
        "\n",
        "# Create an offset array and reverse it\n",
        "off = (np.array(np.arange(6)).astype(np.float32) + 4)[::-1]\n",
        "\n",
        "# Generate a 3-dimensional time series data using a sine function with the offset\n",
        "xx = 0.4 * np.sin(4 * np.pi * 1e-5 * off**2 * tt) + off\n",
        "\n",
        "# Reshape the data to have dimensions (sequence_length, batch_size, feature_dim)\n",
        "xx = xx.reshape(-1, 2, 3)\n",
        "\n",
        "# Swap the axes to get the shape (batch_size, sequence_length, feature_dim)\n",
        "xx = np.swapaxes(xx, 0, 1)\n",
        "\n",
        "# Convert the data to float32 type\n",
        "x_input = xx.astype(np.float32)\n",
        "\n",
        "# Print the dimensions of the input tensor\n",
        "print(\"Dimensions of the input tensor:\", x_input.shape)"
      ]
    },
    {
      "cell_type": "code",
      "execution_count": null,
      "metadata": {
        "id": "gGQTVao-GYZM"
      },
      "outputs": [],
      "source": [
        "# Plot the generated time series data\n",
        "import matplotlib.pyplot as plt  # Library for plotting (re-imported for completeness)\n",
        "\n",
        "# Create a new figure with a specified size\n",
        "plt.figure(figsize=(10, 6))\n",
        "\n",
        "# Plot the first batch (b$_1$) of the time series data\n",
        "plt.plot(xx[0, :, :], label=\"b$_1$\")\n",
        "\n",
        "# Plot the second batch (b$_2$) of the time series data\n",
        "plt.plot(xx[1, :, :], label=\"b$_2$\")\n",
        "\n",
        "# Set the label for the x-axis\n",
        "plt.xlabel(\"t\")\n",
        "\n",
        "# Set the label for the y-axis\n",
        "plt.ylabel(\"Amplitude\")\n",
        "\n",
        "# Set the title of the plot\n",
        "plt.title(\"Ein Batch bestehend aus jeweils zwei 3-dimensionalen Zeitreihen\")\n",
        "\n",
        "# Add a legend to the plot\n",
        "plt.legend(loc=\"upper center\", bbox_to_anchor=(1.1, 0.6), ncol=2)\n",
        "\n",
        "# Display the plot\n",
        "plt.show()"
      ]
    },
    {
      "cell_type": "markdown",
      "metadata": {
        "id": "HRHQY_j_gzEj"
      },
      "source": [
        "## Inferenz mit dem Keras Modell"
      ]
    },
    {
      "cell_type": "code",
      "execution_count": null,
      "metadata": {
        "id": "Z9EP5mXQ-Ln2"
      },
      "outputs": [],
      "source": [
        "# Put the data through the Keras model\n",
        "\n",
        "# Use the Keras model to make predictions on the input data\n",
        "y_output_keras = model.predict(x_input, verbose=0)\n",
        "\n",
        "# Print the dimensions of the input tensor\n",
        "print(\"Dimensionen des Eingabetensors:\", str(x_input.shape).replace(',', \" x\"))  # Erwartete Form: (2, 10000, 3)\n",
        "\n",
        "# Print the dimensions of the Keras model output\n",
        "print(\n",
        "    \"Dimensionen der Keras-Modellausgabe:\", str(y_output_keras.shape).replace(',', \" x\")\n",
        ")  # expected shape: (2, 3) -> reduced time axis!\n",
        "\n",
        "# Print the output of the Keras model\n",
        "print(\"\\nKeras-Modellausgabe:\\n\", y_output_keras)"
      ]
    },
    {
      "cell_type": "markdown",
      "metadata": {
        "id": "tq_N1o4Sg7p9"
      },
      "source": [
        "## Inferenz mit den FP32/FP16 ONNX Modellen"
      ]
    },
    {
      "cell_type": "code",
      "execution_count": null,
      "metadata": {
        "id": "h8LdB2clSPgQ"
      },
      "outputs": [],
      "source": [
        "# Run the FP32 ONNX model\n",
        "y_output_onnx_fp32 = OnnxModel(onnx_model_path=\"gap1d_model_fp32.onnx\").predict(x_input)\n",
        "\n",
        "# Print the output of the FP32 ONNX model\n",
        "print(\"\\nONNX (FP32) Modellausgabe:\\n\", y_output_onnx_fp32)"
      ]
    },
    {
      "cell_type": "code",
      "execution_count": null,
      "metadata": {
        "id": "a8wCn4znSZ_s"
      },
      "outputs": [],
      "source": [
        "# Run the FP16 ONNX model\n",
        "y_output_onnx_fp16 = OnnxModel(onnx_model_path=\"gap1d_model_fp16.onnx\").predict(x_input)\n",
        "\n",
        "# Print the output of the FP32 ONNX model\n",
        "print(\"\\nONNX (FP16) Modellausgabe:\\n\", y_output_onnx_fp16)"
      ]
    },
    {
      "cell_type": "markdown",
      "metadata": {
        "id": "hsQD-7RzO2Ao"
      },
      "source": [
        "## Fragen / Diskussion\n",
        "- Welche Ergebnisse erwarten wir? Stimmen die Ergebnisse mit den Erwartungen überein?\n",
        "- Was fällt bei der Ausgabe des quantisierten FP16 Modells auf?\n",
        "  - Wie könnte man sich dieses Ergebnis erklären?\n",
        "  - Lässt sich das Problem ggfs. vermeiden?\n"
      ]
    },
    {
      "cell_type": "markdown",
      "metadata": {
        "id": "k5i-XeVZVVy7"
      },
      "source": [
        "# 📞 Teil 4: Quantisierung eines DTMF Klassifikationsmodells\n",
        "## TODO: Profiling in ONNX/TRT"
      ]
    },
    {
      "cell_type": "markdown",
      "source": [
        "![image.png](data:image/png;base64,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)"
      ],
      "metadata": {
        "id": "bTWsQVvVDsMt"
      }
    },
    {
      "cell_type": "markdown",
      "metadata": {
        "id": "UG6JRjlfVVy7"
      },
      "source": [
        "## Einführung: Generierung und Dekodierung/Klassifizierung von DTMF (dual-tone multi-frequency) Signalen <a class=\"anchor\" id=\"part0\"></a>\n",
        "\n",
        "\n",
        "Das Dualton-Mehrfrequenzwahlverfahren (DTMF) ist ein Signalisierungssystem für das Wählen eines Telefons, das in den frühen 1960er Jahren von Western Electric entwickelt und später von Bell System kommerziell an Telefonkunden geliefert wurde.\n",
        "Wenn eine Taste auf dem Telefon gedrückt wird, werden zwei harmonische Tonsignale erzeugt, und die Superposition/Überlagerung beider Signale wird verwendet, um die entsprechende Telefontaste zu charakterisieren. Wenn zum Beispiel die Taste „5“ gedrückt wird, entsteht ein Dualtontonsignal, das sich aus den Frequenzen 770 Hz und 1336 Hz zusammensetzt. Die beiden Frequenzen, die jede Taste beschreiben, sind in der folgenden Tabelle aufgeführt:\n",
        "\n",
        "|   | 1209Hz  | 1336 Hz  | 1477 Hz   | 1633 Hz  |\n",
        "|---|:---:|:---:|:---:|:---:|\n",
        "| **697 Hz**  |  1 | 2  | 3  | A  |\n",
        "| **770 Hz**  |  4 | 5  | 6  | B  |\n",
        "| **852 Hz**  |  7 | 8  | 9  | C  |\n",
        "| **941 Hz**  |  * | 0  | #  | D  |\n",
        "\n",
        "In diesem Beispiel werden wir uns ansehen, wie man solche DTMF-Wählsequenzen generiert, sie in einer Audiodatei speichert und das Audiosignal mit einem einfachen KI-Modell wieder dekodiert.\n",
        "\n",
        "Wir werden die folgenden Schritte durchführen, um ein DTMF-Signal zu erzeugen und mit einem Klassifikationsmodell zu dekodieren:\n",
        "1. Erzeugung des Signals und der Audiodatei mit `scipy` und `numpy`. Wir speichern die erzeugte Audiodatei in einer `.wav` Datei, die in diesem Notebook oder in deinem lokalen Audioplayer abgespielt werden kann\n",
        "2. Wir entwerfen eine einfaches KI-Modell ... TODO\n",
        "3. Extraktion der gewählten Tastenfolge aus der `.wav`-Datei unter Verwendung des KI-Modells\n",
        "4. Quantisierung & Export des Modells nach ONNX im FP32 und FP16 Format. Quantisierung nach INT8 und Export nach TensorRT.\n",
        "5. Laufzeituntersuchungen für FP32/FP16/INT8, unterschiedliche Batch-Größen und Signallängen."
      ]
    },
    {
      "cell_type": "code",
      "execution_count": null,
      "metadata": {
        "id": "RNXOs32MVVy7"
      },
      "outputs": [],
      "source": [
        "# Trainiere Modell\n",
        "# Konvertiere Modell nach ONNX (einmal FP32, einmal FP16)\n",
        "# Untersuche Laufzeitunterschiede (auch nach batchsize)\n",
        "# Untersuche Abweichungen. Wie ändert sich die Fehlerrate des Modells für FP32/Fp16?"
      ]
    },
    {
      "cell_type": "markdown",
      "metadata": {
        "id": "d51a6fcd-760a-4926-8d68-7f75eddb906a"
      },
      "source": [
        "## Signal- und Audiodatei-Generierung <a class=\"anchor\" id=\"part1\"></a>"
      ]
    },
    {
      "cell_type": "code",
      "execution_count": null,
      "metadata": {
        "id": "d9360855-39ba-450f-975b-ebd7f48a5521"
      },
      "outputs": [],
      "source": [
        "import time\n",
        "\n",
        "# from collections.abc import Callable\n",
        "import matplotlib.pyplot as plt\n",
        "import numpy as np\n",
        "import pandas as pd\n",
        "import tensorflow as tf\n",
        "from scipy.io import wavfile"
      ]
    },
    {
      "cell_type": "code",
      "execution_count": null,
      "metadata": {
        "id": "O6kR8O3oWRKR"
      },
      "outputs": [],
      "source": [
        "# @title Tastenfeld-Widget für Generierung der Wählsequenz' {display-mode: \"form\"}\n",
        "\n",
        "import ipywidgets as widgets\n",
        "\n",
        "# from IPython.display import display\n",
        "\n",
        "# Initialize a text widget to display the dial sequence\n",
        "dial_sequence = widgets.Text(\n",
        "    value=\"\",\n",
        "    placeholder=\"Dial sequence will appear here...\",\n",
        "    description=\"\",\n",
        "    disabled=True,\n",
        "    layout=widgets.Layout(width=\"300px\"),\n",
        ")\n",
        "\n",
        "\n",
        "# Function to handle button clicks\n",
        "def on_button_click(b):\n",
        "    \"\"\"_summary_.\n",
        "\n",
        "    Args:\n",
        "        b (_type_): _description_\n",
        "    \"\"\"\n",
        "    dial_sequence.value += b.description\n",
        "\n",
        "\n",
        "# Create buttons for the phone dialer\n",
        "buttons = []\n",
        "for row in [\n",
        "    [\"1\", \"2\", \"3\", \"A\"],\n",
        "    [\"4\", \"5\", \"6\", \"B\"],\n",
        "    [\"7\", \"8\", \"9\", \"C\"],\n",
        "    [\"*\", \"0\", \"#\", \"D\"],\n",
        "]:\n",
        "    button_row = []\n",
        "    for label in row:\n",
        "        button = widgets.Button(\n",
        "            description=label, layout=widgets.Layout(width=\"50px\", height=\"50px\")\n",
        "        )\n",
        "        button.on_click(on_button_click)\n",
        "        button_row.append(button)\n",
        "    buttons.append(widgets.HBox(button_row))\n",
        "\n",
        "# Create a clear button\n",
        "clear_button = widgets.Button(\n",
        "    description=\"Clear\", layout=widgets.Layout(width=\"158px\", height=\"50px\")\n",
        ")\n",
        "\n",
        "back_button = widgets.Button(\n",
        "    description=\"⬅\", layout=widgets.Layout(width=\"50px\", height=\"50px\")\n",
        ")\n",
        "\n",
        "\n",
        "def on_clear_click(b):\n",
        "    \"\"\"_summary_.\n",
        "\n",
        "    Args:\n",
        "        b (_type_): _description_\n",
        "    \"\"\"\n",
        "    global dial_sequence\n",
        "    dial_sequence.value = \"\"\n",
        "\n",
        "\n",
        "def on_back_click(b):\n",
        "    \"\"\"_summary_.\n",
        "\n",
        "    Args:\n",
        "        b (_type_): _description_\n",
        "    \"\"\"\n",
        "    global dial_sequence\n",
        "    dial_sequence.value = dial_sequence.value[:-1]\n",
        "\n",
        "\n",
        "clear_button.on_click(on_clear_click)\n",
        "\n",
        "\n",
        "back_button.on_click(on_back_click)\n",
        "\n",
        "# Display the dialer\n",
        "display(dial_sequence)\n",
        "for button_row in buttons:\n",
        "    display(button_row)\n",
        "display(widgets.HBox([clear_button, back_button]))"
      ]
    },
    {
      "cell_type": "code",
      "execution_count": null,
      "metadata": {
        "id": "V728NfPmsAQr"
      },
      "outputs": [],
      "source": [
        "print(\"Gewählte Sequenz:\", dial_sequence.value)"
      ]
    },
    {
      "cell_type": "markdown",
      "metadata": {
        "id": "D8i2MsZF3o0g"
      },
      "source": [
        "### Generierung des Wähl-Audiosignals"
      ]
    },
    {
      "cell_type": "code",
      "execution_count": null,
      "metadata": {
        "id": "HAyM34wYqx_A"
      },
      "outputs": [],
      "source": [
        "from techdays25.dtmf_generation import DtmfGenerator\n",
        "\n",
        "dtmf_gen = DtmfGenerator(\n",
        "    dur_key=(0.2, 0.3),\n",
        "    dur_pause=(0.01, 0.1),\n",
        "    noise_factor=(200.0, 200.0),\n",
        "    noise_freq_range=(0.0, 20000.0),\n",
        ")"
      ]
    },
    {
      "cell_type": "code",
      "execution_count": null,
      "metadata": {
        "id": "62132ef1-c61f-4653-9f6c-a4d9f892781e"
      },
      "outputs": [],
      "source": [
        "# Either use the dialed sequence from above:\n",
        "my_dialed_sequence_keys = dial_sequence.value\n",
        "\n",
        "# ... or generate a random sequence:\n",
        "# my_dialed_sequence_keys = \"\".join([random.choice(\"1234567890ABCD*#\") for i in range(10)])\n",
        "\n",
        "# ... or use a simple sequence for debugging purposes\n",
        "# my_dialed_sequence_keys = \"1234567890ABCD*#\" # for debug purposes...\n",
        "\n",
        "# ... or use a slightly longer sequence (which also contains all symbols)\n",
        "# my_dialed_sequence_keys = \"91D282A0B8C16C*C9#504979D#443B\"\n",
        "if not my_dialed_sequence_keys:\n",
        "    my_dialed_sequence_keys = \"91D282A0B8C16C*C9#504979D#443B\"\n",
        "\n",
        "# Try changing the following arguments: dur_key=0.05, dur_pause=0.02\n",
        "my_dialed_sequence_signal = dtmf_gen.get_tone_sequence(my_dialed_sequence_keys)"
      ]
    },
    {
      "cell_type": "markdown",
      "metadata": {
        "id": "y-9x6ncx3wiD"
      },
      "source": [
        "### Visualisierung des Signals"
      ]
    },
    {
      "cell_type": "code",
      "execution_count": null,
      "metadata": {
        "id": "aarMEIq3vS0m"
      },
      "outputs": [],
      "source": [
        "plt.figure(figsize=(10, 5))\n",
        "plt.plot(my_dialed_sequence_signal)\n",
        "plt.xlabel(\"Index\")\n",
        "plt.ylabel(\"Amplitude\")\n",
        "plt.title(\"Das vollständige gewählte Signal\")"
      ]
    },
    {
      "cell_type": "code",
      "execution_count": null,
      "metadata": {
        "id": "CWiuyJ_7BUS6"
      },
      "outputs": [],
      "source": [
        "plt.figure(figsize=(10, 5))\n",
        "plt.plot(my_dialed_sequence_signal[: 10**4])\n",
        "plt.xlabel(\"Index\")\n",
        "plt.ylabel(\"Amplitude\")\n",
        "plt.title(\"Die ersten 10000 Datenpunkte des gewählten Signals\")"
      ]
    },
    {
      "cell_type": "code",
      "execution_count": null,
      "metadata": {
        "id": "BJe9QX8Ee9aA"
      },
      "outputs": [],
      "source": [
        "plt.figure(figsize=(10, 5))\n",
        "quant = np.quantile(my_dialed_sequence_signal, 0.99)\n",
        "start_index = np.where(my_dialed_sequence_signal > quant)[0][10]\n",
        "plt.plot(my_dialed_sequence_signal)\n",
        "plt.xlabel(\"Index\")\n",
        "plt.ylabel(\"Amplitude\")\n",
        "plt.title(\"Weiterer Zoom-In\")\n",
        "plt.xlim(start_index, start_index + 1.5 * 10**3)"
      ]
    },
    {
      "cell_type": "code",
      "execution_count": null,
      "metadata": {
        "id": "42af11c2-3c15-4a57-afa8-f62b8e82925d"
      },
      "outputs": [],
      "source": [
        "# Now let us listen to the generated WAV file\n",
        "import IPython\n",
        "import numpy as np\n",
        "\n",
        "wav_file_name = \"my_dtmf_file.wav\"\n",
        "\n",
        "wavfile.write(\n",
        "    wav_file_name,\n",
        "    dtmf_gen.get_sample_rate(),\n",
        "    (my_dialed_sequence_signal * np.iinfo(np.int32).max).astype(np.int32),\n",
        ")\n",
        "IPython.display.Audio(wav_file_name)"
      ]
    },
    {
      "cell_type": "code",
      "execution_count": null,
      "metadata": {
        "id": "51a52767-7e0e-444f-8028-f5a52fce4820"
      },
      "outputs": [],
      "source": [
        "print(\"Dialed sequence: \", my_dialed_sequence_keys)\n",
        "print(\"Used symbols: \", len(set(my_dialed_sequence_keys)))\n",
        "print(\"Total length of signal:\", my_dialed_sequence_signal.shape[0])"
      ]
    },
    {
      "cell_type": "markdown",
      "metadata": {
        "id": "b763fef4-360e-4a01-910b-add573007fd3"
      },
      "source": [
        "### Signal-Spektrogramm"
      ]
    },
    {
      "cell_type": "code",
      "execution_count": null,
      "metadata": {
        "id": "7827a985-0dd0-40c0-993c-e002523ef0e9"
      },
      "outputs": [],
      "source": [
        "plt.figure(figsize=(10, 5))\n",
        "Pxx, freqs, bins, im = plt.specgram(\n",
        "    my_dialed_sequence_signal, NFFT=1024, Fs=dtmf_gen.get_sample_rate()\n",
        ")\n",
        "plt.ylim(0, 2000)\n",
        "plt.xlabel(\"t [s]\")\n",
        "plt.ylabel(\"f [Hz]\")\n",
        "plt.title(\"Spektrogramm des generierten Telefonwählsignals\")\n",
        "plt.show(im)"
      ]
    },
    {
      "cell_type": "markdown",
      "metadata": {
        "id": "Aio7fvyo4ZUy"
      },
      "source": [
        "## Experimente\n",
        "\n",
        "Optionale Fragen:\n",
        "- Wie könnte man mit einem klassischen Ansatz oder auch mit einem neuronalem Netz die Wählsequenz extrahieren?"
      ]
    },
    {
      "cell_type": "markdown",
      "metadata": {
        "id": "YtHys5X74cRB"
      },
      "source": [
        "### Laden des vortrainierten Keras Modells\n",
        "\n",
        "- Wir verwenden ein vortrainiertes Netz um uns die Trainingszeit zu ersparen\n",
        "- Das Training kann in Abschnitt XYZ reproduziert werden\n",
        "- Modellarchitektur:\n",
        "  - Im Wesentlichen ein sogenenannted Conv-Net mit einigen Skip-Connections\n",
        "  - Einige Downsampling layer (MaxPooling) und Upsampling layer (DilatedConv)\n",
        "  - Input: Ein Batch mit der Dimension N x T x 1, wobei N die Batch-Größe und T die Länge der Signale darstellt.\n",
        "  - Output: N x T x 17, wobei wir nun 16+1=17 Ausgabesignale haben, ein Signal pro Taste (0,1,2,...,*,#,A,B,C,D) und 1 Signal für \"keine Taste aktiv\"\n",
        "  - Output-Schicht: \"Softmax\" layer. Bedeutet, dass jedes Element in einem 17-dim. Vektor eine Wahrscheinlichkeit darstellt und dass die Summe über jeden 17-dim. Vektor genau 1 ergibt.\n",
        "\n",
        "\n",
        "Optionale Fragen:\n",
        "- Gibt es andere/elegantere Möglichkeiten um insbesondere ein brauchbares Output zu erzeugen (anstatt eines N x T x 17 Signals)?\n",
        "\n",
        "TODO: Einführung: Was ist die Eingabe/Ausgabe des Modells\n",
        "Was ist das für ein Modell, etc."
      ]
    },
    {
      "cell_type": "code",
      "execution_count": null,
      "metadata": {
        "id": "g4Tks3yH0ipe"
      },
      "outputs": [],
      "source": [
        "import tensorflow as tf\n",
        "keras_model = tf.keras.models.load_model(\"dtmf_classifier.keras\")\n",
        "keras_model.summary()"
      ]
    },
    {
      "cell_type": "code",
      "source": [
        "# Visualize using Keras\n",
        "from tensorflow.keras.utils import plot_model\n",
        "from IPython.display import Image, display\n",
        "\n",
        "# Plot the model graph and save to a temporary file\n",
        "plot_model(keras_model, to_file='model_plot.png', show_shapes=False, show_layer_names=True, dpi=50)\n",
        "\n",
        "# Display the plot inline\n",
        "display(Image('model_plot.png'))"
      ],
      "metadata": {
        "id": "krT-bqjRHk0E"
      },
      "execution_count": null,
      "outputs": []
    },
    {
      "cell_type": "code",
      "execution_count": null,
      "metadata": {
        "id": "kesc3J6SUBOv"
      },
      "outputs": [],
      "source": [
        "import matplotlib.pyplot as plt\n",
        "import time\n",
        "\n",
        "start = time.time()\n",
        "length = my_dialed_sequence_signal.size\n",
        "keras_pred = keras_model.predict(my_dialed_sequence_signal[:(length//16)*16].reshape(1, -1, 1))\n",
        "end = time.time()\n",
        "\n",
        "cmap = plt.get_cmap(\"tab20\")\n",
        "\n",
        "colors = [cmap(i) for i in range(16)]  # Get 16 distinct colors\n",
        "\n",
        "plt.figure(figsize=(10, 5))\n",
        "plt.plot(my_dialed_sequence_signal)\n",
        "\n",
        "for key_idx in range(keras_pred.shape[-1] - 1):  # last index represents pauses\n",
        "    plt.plot(\n",
        "        keras_pred[0, :, key_idx],\n",
        "        label=f\"{dtmf_gen.get_key(key_idx=key_idx)}\",\n",
        "        color=colors[key_idx],\n",
        "    )\n",
        "plt.legend(loc=\"upper center\", bbox_to_anchor=(0.5, -0.15), ncol=8)\n",
        "plt.title(f\"Tatsächliche Wahlsequenz: {' '.join(list(my_dialed_sequence_keys))}\")\n",
        "plt.show()\n",
        "print(\"Inferenz-Dauer:\", end - start)"
      ]
    },
    {
      "cell_type": "code",
      "execution_count": null,
      "metadata": {
        "id": "1_zpgnG6CviY"
      },
      "outputs": [],
      "source": [
        "predicted_key_sequence = dtmf_gen.decode_prediction(keras_pred)\n",
        "print(\"Prognostizierte Wählsequenz:\", predicted_key_sequence)\n",
        "print(\n",
        "    \"Passt die Prognose zur tatsächlich gewählten Sequenz?:\",\n",
        "    \"Ja!\" if predicted_key_sequence == my_dialed_sequence_keys else \"Nein!\",\n",
        ")"
      ]
    },
    {
      "cell_type": "markdown",
      "metadata": {
        "id": "-97qYaeo4k86"
      },
      "source": [
        "### Konvertierung des Keras Modells nach ONNX"
      ]
    },
    {
      "cell_type": "code",
      "execution_count": null,
      "metadata": {
        "id": "G0niGbjMEhna"
      },
      "outputs": [],
      "source": [
        "import onnx\n",
        "import tf2onnx\n",
        "\n",
        "# Diese Zelle könnte einen Fehler werfen.\n",
        "# Dennoch sollte das ONNX Modell korrekt exportiert werden\n",
        "keras_model.output_names = [\"output\"]\n",
        "\n",
        "input_signature = [\n",
        "    tf.TensorSpec([None, 2**12, 1], tf.float32, name=\"input\")\n",
        "]  # TODO: time axis fixed or dynamic?\n",
        "# Use from_function for tf functions\n",
        "onnx_model, _ = tf2onnx.convert.from_keras(keras_model, input_signature, opset=18, )\n",
        "onnx.save(onnx_model, \"dtmf_classifier.onnx\")"
      ]
    },
    {
      "cell_type": "markdown",
      "metadata": {
        "id": "y-CLAhtx4tTw"
      },
      "source": [
        "### Optimierung des ONNX Modells"
      ]
    },
    {
      "cell_type": "code",
      "execution_count": null,
      "metadata": {
        "id": "D5PAAutNg2bE"
      },
      "outputs": [],
      "source": [
        "import onnxsim\n",
        "\n",
        "model_path = \"dtmf_classifier.onnx\"\n",
        "simplified_model_path = \"dtmf_classifier.onnx\"\n",
        "onnx_model = onnx.load(model_path)\n",
        "onnx.checker.check_model(onnx_model)\n",
        "onnx_model_simp, check = onnxsim.simplify(onnx_model)\n",
        "assert check, \"Simplified    ONNX model could not be validated\"\n",
        "onnx.save(onnx_model_simp, simplified_model_path)"
      ]
    },
    {
      "cell_type": "code",
      "execution_count": null,
      "metadata": {
        "id": "O9OUrzZa-bgt"
      },
      "outputs": [],
      "source": [
        "from techdays25 import onnx_utils\n",
        "\n",
        "onnx_utils.netron_visualize(\"dtmf_classifier.onnx\")"
      ]
    },
    {
      "cell_type": "markdown",
      "metadata": {
        "id": "W0s4ULT84ynC"
      },
      "source": [
        "### Quantisierung des ONNX Modells"
      ]
    },
    {
      "cell_type": "code",
      "execution_count": null,
      "metadata": {
        "id": "4EOwr_prgiN4"
      },
      "outputs": [],
      "source": [
        "import onnx\n",
        "from onnxconverter_common import float16\n",
        "\n",
        "onnx_model = onnx.load(\"dtmf_classifier.onnx\")\n",
        "onnx.checker.check_model(onnx_model)\n",
        "onnx_model_fp16 = float16.convert_float_to_float16(\n",
        "    onnx_model,\n",
        "    min_positive_val=1e-7,\n",
        "    max_finite_val=1e4,\n",
        "    keep_io_types=True,\n",
        "    disable_shape_infer=False,\n",
        "    op_block_list=None,\n",
        "    node_block_list=None,\n",
        ")\n",
        "onnx.save(onnx_model_fp16, \"dtmf_classifier_fp16.onnx\")"
      ]
    },
    {
      "cell_type": "markdown",
      "metadata": {
        "id": "FGuwxgoDkgGv"
      },
      "source": [
        "### TensorRT Tests\n",
        "\n",
        "TODO: Move below code to .py files and import!"
      ]
    },
    {
      "cell_type": "code",
      "execution_count": null,
      "metadata": {
        "id": "fSJVcrVW6gPw"
      },
      "outputs": [],
      "source": [
        "from techdays25.dtmf_generation import DtmfGenerator\n",
        "\n",
        "dtmf_gen = DtmfGenerator(\n",
        "    dur_key=(0.2, 0.3),\n",
        "    dur_pause=(0.01, 0.1),\n",
        "    noise_factor=(10.0, 50.0),\n",
        "    noise_freq_range=(0.0, 20000.0),\n",
        ")"
      ]
    },
    {
      "cell_type": "code",
      "execution_count": null,
      "metadata": {
        "id": "a3of1tuYcNrC"
      },
      "outputs": [],
      "source": [
        "def get_gpu_type() -> str:\n",
        "    \"\"\"Get the type of GPU available on the system.\n",
        "\n",
        "    This function checks if a CUDA-capable GPU is available using PyTorch.\n",
        "    If a GPU is available, it returns the name of the GPU in lowercase with spaces replaced by underscores.\n",
        "    If no GPU is available, it returns 'cpu'.\n",
        "\n",
        "    Returns:\n",
        "        str: The type of GPU available or 'cpu' if no GPU is available.\n",
        "    \"\"\"\n",
        "    import torch\n",
        "\n",
        "    if not torch.cuda.is_available():\n",
        "        return \"cpu\"\n",
        "    return \"_\".join(torch.cuda.get_device_name(0).lower().split(\" \"))"
      ]
    },
    {
      "cell_type": "code",
      "execution_count": null,
      "metadata": {
        "id": "l5sW5xE4y3Yf"
      },
      "outputs": [],
      "source": [
        "import sys\n",
        "import time\n",
        "from typing import Any\n",
        "\n",
        "import numpy as np\n",
        "import tensorrt as trt\n",
        "from cuda import cuda, cudart\n",
        "from pathlib import Path\n",
        "\n",
        "\n",
        "def check_cuda_err(err: cuda.CUresult | cudart.cudaError_t) -> None:\n",
        "    \"\"\"Check for CUDA errors and raise an exception if an error is found.\n",
        "\n",
        "    Args:\n",
        "        err (Union[cuda.CUresult, cudart.cudaError_t]): The CUDA error code.\n",
        "\n",
        "    Raises:\n",
        "        RuntimeError: If a CUDA error is detected.\n",
        "    \"\"\"\n",
        "    if isinstance(err, cuda.CUresult) and err != cuda.CUresult.CUDA_SUCCESS:\n",
        "        raise RuntimeError(f\"Cuda Error: {err}\")\n",
        "    if isinstance(err, cudart.cudaError_t):\n",
        "        if err != cudart.cudaError_t.cudaSuccess:\n",
        "            raise RuntimeError(f\"Cuda Runtime Error: {err}\")\n",
        "    else:\n",
        "        raise RuntimeError(f\"Unknown error type: {err}\")\n",
        "\n",
        "\n",
        "def cuda_call(call: Any) -> Any:\n",
        "    \"\"\"Make a CUDA call and check for errors.\n",
        "\n",
        "    Args:\n",
        "        call (Any): The CUDA call to make.\n",
        "\n",
        "    Returns:\n",
        "        Any: The result of the CUDA call.\n",
        "    \"\"\"\n",
        "    err, res = call[0], call[1:]\n",
        "    check_cuda_err(err)\n",
        "    if len(res) == 1:\n",
        "        res = res[0]\n",
        "    return res\n",
        "\n",
        "\n",
        "# Wrapper for cudaMemcpy which infers copy size and does error checking\n",
        "def memcpy_host_to_device(device_ptr: int, host_arr: np.ndarray) -> None:\n",
        "    \"\"\"Copy data from host to device.\n",
        "\n",
        "    Args:\n",
        "        device_ptr (int): The device pointer.\n",
        "        host_arr (np.ndarray): The host array.\n",
        "    \"\"\"\n",
        "    nbytes = host_arr.size * host_arr.itemsize\n",
        "    cuda_call(\n",
        "        cudart.cudaMemcpy(\n",
        "            device_ptr, host_arr, nbytes, cudart.cudaMemcpyKind.cudaMemcpyHostToDevice\n",
        "        )\n",
        "    )\n",
        "\n",
        "\n",
        "# Wrapper for cudaMemcpy which infers copy size and does error checking\n",
        "def memcpy_device_to_host(host_arr: np.ndarray, device_ptr: int) -> None:\n",
        "    \"\"\"Copy data from device to host.\n",
        "\n",
        "    Args:\n",
        "        host_arr (np.ndarray): The host array.\n",
        "        device_ptr (int): The device pointer.\n",
        "    \"\"\"\n",
        "    nbytes = host_arr.size * host_arr.itemsize\n",
        "    cuda_call(\n",
        "        cudart.cudaMemcpy(\n",
        "            host_arr, device_ptr, nbytes, cudart.cudaMemcpyKind.cudaMemcpyDeviceToHost\n",
        "        )\n",
        "    )\n",
        "\n",
        "\n",
        "class MNISTEntropyCalibrator(trt.IInt8EntropyCalibrator2):\n",
        "    \"\"\"INT8 calibrator for our DTMF classifier model.\"\"\"\n",
        "\n",
        "    def __init__(\n",
        "        self, training_data: str, cache_file: str, batch_size: int = 16\n",
        "    ) -> None:\n",
        "        \"\"\"Initialize the MNISTEntropyCalibrator.\n",
        "\n",
        "        Args:\n",
        "            training_data (str): The path to the training data.\n",
        "            cache_file (str): The path to the cache file.\n",
        "            batch_size (int, optional): The batch size. Defaults to 16.\n",
        "        \"\"\"\n",
        "        # Whenever you specify a custom constructor for a TensorRT class,\n",
        "        # you MUST call the constructor of the parent explicitly.\n",
        "        trt.IInt8EntropyCalibrator2.__init__(self)\n",
        "\n",
        "        self.cache_file = cache_file\n",
        "\n",
        "        # Every time get_batch is called, the next batch of size batch_size will be copied to the device and returned.\n",
        "        # self.data = 2 * np.random.rand(32*batch_size, 2**12, 1).astype(np.float32) - 1.0\n",
        "        # self.data = training_data\n",
        "        self.data = dtmf_gen.generate_dataset(\n",
        "            n_samples=32 * batch_size, t_length=2**12, with_labels=None\n",
        "        ).astype(np.float32)\n",
        "        # print(self.data.dtype)\n",
        "        # self.data = self.data.astype(np.float32)\n",
        "        self.batch_size = batch_size\n",
        "        self.current_index = 0\n",
        "\n",
        "        # Allocate enough memory for a whole batch.\n",
        "        # self.device_input = cuda.mem_alloc(self.data[0].nbytes * self.batch_size)\n",
        "        n_bytes = self.data[0].nbytes * self.batch_size\n",
        "        # print(\"n_bytes\", n_bytes)\n",
        "        self.device_input = cuda_call(cudart.cudaMalloc(n_bytes))\n",
        "\n",
        "    def get_batch_size(self) -> int:\n",
        "        \"\"\"Get the batch size.\n",
        "\n",
        "        Returns:\n",
        "            int: The batch size.\n",
        "        \"\"\"\n",
        "        return self.batch_size\n",
        "\n",
        "    # TensorRT passes along the names of the engine bindings to the get_batch function.\n",
        "    # You don't necessarily have to use them, but they can be useful to understand the order of\n",
        "    # the inputs. The bindings list is expected to have the same ordering as 'names'.\n",
        "    def get_batch(self, names: list[str]) -> list[int] | None:\n",
        "        \"\"\"Get a batch of data.\n",
        "\n",
        "        Args:\n",
        "            names (List[str]): The names of the engine bindings.\n",
        "\n",
        "        Returns:\n",
        "            Optional[List[int]]: The device input pointer, or None if there is no more data.\n",
        "        \"\"\"\n",
        "        # print(\"names:\", names)\n",
        "        if self.current_index + self.batch_size > self.data.shape[0]:\n",
        "            return None\n",
        "\n",
        "        current_batch = int(self.current_index / self.batch_size)\n",
        "        if current_batch % 10 == 0:\n",
        "            print(\n",
        "                f\"Calibrating batch {current_batch}, containing {self.batch_size} images\"\n",
        "            )\n",
        "\n",
        "        batch = self.data[\n",
        "            self.current_index : self.current_index + self.batch_size\n",
        "        ].ravel()\n",
        "        # cuda.memcpy_htod(self.device_input, batch)\n",
        "        # memcpy_host_to_device(self.device_input, batch)\n",
        "        memcpy_host_to_device(self.device_input, np.ascontiguousarray(batch))\n",
        "        self.current_index += self.batch_size\n",
        "        # print(\"Schalom!\")\n",
        "        return [int(self.device_input)]\n",
        "\n",
        "    def read_calibration_cache(self) -> bytes | None:\n",
        "        \"\"\"Read the calibration cache.\n",
        "\n",
        "        Returns:\n",
        "            Optional[bytes]: The calibration cache, or None if it does not exist.\n",
        "        \"\"\"\n",
        "        # If there is a cache, use it instead of calibrating again. Otherwise, implicitly return None.\n",
        "        if Path.exists(self.cache_file):\n",
        "            return Path(self.cache_file).read_bytes()\n",
        "        return None\n",
        "\n",
        "    def write_calibration_cache(self, cache: bytes) -> None:\n",
        "        \"\"\"Write the calibration cache.\n",
        "\n",
        "        Args:\n",
        "            cache (bytes): The calibration cache.\n",
        "        \"\"\"\n",
        "        return  # for now\n",
        "        Path(self.cache_file).write_bytes(cache)"
      ]
    },
    {
      "cell_type": "code",
      "execution_count": null,
      "metadata": {
        "id": "J6k2njAel4z6"
      },
      "outputs": [],
      "source": [
        "from pathlib import Path\n",
        "\n",
        "import tensorrt as trt\n",
        "\n",
        "# You can set the logger severity higher to suppress messages (or lower to display more messages).\n",
        "TRT_LOGGER: trt.Logger = trt.Logger(trt.Logger.VERBOSE)\n",
        "\n",
        "\n",
        "def build_engine_onnx(\n",
        "    model_file: str, trt_engine_path: str, precision: str\n",
        ") -> None:\n",
        "    \"\"\"Builds a TensorRT engine from an ONNX model file.\n",
        "\n",
        "    Args:\n",
        "        model_file (str): The path to the ONNX model file.\n",
        "        trt_engine_path (str): The path to save the TensorRT engine.\n",
        "        precision (str): The precision mode to use ('fp16', 'int8', 'mixed').\n",
        "\n",
        "    Returns:\n",
        "        Optional[None]: Returns None if the engine creation fails.\n",
        "    \"\"\"\n",
        "    seq_len: int = 2**12\n",
        "    max_batch_size: list[int] = [1, 2, 4, 8, 16, 32, 64, 128, 256, 512]\n",
        "    calibration_batch_size: int = 16\n",
        "    builder: trt.Builder = trt.Builder(TRT_LOGGER)\n",
        "    network: trt.INetworkDefinition = builder.create_network(0)\n",
        "    config: trt.IBuilderConfig = builder.create_builder_config()\n",
        "    parser: trt.OnnxParser = trt.OnnxParser(network, TRT_LOGGER)\n",
        "\n",
        "    config.set_memory_pool_limit(\n",
        "        trt.MemoryPoolType.WORKSPACE, 8 * 1 << 30\n",
        "    )  # TODO: Constant\n",
        "\n",
        "    # Load the Onnx model and parse it in order to populate the TensorRT network.\n",
        "    if not parser.parse(Path(model_file).read_bytes()):\n",
        "        print(\"ERROR: Failed to parse the ONNX file.\")\n",
        "        for error in range(parser.num_errors):\n",
        "            print(parser.get_error(error))\n",
        "        return\n",
        "\n",
        "    for b in max_batch_size:\n",
        "        profile: trt.IOptimizationProfile = builder.create_optimization_profile()\n",
        "        profile.set_shape(\"input\", [b//2 + 1, seq_len, 1], [b, seq_len, 1], [b, seq_len, 1])\n",
        "        config.add_optimization_profile(profile)\n",
        "\n",
        "    if precision in [\"fp16\", \"int8\", \"mixed\"]:\n",
        "        if not builder.platform_has_fast_fp16:\n",
        "            print(\"FP16 is not supported natively on this platform/device\")\n",
        "        config.set_flag(trt.BuilderFlag.FP16)\n",
        "    if precision in [\"int8\", \"mixed\"]:\n",
        "        if not builder.platform_has_fast_int8:\n",
        "            print(\"INT8 is not supported natively on this platform/device\")\n",
        "        config.set_flag(trt.BuilderFlag.INT8)\n",
        "        # config.set_flag(trt.BuilderFlag.OBEY_PRECISION_CONSTRAINTS)\n",
        "\n",
        "        calib = MNISTEntropyCalibrator(\n",
        "            \"\", cache_file=\"cache.file\", batch_size=calibration_batch_size\n",
        "        )\n",
        "        config.int8_calibrator = calib\n",
        "\n",
        "        calib_profile: trt.IOptimizationProfile = builder.create_optimization_profile()\n",
        "        calib_profile.set_shape(\n",
        "            \"input\",\n",
        "            [calibration_batch_size, seq_len, 1],\n",
        "            [calibration_batch_size, seq_len, 1],\n",
        "            [calibration_batch_size, seq_len, 1],\n",
        "        )\n",
        "        config.set_calibration_profile(calib_profile)\n",
        "        config.profiling_verbosity = trt.ProfilingVerbosity.DETAILED\n",
        "\n",
        "        print(\"int 8 model\")\n",
        "\n",
        "    engine_bytes: bytes | None = builder.build_serialized_network(network, config)\n",
        "\n",
        "    if engine_bytes is None:\n",
        "        print(\"Failed to create the TensorRT engine\")\n",
        "        return\n",
        "    trt.Runtime(TRT_LOGGER)\n",
        "\n",
        "    # Save the engine to a file\n",
        "    Path(trt_engine_path).write_bytes(engine_bytes)\n",
        "\n",
        "    print(f\"TensorRT engine saved to {trt_engine_path}\")\n",
        "\n",
        "\n",
        "# Example Usage\n",
        "precision: str = \"fp16\"\n",
        "onnx_path: str = \"dtmf_classifier.onnx\"\n",
        "trt_path: str = \"dtmf_classifier_\" + precision + \"_\" + get_gpu_type() + \".trt\"\n",
        "build_engine_onnx(onnx_path, trt_path, precision=precision)"
      ]
    },
    {
      "cell_type": "code",
      "execution_count": null,
      "metadata": {
        "id": "VY4AP6jrmJKg"
      },
      "outputs": [],
      "source": [
        "import time\n",
        "from typing import Any\n",
        "\n",
        "import numpy as np\n",
        "import tensorrt as trt\n",
        "\n",
        "DEBUG = False\n",
        "\n",
        "\n",
        "def print_dbg(*x: Any) -> None:\n",
        "    \"\"\"Print debug information if DEBUG is set to True.\n",
        "\n",
        "    Args:\n",
        "        *x (Any): The information to print.\n",
        "    \"\"\"\n",
        "    if DEBUG:\n",
        "        print(x)\n",
        "\n",
        "class CustomProfiler(trt.IProfiler):\n",
        "    \"\"\"Custom Profiler for logging layer-wise latency.\"\"\"\n",
        "\n",
        "    def __init__(self):\n",
        "        trt.IProfiler.__init__(self)\n",
        "        self.layers = {}\n",
        "\n",
        "    def report_layer_time(self, layer_name, ms):\n",
        "        if layer_name not in self.layers:\n",
        "            self.layers[layer_name] = []\n",
        "\n",
        "        self.layers[layer_name].append(ms)\n",
        "\n",
        "class TensorRTInfer:\n",
        "    # TODO: This code still has a memory leak. The memory allocated by\n",
        "    # cudaMalloc has to be released!\n",
        "    \"\"\"Implements inference for the TensorRT engine.\"\"\"\n",
        "\n",
        "    def __init__(self, engine_path: str) -> None:\n",
        "        \"\"\"Initialize the TensorRTInfer class.\n",
        "\n",
        "        Args:\n",
        "            engine_path (str): The path to the serialized engine to load from disk.\n",
        "        \"\"\"\n",
        "        # Load TRT engine\n",
        "        self.logger = trt.Logger(trt.Logger.ERROR)\n",
        "        trt.init_libnvinfer_plugins(self.logger, namespace=\"\")\n",
        "        # with open(engine_path, \"rb\") as f, trt.Runtime(self.logger) as runtime:\n",
        "        #    assert runtime\n",
        "        #    self.engine = runtime.deserialize_cuda_engine(f.read())\n",
        "        runtime = trt.Runtime(self.logger)\n",
        "        assert runtime\n",
        "        self.engine = runtime.deserialize_cuda_engine(Path(engine_path).read_bytes())\n",
        "\n",
        "        assert self.engine\n",
        "        self.context = self.engine.create_execution_context()\n",
        "        assert self.context\n",
        "\n",
        "        # Some Infos about the engine\n",
        "        print_dbg(\"num optimization profiles:\", self.engine.num_optimization_profiles)\n",
        "        print_dbg(\"num io tensors:\", self.engine.num_io_tensors)\n",
        "\n",
        "        # Create CUDA stream for asynchronous tasks\n",
        "        _, self.stream = cudart.cudaStreamCreate()\n",
        "\n",
        "        # Setup I/O bindings\n",
        "        self.inputs = []\n",
        "        self.outputs = []\n",
        "        self.allocations = []\n",
        "        for prof_idx in range(self.engine.num_optimization_profiles):\n",
        "            for i in range(self.engine.num_io_tensors):\n",
        "                name = self.engine.get_tensor_name(i)\n",
        "                is_input = False\n",
        "                if self.engine.get_tensor_mode(name) == trt.TensorIOMode.INPUT:\n",
        "                    is_input = True\n",
        "                dtype = np.dtype(trt.nptype(self.engine.get_tensor_dtype(name)))\n",
        "                shape = self.engine.get_tensor_shape(name)\n",
        "                if is_input and shape[0] < 0:\n",
        "                    assert self.engine.num_optimization_profiles >= 1\n",
        "                    profile_shape = self.engine.get_tensor_profile_shape(name, prof_idx)\n",
        "                    print_dbg(\"profile_shape\", name, profile_shape)\n",
        "                    assert len(profile_shape) == 3  # min,opt,max\n",
        "\n",
        "                    # Set the *max* profile as binding shape\n",
        "                    self.switch_profile(prof_idx)\n",
        "                    self.context.set_input_shape(name, profile_shape[2])\n",
        "                    shape = self.context.get_tensor_shape(name)\n",
        "\n",
        "                if not is_input:\n",
        "                    shape = self.context.get_tensor_shape(name)\n",
        "                    print_dbg(\"shape for output:\", name, shape)\n",
        "\n",
        "                if is_input:\n",
        "                    self.batch_size = shape[0]\n",
        "                size = dtype.itemsize\n",
        "                for s in shape:\n",
        "                    size *= s\n",
        "                allocation = cuda_call(cudart.cudaMalloc(size))\n",
        "                host_allocation = None if is_input else np.zeros(shape, dtype)\n",
        "                binding = {\n",
        "                    \"index\": i,\n",
        "                    \"name\": name,\n",
        "                    \"dtype\": dtype,\n",
        "                    \"shape\": list(shape),\n",
        "                    \"allocation\": allocation,\n",
        "                    \"host_allocation\": host_allocation,\n",
        "                }\n",
        "                self.allocations.append(allocation)\n",
        "                if is_input:\n",
        "                    self.inputs.append(binding)\n",
        "                else:\n",
        "                    self.outputs.append(binding)\n",
        "                print_dbg(\n",
        "                    \"{} '{}' with shape {} and dtype {}\".format(\n",
        "                        \"Input\" if is_input else \"Output\",\n",
        "                        binding[\"name\"],\n",
        "                        binding[\"shape\"],\n",
        "                        binding[\"dtype\"],\n",
        "                    )\n",
        "                )\n",
        "            print_dbg()\n",
        "\n",
        "        assert self.batch_size > 0\n",
        "        assert len(self.inputs) > 0\n",
        "        assert len(self.outputs) > 0\n",
        "        assert len(self.allocations) > 0\n",
        "\n",
        "    def enable_profiling(self, profiler: trt.IProfiler = None) -> None:\n",
        "        \"\"\"Enable TensorRT profiling.\n",
        "\n",
        "        TensorRT will report time spent on each layer in stdout for each forward run.\n",
        "        \"\"\"\n",
        "        if not self.context.profiler:\n",
        "            self.context.profiler = CustomProfiler() if profiler is None else profiler\n",
        "\n",
        "    def input_spec(self) -> tuple[list[int], np.dtype]:\n",
        "        \"\"\"Get the specs for the input tensor of the network. Useful to prepare memory allocations.\n",
        "\n",
        "        Returns:\n",
        "            Tuple[List[int], np.dtype]: Two items, the shape of the input tensor and its (numpy) datatype.\n",
        "        \"\"\"\n",
        "        # TODO: Index 0 is wrong\n",
        "        return self.inputs[0][\"shape\"], self.inputs[0][\"dtype\"]\n",
        "\n",
        "    def output_spec(self) -> list[tuple[list[int], np.dtype]]:\n",
        "        \"\"\"Get the specs for the output tensors of the network. Useful to prepare memory allocations.\n",
        "\n",
        "        Returns:\n",
        "            List[Tuple[List[int], np.dtype]]: A list with two items per element, the shape and (numpy) datatype of each output tensor.\n",
        "        \"\"\"\n",
        "        specs = []\n",
        "        for o in self.outputs:\n",
        "            specs.append((o[\"shape\"], o[\"dtype\"]))\n",
        "        return specs\n",
        "\n",
        "    def switch_profile(self, idx: int) -> None:\n",
        "        \"\"\"Switch to a different optimization profile.\n",
        "\n",
        "        Args:\n",
        "            idx (int): The index of the optimization profile to switch to.\n",
        "        \"\"\"\n",
        "        self.context.set_optimization_profile_async(\n",
        "            idx, self.stream\n",
        "        )  # Switch to profile 1 (index 1)\n",
        "\n",
        "    def infer(self, batch: np.ndarray) -> list[np.ndarray]:\n",
        "        \"\"\"Execute inference on a batch of images.\n",
        "\n",
        "        Args:\n",
        "            batch (np.ndarray): A numpy array holding the image batch.\n",
        "\n",
        "        Returns:\n",
        "            List[np.ndarray]: A list of outputs as numpy arrays.\n",
        "        \"\"\"\n",
        "        # If the optimization profile does not match, change it here:\n",
        "        # In our setup the opt. profiles are selected in a way that the\n",
        "        # optimal batch sizes are powers of 2. In practice, one would not do\n",
        "        # it in this way:\n",
        "        # TODO: If the profile does not fit in the range, find the profile with\n",
        "        # the closest optimal settings...\n",
        "        expected_profile = int(np.log2(batch.shape[0]))\n",
        "        if self.context.active_optimization_profile != expected_profile:\n",
        "            print(\"Changing to profile\", expected_profile)\n",
        "            self.switch_profile(expected_profile)\n",
        "\n",
        "        if self.context.get_tensor_shape(\"input\") != batch.shape:\n",
        "            print(\"Changing batch size for inference!\")\n",
        "\n",
        "            # Adapt the input shape:\n",
        "            self.context.set_input_shape(\"input\", batch.shape)\n",
        "        print_dbg(\n",
        "            \"self.engine.get_tensor_shape(input)\", self.engine.get_tensor_shape(\"input\")\n",
        "        )\n",
        "        print_dbg(\n",
        "            \"self.context.get_tensor_shape(input)\",\n",
        "            self.context.get_tensor_shape(\"input\"),\n",
        "        )\n",
        "        print_dbg(\n",
        "            \"self.context.get_tensor_shape(output)\",\n",
        "            self.context.get_tensor_shape(\"output\"),\n",
        "        )\n",
        "        print_dbg()\n",
        "\n",
        "        o_idx = self.context.active_optimization_profile\n",
        "        print_dbg(\"Active output index (opt. profile)\", o_idx)\n",
        "\n",
        "        # Copy I/O and Execute\n",
        "        memcpy_host_to_device(self.inputs[o_idx][\"allocation\"], batch)\n",
        "\n",
        "        self.context.execute_v2(self.allocations)\n",
        "        memcpy_device_to_host(\n",
        "            self.outputs[o_idx][\"host_allocation\"], self.outputs[o_idx][\"allocation\"]\n",
        "        )\n",
        "\n",
        "        return [self.outputs[o_idx][\"host_allocation\"]]\n",
        "\n",
        "\n",
        "\n",
        "\"\"\"Main function to run the TensorRT inference.\"\"\"\n",
        "#trt_path = \"dtmf_classifier_int8_tesla_t4.trt\"\n",
        "seq_len = 2**12\n",
        "trt_infer = TensorRTInfer(trt_path)\n",
        "trt_infer.enable_profiling() # Use only for debugging/analysis purposes, since it slows down inference\n",
        "\n",
        "print(\"Starting inference\")\n",
        "if False:\n",
        "    spec = trt_infer.input_spec()\n",
        "    print(\"spec\", spec)\n",
        "    # batch = my_dialed_sequence_signal.reshape(1, -1, 1).astype(np.float32)\n",
        "    X, Y = dtmf_gen.generate_dataset(n_samples=64, t_length=seq_len)\n",
        "    o = trt_infer.infer(X.astype(np.float32))[0][: X.shape[0]]\n",
        "    print(\"o.shape\", o.shape)\n",
        "\n",
        "    thresholded = (o > 0.5).astype(int)\n",
        "    print((thresholded == Y).sum() / Y.size)\n",
        "    for iidx in range(X.shape[0]):\n",
        "        predicted_key_sequence = dtmf_gen.decode_prediction(o[iidx])\n",
        "        original_key_sequence = dtmf_gen.decode_prediction(Y[iidx])\n",
        "        if predicted_key_sequence != original_key_sequence:\n",
        "            print(\"predicted_key_sequence\", predicted_key_sequence)\n",
        "            print(\"original_key_sequence\", original_key_sequence)\n",
        "    print(\"Done!\")\n",
        "else:\n",
        "    print(\"No input provided, running in benchmark mode\")\n",
        "    trt_infer.switch_profile(0)\n",
        "    spec = trt_infer.input_spec()\n",
        "    # TODO:\n",
        "    spec = (512, 4096, 1), np.float32\n",
        "\n",
        "    rng = np.random.default_rng()\n",
        "    batch = rng.random(spec[0]).astype(spec[1])\n",
        "    # batch = np.random.rand(*spec[0]).astype(spec[1])\n",
        "\n",
        "    print(\"batch.shape\", batch.shape)\n",
        "    print(\"batch.dtype\", batch.dtype)\n",
        "    print(\"min/max/mean\", batch.min(), batch.max(), batch.mean())\n",
        "    iterations = 100\n",
        "    times = []\n",
        "    for i in range(20):  # GPU warmup iterations\n",
        "        trt_infer.infer(batch)\n",
        "    for i in range(iterations):\n",
        "        start = time.time()\n",
        "        o = trt_infer.infer(batch)\n",
        "        # print(\"o.shape\", o[0].shape)\n",
        "        times.append(time.time() - start)\n",
        "        print(f\"Iteration {i + 1} / {iterations}\", end=\"\\r\")\n",
        "    print(\"Benchmark results include time for H2D and D2H memory copies\")\n",
        "    print(f\"Average Latency: {1000 * np.average(times):.3f} ms\")\n",
        "    print(f\"Average Throughput: {trt_infer.batch_size / np.average(times):.1f} ips\")\n",
        "\n",
        "print()\n",
        "print(\"Finished Processing\")\n"
      ]
    },
    {
      "cell_type": "code",
      "source": [
        "trt_path"
      ],
      "metadata": {
        "id": "NJxjPLRYoscs"
      },
      "execution_count": null,
      "outputs": []
    },
    {
      "cell_type": "code",
      "source": [
        "import pandas as pd\n",
        "df_fp16 = pd.DataFrame([ (k, np.mean(v)) for k, v in trt_infer.context.profiler.layers.items()], columns=[\"Layer\", \"Time (ms)\"])"
      ],
      "metadata": {
        "id": "ZjSx_JaTn9Im"
      },
      "execution_count": null,
      "outputs": []
    },
    {
      "cell_type": "code",
      "source": [
        "df = pd.concat([df_int8.set_index(\"Layer\").add_suffix(' int8'), df_fp16.set_index(\"Layer\").add_suffix(' fp16')], axis=1)"
      ],
      "metadata": {
        "id": "UPSFFqu8pFfz"
      },
      "execution_count": null,
      "outputs": []
    },
    {
      "cell_type": "code",
      "source": [
        "df[\"diff\"] = df[\"Time (ms) fp16\"] - df[\"Time (ms) int8\"]"
      ],
      "metadata": {
        "id": "R461aK52qy2R"
      },
      "execution_count": null,
      "outputs": []
    },
    {
      "cell_type": "code",
      "source": [
        "pd.set_option('display.max_rows', None)  # Display up to 50 columns\n",
        "df.sort_values(\"diff\", ascending=False)"
      ],
      "metadata": {
        "id": "eDZQHQaupi_z"
      },
      "execution_count": null,
      "outputs": []
    },
    {
      "cell_type": "code",
      "source": [
        "for k, v in trt_infer.context.profiler.layers.items():\n",
        "  print(k[-40:], np.sum(v))"
      ],
      "metadata": {
        "id": "JK_aoGgKZh69"
      },
      "execution_count": null,
      "outputs": []
    },
    {
      "cell_type": "code",
      "source": [
        "trt_infer.profiler.report_layer_time(0)"
      ],
      "metadata": {
        "id": "tLg5ItFTYRCZ"
      },
      "execution_count": null,
      "outputs": []
    },
    {
      "cell_type": "markdown",
      "source": [
        "### Laden der einzelnen Modelle für die Inferenz"
      ],
      "metadata": {
        "id": "ajTlV0ndF3j0"
      }
    },
    {
      "cell_type": "code",
      "execution_count": null,
      "metadata": {
        "id": "JYcDlVrLqWwx"
      },
      "outputs": [],
      "source": [
        "from techdays25.onnx_utils import (\n",
        "    OnnxModel,\n",
        "    benchmark_models_on_batch_size,\n",
        "    plot_benchmark_results,\n",
        ")\n",
        "from pathlib import Path\n",
        "\n",
        "# FP32 ONNX Model\n",
        "onnx_classifier = OnnxModel(\"dtmf_classifier.onnx\")\n",
        "\n",
        "# FP16 ONNX Model\n",
        "onnx_classifier_fp16 = OnnxModel(\"dtmf_classifier_fp16.onnx\")\n",
        "\n",
        "# FP32 TensorRT Model\n",
        "# tensorrt_classifier_fp32 = TensorRTInfer(\"dtmf_classifier_fp32_nvidia_l4.trt\")\n",
        "# tensorrt_classifier_fp16 = TensorRTInfer(\"dtmf_classifier_fp16_nvidia_l4.trt\")\n",
        "tensorrt_classifier_int8 = TensorRTInfer(f\"dtmf_classifier_int8_{get_gpu_type()}.trt\")"
      ]
    },
    {
      "cell_type": "code",
      "execution_count": null,
      "metadata": {
        "id": "7H557RUJyEhf"
      },
      "outputs": [],
      "source": [
        "# TODO: Allow to select model here:\n",
        "# TODO: Time axis has to be dynamic!\n",
        "onnx_prediction = onnx_classifier.predict(\n",
        "    my_dialed_sequence_signal.reshape(1, -1, 1).astype(np.float32)\n",
        ")\n",
        "predicted_key_sequence = dtmf_gen.decode_prediction(onnx_prediction)\n",
        "print(\"Predicted Sequence:\", predicted_key_sequence)\n",
        "print(\n",
        "    \"Passt die Prognose zur tatsächlichen gewählten Sequenz?:\",\n",
        "    \"Ja!\" if predicted_key_sequence == my_dialed_sequence_keys else \"Nein!\",\n",
        ")"
      ]
    },
    {
      "cell_type": "code",
      "execution_count": null,
      "metadata": {
        "id": "wZZNC80qUvnP"
      },
      "outputs": [],
      "source": [
        "# TODO: Validate ONNX models and Keras Model on Validation/Test data"
      ]
    },
    {
      "cell_type": "markdown",
      "metadata": {
        "id": "Ns8srDuD5Ji1"
      },
      "source": [
        "### Peformanzmessung (Latenz) der individuellen Modelle"
      ]
    },
    {
      "cell_type": "code",
      "execution_count": null,
      "metadata": {
        "id": "Qj0splX4gqHP"
      },
      "outputs": [],
      "source": [
        "n_runs = 100\n",
        "n_warmup = 20\n",
        "signal_length = 2**12\n",
        "batch_sizes = [2**i for i in range(11)]\n",
        "\n",
        "model_dict = {\n",
        "    # \"keras\": lambda x: model.predict(x, verbose=0),\n",
        "    #\"ONNX (FP32)\": onnx_classifier.predict,\n",
        "    \"ONNX (FP16)\": onnx_classifier_fp16.predict,\n",
        "    # \"TRT (FP32)\": tensorrt_classifier_fp32.infer,\n",
        "    # \"TRT (FP16)\": tensorrt_classifier_fp16.infer,\n",
        "    \"TRT (INT8)\": tensorrt_classifier_int8.infer,\n",
        "}\n",
        "\n",
        "dtmf_benchmark_results = benchmark_models_on_batch_size(\n",
        "    model_dict=model_dict,\n",
        "    input_shape=(signal_length, 1),\n",
        "    batch_sizes=batch_sizes,\n",
        "    n_runs=n_runs,\n",
        "    n_warmup=n_warmup,\n",
        ")"
      ]
    },
    {
      "cell_type": "code",
      "execution_count": null,
      "metadata": {
        "id": "uzxwUrIdqNFN"
      },
      "outputs": [],
      "source": [
        "plot_benchmark_results(results=dtmf_benchmark_results, title=\"Inferenzzeiten von DTMF-Klassifikationsmodellen\", xscale=\"log\", yscale=\"log\")"
      ]
    },
    {
      "cell_type": "code",
      "source": [
        "dtmf_benchmark_results['ONNX (FP16)'][512].mean() / dtmf_benchmark_results['TRT (INT8)'][512].mean()\n",
        "# dtmf_classifier_slightly_bigger_transposed_conv: 1.39\n",
        "# dtmf_classifier_residual2 : 1.26\n",
        "# dtmf_classifier_xl_residual: 1.37\n"
      ],
      "metadata": {
        "id": "jUxCMkL1K2OI"
      },
      "execution_count": null,
      "outputs": []
    },
    {
      "cell_type": "code",
      "execution_count": null,
      "metadata": {
        "id": "xb6KDq61AI_G"
      },
      "outputs": [],
      "source": [
        "# import onnx\n",
        "# Load the ONNX model\n",
        "# model_path = \"dtmf_classifier.onnx\"\n",
        "# model = onnx.load(model_path)"
      ]
    },
    {
      "cell_type": "markdown",
      "source": [
        "### TODO: Genauigkeit der einzelnen Modelle\n",
        "- Genaugigkeit auch für verschiedene Rauschlevel"
      ],
      "metadata": {
        "id": "d7bQfXSiN86q"
      }
    },
    {
      "cell_type": "markdown",
      "metadata": {
        "id": "bN2XVzIyy_Ww"
      },
      "source": [
        "## Reproduktion des Modells/Erneutes Training des Keras Modells (Optional)\n",
        "\n",
        "TODO: Hinweis, dass Sitzung neugesrartet werden sollte"
      ]
    },
    {
      "cell_type": "code",
      "execution_count": null,
      "metadata": {
        "id": "7AWzMtPVQkgb"
      },
      "outputs": [],
      "source": [
        "# from collections.abc import Callable\n",
        "from pathlib import Path\n",
        "\n",
        "import numpy as np\n",
        "import tensorflow as tf\n",
        "from tensorflow.keras import layers\n",
        "from scipy.io import wavfile"
      ]
    },
    {
      "cell_type": "code",
      "execution_count": null,
      "metadata": {
        "id": "Shl0yW5zcdri"
      },
      "outputs": [],
      "source": [
        "from techdays25.dtmf_generation import DtmfGenerator\n",
        "from techdays25.dtmf_models import build_dtmf_classifier_model\n",
        "\n",
        "dtmf_gen = DtmfGenerator(\n",
        "    dur_key=(0.02, 0.1),\n",
        "    dur_pause=(0.01, 0.05),\n",
        "    noise_factor=(0.0,60.0),\n",
        "    noise_freq_range=(0.0, 20000.0),\n",
        ")"
      ]
    },
    {
      "cell_type": "code",
      "source": [
        "# TODO add use_bias=False to Conv1D layers\n",
        "\n",
        "# This model can be used as a basis to analyze it in the frequency domain.\n",
        "# It appears to show some interesting insights in the frequency domain.\n",
        "import numpy as np\n",
        "from tensorflow.keras.models import Model\n",
        "from tensorflow.keras.layers import Input, Conv1D, Concatenate, Activation\n",
        "\n",
        "# Define the input shape\n",
        "input_shape = (None, 1)  # Example: sequence length is variable, and there are 3 features per time step\n",
        "\n",
        "# Input layer\n",
        "inputs = Input(shape=input_shape, name=\"input\")\n",
        "\n",
        "# Learn a filter for the input:\n",
        "conv_layer_input = Conv1D(filters=1, kernel_size=32, padding='same', activation='linear', name=f'input_filter')(inputs)\n",
        "\n",
        "# Do some downsampling first\n",
        "avg_pooled = layers.AveragePooling1D(padding=\"same\", pool_size=2)(conv_layer_input)\n",
        "avg_pooled_1 = layers.AveragePooling1D(padding=\"same\", pool_size=2)(avg_pooled)\n",
        "\n",
        "# Define 8 different Conv1D layers\n",
        "conv_layers = []\n",
        "for i in range(4):\n",
        "    conv_layer = Conv1D(filters=1, kernel_size=64, padding='same', activation='linear', name=f'conv_1_{i+1}')(avg_pooled_1)\n",
        "\n",
        "    max_pooled_layer =  layers.AveragePooling1D(padding=\"same\", pool_size=2)(conv_layer)\n",
        "    conv_layer_1 = Conv1D(filters=1, kernel_size=64, padding='same', activation='linear', name=f'conv_2_{i+1}')(max_pooled_layer)\n",
        "\n",
        "    max_pooled_layer_2 = layers.MaxPooling1D(padding=\"same\")(conv_layer_1)\n",
        "    conv_layer_2 = Conv1D(filters=1, kernel_size=64, padding='same', activation='linear', name=f'conv_3_{i+1}')(max_pooled_layer_2)\n",
        "    upsamp_layer = layers.UpSampling1D(size=16)(conv_layer_2)\n",
        "\n",
        "    conv_layers.append(upsamp_layer)\n",
        "\n",
        "# Concatenate the outputs of the 8 Conv1D layers\n",
        "concatenated = Concatenate(name=\"concat\")(conv_layers)\n",
        "\n",
        "# Final 1x1 Conv1D layer with softmax activation\n",
        "output = Conv1D(filters=dtmf_gen.get_num_keys() + 1, kernel_size=1, activation='softmax', name=\"final_conv\")(concatenated)\n",
        "\n",
        "# Create the model\n",
        "model = Model(inputs=inputs, outputs=output, name=\"MultiConv1DModel\")\n",
        "\n",
        "# Create an additional model to output the concatenated layer\n",
        "intermediate_model = Model(inputs=inputs, outputs=concatenated, name=\"IntermediateModel\")\n",
        "\n",
        "# Print the model summary\n",
        "model.summary()\n"
      ],
      "metadata": {
        "id": "tjb5kdPBgrrc"
      },
      "execution_count": null,
      "outputs": []
    },
    {
      "cell_type": "code",
      "source": [
        "from tensorflow.keras import layers\n",
        "import tensorflow as tf\n",
        "\n",
        "# Define the input shape\n",
        "input_shape = (None, 1)\n",
        "num_classes = dtmf_gen.get_num_keys() + 1\n",
        "\n",
        "model = tf.keras.Sequential([\n",
        "        layers.Input(shape=input_shape),\n",
        "\n",
        "        # roughly, some temporal autoencoder structure\n",
        "        layers.Conv1D(32,kernel_size=32, activation=\"elu\",padding=\"same\"),\n",
        "        layers.MaxPooling1D(padding=\"same\"),\n",
        "        layers.Conv1D(32, kernel_size=32, activation=\"elu\", padding=\"same\"),\n",
        "        layers.MaxPooling1D(padding=\"same\"),\n",
        "        layers.Conv1D(32, kernel_size=32, activation=\"elu\", padding=\"same\"),\n",
        "        layers.MaxPooling1D(padding=\"same\"),\n",
        "        layers.Conv1D(32, kernel_size=32, activation=\"elu\", padding=\"same\"),\n",
        "        layers.MaxPooling1D(padding=\"same\"),\n",
        "        layers.Conv1D(32, kernel_size=32, activation=\"elu\", padding=\"same\"),\n",
        "        layers.Conv1DTranspose(32, kernel_size=32,strides=2, padding=\"same\"),\n",
        "        layers.Conv1D(32, kernel_size=32, activation=\"elu\", padding=\"same\"),\n",
        "        layers.Conv1DTranspose(32, kernel_size=32,strides=2, padding=\"same\"),\n",
        "        layers.Conv1D(32, kernel_size=32, activation=\"elu\", padding=\"same\"),\n",
        "        layers.Conv1DTranspose(32, kernel_size=32,strides=2, padding=\"same\"),\n",
        "        layers.Conv1D(32, kernel_size=32, activation=\"elu\", padding=\"same\"),\n",
        "        layers.Conv1DTranspose(32, kernel_size=32,strides=2, padding=\"same\"),\n",
        "        layers.Conv1D(32, kernel_size=32, activation=\"elu\", padding=\"same\"),\n",
        "\n",
        "        # Final layer\n",
        "        layers.Conv1D(num_classes, kernel_size=1, activation=\"softmax\", padding=\"same\"),\n",
        "    ])\n",
        "\n",
        "model.summary()"
      ],
      "metadata": {
        "id": "y-kWNpC8LTlo"
      },
      "execution_count": null,
      "outputs": []
    },
    {
      "cell_type": "code",
      "execution_count": null,
      "metadata": {
        "id": "iN_hSCvRHtgy"
      },
      "outputs": [],
      "source": [
        "X_train, Y_train = dtmf_gen.generate_dataset(n_samples=1024, t_length=2**14)\n",
        "X_val, Y_val = dtmf_gen.generate_dataset(n_samples=64, t_length=2**16)\n",
        "\n",
        "print(X_train.shape, Y_train.shape, X_train.min(), X_train.max())\n",
        "print(X_val.shape, Y_val.shape, X_val.min(), X_val.max())"
      ]
    },
    {
      "cell_type": "code",
      "source": [
        "# TODO: Schöner\n",
        "from matplotlib import pyplot as plt\n",
        "idx = 7\n",
        "plt.plot(X_train[idx,:,0])"
      ],
      "metadata": {
        "id": "BVDa0gpfMRmd"
      },
      "execution_count": null,
      "outputs": []
    },
    {
      "cell_type": "code",
      "source": [
        "# TODO: Schöner\n",
        "from matplotlib import pyplot as plt\n",
        "idx = 4\n",
        "plt.plot(X_val[idx,:,0])"
      ],
      "metadata": {
        "id": "lxswHcK4M-AZ"
      },
      "execution_count": null,
      "outputs": []
    },
    {
      "cell_type": "code",
      "source": [
        "from tensorflow.keras.utils import plot_model\n",
        "from IPython.display import Image, display\n",
        "\n",
        "# Plot the model graph and save to a temporary file\n",
        "#plot_model(model, to_file='model_plot.png', show_shapes=False, show_layer_names=True, dpi=300)\n",
        "\n",
        "# Display the plot inline\n",
        "#display(Image('model_plot.png'))"
      ],
      "metadata": {
        "id": "1i9AFr9Hmy0V"
      },
      "execution_count": null,
      "outputs": []
    },
    {
      "cell_type": "code",
      "execution_count": null,
      "metadata": {
        "id": "XX1JtkVWTrI5"
      },
      "outputs": [],
      "source": [
        "#model = build_dtmf_classifier_model((None, 1), dtmf_gen.get_num_keys() + 1)\n",
        "\n",
        "adam = tf.keras.optimizers.Adam(learning_rate=0.001)\n",
        "model.compile(\n",
        "    optimizer=adam, loss=\"categorical_crossentropy\", metrics=[\"accuracy\"]\n",
        ")  # multi-label\n",
        "#model.summary()"
      ]
    },
    {
      "cell_type": "code",
      "execution_count": null,
      "metadata": {
        "id": "FcganU0yPkdG"
      },
      "outputs": [],
      "source": [
        "model.fit(X_train, Y_train, batch_size=64, epochs=20, validation_data=(X_val, Y_val))"
      ]
    },
    {
      "cell_type": "code",
      "source": [
        "model.save(\"dtmf_classifier.keras\")"
      ],
      "metadata": {
        "id": "lKhU_0SSM5xk"
      },
      "execution_count": null,
      "outputs": []
    },
    {
      "cell_type": "code",
      "execution_count": null,
      "metadata": {
        "id": "FNrpNO97eX3Y"
      },
      "outputs": [],
      "source": [
        "# load again to make sure...\n",
        "model = tf.keras.models.load_model(\"dtmf_classifier.keras\")\n",
        "model.summary()"
      ]
    },
    {
      "cell_type": "code",
      "execution_count": null,
      "metadata": {
        "id": "aoeSluZ-MoYQ"
      },
      "outputs": [],
      "source": [
        "import IPython\n",
        "\n",
        "idx = 9\n",
        "\n",
        "# TODO: Duplicate Code below:\n",
        "pred = model.predict(X_val[idx : idx + 1])\n",
        "cmap = plt.get_cmap(\"tab20\")\n",
        "colors = [cmap(i) for i in range(16)]  # Get 16 distinct colors\n",
        "\n",
        "plt.figure(figsize=(10, 5))\n",
        "plt.plot(X_val[idx, :, 0])\n",
        "\n",
        "for key_idx in range(pred.shape[-1] - 1):  # last index represents pauses\n",
        "    plt.plot(\n",
        "        pred[0, :, key_idx],\n",
        "        label=f\"{dtmf_gen.get_key(key_idx=key_idx)}\",\n",
        "        color=colors[key_idx],\n",
        "    )\n",
        "plt.legend(loc=\"upper center\", bbox_to_anchor=(0.5, -0.15), ncol=8)\n",
        "plt.show()\n",
        "\n",
        "wavfile.write(\n",
        "    \"val.wav\",\n",
        "    dtmf_gen.get_sample_rate(),\n",
        "    (X_val[idx] * np.iinfo(np.int32).max).flatten().astype(np.int32),\n",
        ")\n",
        "IPython.display.Audio(\"val.wav\")"
      ]
    },
    {
      "cell_type": "code",
      "execution_count": null,
      "metadata": {
        "id": "SozwcF8LNNIZ"
      },
      "outputs": [],
      "source": [
        "# Compute Accuracy\n",
        "pred = model.predict(X_val)\n",
        "thresholded = (pred > 0.5).astype(int)\n",
        "\n",
        "(thresholded == Y_val).sum() / Y_val.size"
      ]
    },
    {
      "cell_type": "markdown",
      "metadata": {
        "id": "jgfqAPHRf7OJ"
      },
      "source": [
        "# TRTExec"
      ]
    },
    {
      "cell_type": "code",
      "execution_count": null,
      "metadata": {
        "id": "8dNOfG_zsJAx"
      },
      "outputs": [],
      "source": [
        "!uname -a\n",
        "!cat /etc/os-release\n",
        "!ls -l /usr/local\n",
        "!nvcc --version\n",
        "!nvidia-smi"
      ]
    },
    {
      "cell_type": "markdown",
      "metadata": {
        "id": "PKxcfRC-l55h"
      },
      "source": [
        "# Experiments with different Data Types"
      ]
    },
    {
      "cell_type": "code",
      "execution_count": null,
      "metadata": {
        "id": "bbQfmvwtIUei"
      },
      "outputs": [],
      "source": [
        "# Import tensorrt_libs\n",
        "\n",
        "# Import ONNX dependencies\n",
        "from onnxruntime.quantization import (\n",
        "    CalibrationDataReader,\n",
        ")"
      ]
    },
    {
      "cell_type": "markdown",
      "metadata": {
        "id": "4y0ndHlTcqzX"
      },
      "source": [
        "# Further Experiments with Data Types"
      ]
    },
    {
      "cell_type": "code",
      "execution_count": null,
      "metadata": {
        "id": "wlBaeR_oBUS7"
      },
      "outputs": [],
      "source": [
        "import sys\n",
        "\n",
        "sys.float_info"
      ]
    },
    {
      "cell_type": "code",
      "execution_count": null,
      "metadata": {
        "id": "frFXsleBYGPT"
      },
      "outputs": [],
      "source": [
        "import numpy as np\n",
        "import torch\n",
        "\n",
        "\n",
        "def float_to_binary_fp32(num: float) -> str:\n",
        "    \"\"\"Converts a built-in floating point number (64-bit) to its FP32 binary representation.\n",
        "\n",
        "    Args:\n",
        "        num (float): The floating point number to convert.\n",
        "\n",
        "    Returns:\n",
        "        str: A string representing the binary format of the floating point number.\n",
        "    \"\"\"\n",
        "    print(\"fp32:\", num)\n",
        "    return \"\".join(f\"{c:0>8b}\" for c in struct.pack(\"!f\", num))\n",
        "\n",
        "\n",
        "def float_to_binary_fp16(num: float) -> str:\n",
        "    \"\"\"Converts a builtin-in floating point number to a 16-bit floating point number and returns its binary representation.\n",
        "\n",
        "    Args:\n",
        "        num (float): The floating point number to convert.\n",
        "\n",
        "    Returns:\n",
        "        str: A string representing the binary format of the 16-bit floating point number.\n",
        "    \"\"\"\n",
        "    # Convert the number to a float16\n",
        "    float16_num = np.float16(num)\n",
        "\n",
        "    print(\"fp16:\", float16_num)\n",
        "\n",
        "    # Convert the float16 to bytes\n",
        "    float16_bytes = float16_num.tobytes()\n",
        "\n",
        "    # Convert the bytes to a binary string (big endian notation)\n",
        "    return \"\".join(f\"{byte:08b}\" for byte in reversed(float16_bytes))\n",
        "\n",
        "\n",
        "def float_to_binary_bf16(num: float) -> str:\n",
        "    \"\"\"Converts a floating point number to bfloat16  and returns its binary representation.\n",
        "\n",
        "    Args:\n",
        "        num (float): The floating point number to convert.\n",
        "\n",
        "    Returns:\n",
        "        str: A string representing the binary format of the bfloat16 floating point number.\n",
        "    \"\"\"\n",
        "    # Create a tensor with the given number\n",
        "    a = torch.Tensor([num])\n",
        "\n",
        "    # Convert the tensor to bfloat16\n",
        "    bf = a.bfloat16()\n",
        "\n",
        "    print(\"bf16\", bf)\n",
        "\n",
        "    # Convert the bfloat16 tensor to bytes\n",
        "    bf_bytes = bytes(bf.untyped_storage())\n",
        "\n",
        "    # Convert the bytes to a binary string (big endian notation)\n",
        "    return \"\".join(f\"{byte:08b}\" for byte in reversed(bf_bytes))\n",
        "\n",
        "\n",
        "def float_to_binary_fp8_e4m3(num: float) -> str:\n",
        "    \"\"\"Converts a  floating point number to float8 (e4m3) and returns its binary representation.\n",
        "\n",
        "    Args:\n",
        "        num (float): The floating point number to convert.\n",
        "\n",
        "    Returns:\n",
        "        str: A string representing the binary format of the float8 (e4m3) floating point number.\n",
        "    \"\"\"\n",
        "    # Create a tensor with the given number\n",
        "    a = torch.Tensor([num])\n",
        "\n",
        "    # Convert the tensor to float8 (e4m3)\n",
        "    bf = a.to(torch.float8_e4m3fn)\n",
        "\n",
        "    print(\"fp8_e4m3\", bf)\n",
        "\n",
        "    # Convert the float8 tensor to bytes\n",
        "    bf_bytes = bytes(bf.untyped_storage())\n",
        "\n",
        "    # Convert the bytes to a binary string\n",
        "    return \"\".join(f\"{byte:08b}\" for byte in bf_bytes)\n",
        "\n",
        "\n",
        "def float_to_binary_fp8_e5m2(num: float) -> str:\n",
        "    \"\"\"Converts a floating point number to float8 (e5m2)  and returns its binary representation.\n",
        "\n",
        "    Args:\n",
        "        num (float): The floating point number to convert.\n",
        "\n",
        "    Returns:\n",
        "        str: A string representing the binary format of the float8 (e5m2) floating point number.\n",
        "    \"\"\"\n",
        "    # Create a tensor with the given number\n",
        "    a = torch.Tensor([num])\n",
        "\n",
        "    # Convert the tensor to float8 (e5m2)\n",
        "    bf = a.to(torch.float8_e5m2)\n",
        "\n",
        "    print(\"fp8_e5m2\", bf)\n",
        "\n",
        "    # Convert the float8 tensor to bytes\n",
        "    bf_bytes = bytes(bf.untyped_storage())\n",
        "\n",
        "    # Convert the bytes to a binary string\n",
        "    return \"\".join(f\"{byte:08b}\" for byte in bf_bytes)\n",
        "\n",
        "\n",
        "def float_to_binary_int(num: float, bit_length: int = 8) -> str:\n",
        "    \"\"\"Converts a floating point number to its binary representation as an integer.\n",
        "\n",
        "    Args:\n",
        "        num (float): The floating point number to convert.\n",
        "        bit_length (int, optional): The bit length of the binary representation. Defaults to 8.\n",
        "\n",
        "    Returns:\n",
        "        str: A string representing the binary format of the integer part of the floating point number.\n",
        "    \"\"\"\n",
        "    return np.binary_repr(round(num), width=bit_length)\n",
        "\n",
        "\n",
        "num = -8.875074538462327 - 2**-7 - 2**-8\n",
        "float_to_binary_fp32(num)\n",
        "# float_to_binary_fp16(num)\n",
        "# float_to_binary_bf16(num)\n",
        "# float_to_binary_fp8_e4m3(num)\n",
        "# float_to_binary_fp8_e5m2(num)\n",
        "# float_to_binary_int(num, bit_length=8)"
      ]
    },
    {
      "cell_type": "code",
      "execution_count": null,
      "metadata": {
        "id": "l_f2kRTHj4Qd"
      },
      "outputs": [],
      "source": []
    },
    {
      "cell_type": "code",
      "execution_count": null,
      "metadata": {
        "id": "Ubud1lCaBUS8"
      },
      "outputs": [],
      "source": [
        "-num - 2**3 - 2**-1 - 2**-2 - 2**-3 - 2**-7 - 2**-8\n",
        "\n",
        "\n",
        "(int(\"1111011100011101\", base=2) - 2**16) / 2**8"
      ]
    },
    {
      "cell_type": "code",
      "execution_count": null,
      "metadata": {
        "id": "H-X1F7z9BUS8"
      },
      "outputs": [],
      "source": [
        "import numpy as np\n",
        "\n",
        "s = \"1100100001111100\"\n",
        "b = int(s, base=2).to_bytes(2, \"little\")\n",
        "print(b)\n",
        "c = np.frombuffer(b, dtype=np.float16, count=1)\n",
        "print(c)"
      ]
    },
    {
      "cell_type": "code",
      "execution_count": null,
      "metadata": {
        "id": "dGjV-2lyBUS9"
      },
      "outputs": [],
      "source": [
        "# Binary string\n",
        "binary_string = \"11000001000011111000101100101011\"\n",
        "\n",
        "# Convert the binary string to an integer\n",
        "binary_int = int(binary_string, 2)\n",
        "\n",
        "# Convert the integer to bytes (4 bytes for float32)\n",
        "binary_bytes = binary_int.to_bytes(4, byteorder=\"big\")\n",
        "\n",
        "# Unpack the bytes to a float\n",
        "float_value = struct.unpack(\">f\", binary_bytes)[0]\n",
        "\n",
        "print(float_value)"
      ]
    },
    {
      "cell_type": "markdown",
      "metadata": {
        "id": "XeF16bolNFX1"
      },
      "source": [
        "# Analyze Model in Frequency domain"
      ]
    },
    {
      "cell_type": "code",
      "execution_count": null,
      "metadata": {
        "id": "AtRh4Dp-TUbs"
      },
      "outputs": [],
      "source": [
        "from collections.abc import Callable\n",
        "\n",
        "import matplotlib.pyplot as plt\n",
        "import numpy as np\n",
        "\n",
        "\n",
        "def multiple_formatter(\n",
        "    denominator: int = 2, number: float = np.pi, latex: str = r\"\\pi\"\n",
        ") -> Callable[[float, int], str]:\n",
        "    \"\"\"Creates a formatter function for matplotlib that formats axis labels as multiples of a given number.\n",
        "\n",
        "    Args:\n",
        "        denominator (int, optional): The denominator to use for the fraction representation. Defaults to 2.\n",
        "        number (float, optional): The base number to use for the multiples. Defaults to np.pi.\n",
        "        latex (str, optional): The LaTeX string to use for the base number.\n",
        "\n",
        "    Returns:\n",
        "        Callable[[float, int], str]: A function that formats a given value as a LaTeX fraction of the base number.\n",
        "    \"\"\"\n",
        "\n",
        "    def gcd(a: int, b: int) -> int:\n",
        "        \"\"\"Computes the greatest common divisor of two integers.\n",
        "\n",
        "        Args:\n",
        "            a (int): The first integer.\n",
        "            b (int): The second integer.\n",
        "\n",
        "        Returns:\n",
        "            int: The greatest common divisor of a and b.\n",
        "        \"\"\"\n",
        "        while b:\n",
        "            a, b = b, a % b\n",
        "        return a\n",
        "\n",
        "    def _multiple_formatter(x: float, pos: int) -> str:\n",
        "        \"\"\"Formats a given value as a LaTeX fraction of the base number.\n",
        "\n",
        "        Args:\n",
        "            x (float): The value to format.\n",
        "            pos (int): The position (not used in this implementation).\n",
        "\n",
        "        Returns:\n",
        "            str: The formatted string.\n",
        "        \"\"\"\n",
        "        den = denominator\n",
        "        num = np.int64(np.rint(den * x / number))\n",
        "        com = gcd(num, den)\n",
        "        (num, den) = (int(num / com), int(den / com))\n",
        "        if den == 1:\n",
        "            if num == 0:\n",
        "                return r\"$0$\"\n",
        "            if num == 1:\n",
        "                return rf\"${latex}$\"\n",
        "            if num == -1:\n",
        "                return rf\"$-{latex}$\"\n",
        "            return rf\"${num}{latex}$\"\n",
        "        if num == 1:\n",
        "            return rf\"$\\frac{{{latex}}}{{{den}}}$\"\n",
        "        if num == -1:\n",
        "            return rf\"$\\frac{{-{latex}}}{{{den}}}$\"\n",
        "        return rf\"$\\frac{{{num}{latex}}}{{{den}}}$\"\n",
        "\n",
        "    return _multiple_formatter\n",
        "\n",
        "\n",
        "class Multiple:\n",
        "    \"\"\"A class to create locators and formatters for matplotlib axes based on multiples of a given number.\"\"\"\n",
        "\n",
        "    def __init__(\n",
        "        self, denominator: int = 2, number: float = np.pi, latex: str = r\"\\pi\"\n",
        "    ):\n",
        "        \"\"\"Initializes the Multiple class with the given parameters.\n",
        "\n",
        "        Args:\n",
        "            denominator (int, optional): The denominator to use for the fraction representation. Defaults to 2.\n",
        "            number (float, optional): The base number to use for the multiples. Defaults to np.pi.\n",
        "            latex (str, optional): The LaTeX string to use for the base number.\n",
        "        \"\"\"\n",
        "        self.denominator = denominator\n",
        "        self.number = number\n",
        "        self.latex = latex\n",
        "\n",
        "    def locator(self) -> plt.MultipleLocator:\n",
        "        \"\"\"Creates a locator for matplotlib axes based on multiples of the base number.\n",
        "\n",
        "        Returns:\n",
        "            plt.MultipleLocator: A locator for matplotlib axes.\n",
        "        \"\"\"\n",
        "        return plt.MultipleLocator(self.number / self.denominator)\n",
        "\n",
        "    def formatter(self) -> plt.FuncFormatter:\n",
        "        \"\"\"Creates a formatter for matplotlib axes that formats labels as multiples of the base number.\n",
        "\n",
        "        Returns:\n",
        "            plt.FuncFormatter: A formatter for matplotlib axes.\n",
        "        \"\"\"\n",
        "        return plt.FuncFormatter(\n",
        "            multiple_formatter(self.denominator, self.number, self.latex)\n",
        "        )"
      ]
    },
    {
      "cell_type": "code",
      "execution_count": null,
      "metadata": {
        "id": "3us2xVYGRQS6"
      },
      "outputs": [],
      "source": [
        "#\n",
        "# Copyright (c) 2011 Christopher Felton\n",
        "#\n",
        "# This program is free software: you can redistribute it and/or modify\n",
        "# it under the terms of the GNU Lesser General Public License as published by\n",
        "# the Free Software Foundation, either version 3 of the License, or\n",
        "# (at your option) any later version.\n",
        "#\n",
        "# This program is distributed in the hope that it will be useful,\n",
        "# but WITHOUT ANY WARRANTY; without even the implied warranty of\n",
        "# MERCHANTABILITY or FITNESS FOR A PARTICULAR PURPOSE.  See the\n",
        "# GNU Lesser General Public License for more details.\n",
        "#\n",
        "# You should have received a copy of the GNU Lesser General Public License\n",
        "# along with this program.  If not, see <http://www.gnu.org/licenses/>.\n",
        "#\n",
        "\n",
        "# The following is derived from the slides presented by\n",
        "# Alexander Kain for CS506/606 \"Special Topics: Speech Signal Processing\"\n",
        "# CSLU / OHSU, Spring Term 2011.\n",
        "\n",
        "import matplotlib.pyplot as plt\n",
        "import numpy as np\n",
        "from matplotlib import patches\n",
        "\n",
        "\n",
        "def zplane(b, a, filename=None):\n",
        "    \"\"\"Will probably be removed soon.\n",
        "\n",
        "    Args:\n",
        "        b (_type_): _description_\n",
        "        a (_type_): _description_\n",
        "        filename (_type_, optional): _description_. Defaults to None.\n",
        "\n",
        "    Returns:\n",
        "        _type_: _description_\n",
        "    \"\"\"\n",
        "    # get a figure/plot\n",
        "    ax = plt.subplot(111)\n",
        "\n",
        "    # create the unit circle\n",
        "    uc = patches.Circle((0, 0), radius=1, fill=False, color=\"black\", ls=\"dashed\")\n",
        "    ax.add_patch(uc)\n",
        "\n",
        "    # The coefficients are less than 1, normalize the coeficients\n",
        "    if np.max(b) > 1:\n",
        "        kn = np.max(b)\n",
        "        b = b / float(kn)\n",
        "    else:\n",
        "        kn = 1\n",
        "\n",
        "    if np.max(a) > 1:\n",
        "        kd = np.max(a)\n",
        "        a = a / float(kd)\n",
        "    else:\n",
        "        kd = 1\n",
        "\n",
        "    # Get the poles and zeros\n",
        "    # p = np.roots(a)\n",
        "    # z = np.roots(b)\n",
        "    # k = kn/float(kd)\n",
        "    # Markus:\n",
        "    z, p, k = signal.tf2zpk(b, a)\n",
        "\n",
        "    # Plot the zeros and set marker properties\n",
        "    t1 = plt.plot(z.real, z.imag, \"go\", ms=10)\n",
        "    plt.setp(\n",
        "        t1,\n",
        "        markersize=10.0,\n",
        "        markeredgewidth=1.0,\n",
        "        markeredgecolor=\"k\",\n",
        "        markerfacecolor=\"g\",\n",
        "    )\n",
        "\n",
        "    # Plot the poles and set marker properties\n",
        "    t2 = plt.plot(p.real, p.imag, \"rx\", ms=10)\n",
        "    plt.setp(\n",
        "        t2,\n",
        "        markersize=12.0,\n",
        "        markeredgewidth=3.0,\n",
        "        markeredgecolor=\"r\",\n",
        "        markerfacecolor=\"r\",\n",
        "    )\n",
        "\n",
        "    ax.spines[\"left\"].set_position(\"center\")\n",
        "    ax.spines[\"bottom\"].set_position(\"center\")\n",
        "    ax.spines[\"right\"].set_visible(False)\n",
        "    ax.spines[\"top\"].set_visible(False)\n",
        "\n",
        "    # set the ticks\n",
        "    r = 1.5\n",
        "    plt.axis(\"scaled\")\n",
        "    plt.axis([-r, r, -r, r])\n",
        "    ticks = [-1, -0.5, 0.5, 1]\n",
        "    plt.xticks(ticks)\n",
        "    plt.yticks(ticks)\n",
        "\n",
        "    if filename is None:\n",
        "        plt.show()\n",
        "    else:\n",
        "        plt.savefig(filename)\n",
        "\n",
        "    return z, p, k"
      ]
    },
    {
      "cell_type": "code",
      "execution_count": null,
      "metadata": {
        "id": "mXofb-I-NH8R"
      },
      "outputs": [],
      "source": [
        "import tensorflow as tf"
      ]
    },
    {
      "cell_type": "code",
      "execution_count": null,
      "metadata": {
        "id": "ze0NbFHqNO-K"
      },
      "outputs": [],
      "source": [
        "model = tf.keras.models.load_model(\"dtmf_classifier.keras\")\n",
        "\n",
        "# Recreate the intermediate model\n",
        "intermediate_output = loaded_model.get_layer('concat').output\n",
        "recreated_intermediate_model = Model(inputs=loaded_model.input, outputs=intermediate_output, name=\"RecreatedIntermediateModel\")"
      ]
    },
    {
      "cell_type": "code",
      "execution_count": null,
      "metadata": {
        "id": "LVexf_PdNVDg"
      },
      "outputs": [],
      "source": [
        "# Assuming 'model' is your Keras model and 'n' is the index of the layer you are interested in\n",
        "n = 14  # Example: Get the weights and name of the 3rd layer (indexing starts from 0)\n",
        "\n",
        "# Access the n-th layer\n",
        "nth_layer = model.layers[n]\n",
        "\n",
        "# Get the weights of the n-th layer\n",
        "weights = nth_layer.get_weights()\n",
        "\n",
        "# Get the name of the n-th layer\n",
        "layer_name = nth_layer.name\n",
        "\n",
        "# Print the name and weights of the n-th layer\n",
        "print(f\"Name der {n + 1}. Schicht (Index {n}): {layer_name}\")\n",
        "# print(f\"Gewichte der {n+1}. Schicht (Index {n}):\\n\", weights)"
      ]
    },
    {
      "cell_type": "code",
      "execution_count": null,
      "metadata": {
        "id": "ejseu_jkNlci"
      },
      "outputs": [],
      "source": [
        "weights[0].shape  # (kernel_size, input_channels, num_filters)"
      ]
    },
    {
      "cell_type": "code",
      "source": [
        "frequencies = [8*2.0 * np.pi * f / dtmf_gen.get_sample_rate() for f in dtmf_gen.FREQS]\n",
        "frequencies"
      ],
      "metadata": {
        "id": "RCvM88wLWa3g"
      },
      "execution_count": null,
      "outputs": []
    },
    {
      "cell_type": "code",
      "execution_count": null,
      "metadata": {
        "id": "Ay9hPpIUPf-M"
      },
      "outputs": [],
      "source": [
        "import matplotlib.pyplot as plt\n",
        "import numpy as np\n",
        "from scipy import signal\n",
        "\n",
        "fig = plt.figure(figsize=(10, 2 * 6))\n",
        "\n",
        "for z in range(1):\n",
        "    dil_rate = 1\n",
        "    b = weights[0][:, 0, z]  # (kernel_size, channels, num_filters)\n",
        "    w, h = signal.freqz(b[::-1])\n",
        "    if dil_rate > 1:\n",
        "        m = b.shape\n",
        "        out = np.zeros((dil_rate) * m[0], dtype=b.dtype)\n",
        "        out[::dil_rate] = b\n",
        "        b = out[: -dil_rate + 1]\n",
        "        w, h = signal.freqz(b[::-1])\n",
        "\n",
        "    ax1 = fig.add_subplot(421 + z)\n",
        "\n",
        "    ax1.set_title(\"q=\" + str(dil_rate))\n",
        "\n",
        "    # plt.plot(w, 20 * np.log10(abs(h)), 'b')\n",
        "    plt.plot(w, abs(h), \"b\")\n",
        "    if z % 2 == 0:\n",
        "        plt.ylabel(\"Amplitude [dB]\", color=\"b\")\n",
        "    if z // 2 == 1:\n",
        "        plt.xlabel(r\"$\\hat\\omega$ [rad]\")  # Frequency [rad/sample]\n",
        "\n",
        "    ax2 = ax1.twinx()\n",
        "    angles = np.unwrap(np.angle(h))\n",
        "    # angles = angles % (2 * np.pi) - np.pi\n",
        "    plt.plot(w, angles, \"g\")\n",
        "    if z % 2 == 1:\n",
        "        plt.ylabel(\"Angle [rad]\", color=\"g\")\n",
        "    plt.grid()\n",
        "    # plt.axis('tight')\n",
        "\n",
        "    ax1.xaxis.grid(True)\n",
        "    ax1.xaxis.set_major_locator(plt.MultipleLocator(np.pi / 2))\n",
        "    ax1.xaxis.set_minor_locator(plt.MultipleLocator(np.pi / 10))\n",
        "    ax1.xaxis.set_major_formatter(plt.FuncFormatter(multiple_formatter()))\n",
        "\n",
        "    ax2.yaxis.grid(True)\n",
        "    ax2.yaxis.set_major_locator(plt.MultipleLocator(dil_rate * np.pi))\n",
        "    # ax2.yaxis.set_minor_locator(plt.MultipleLocator(2*np.pi))\n",
        "    ax2.yaxis.set_major_formatter(plt.FuncFormatter(multiple_formatter()))\n",
        "\n",
        "    # Plot vertical lines at specified frequencies\n",
        "    if frequencies:\n",
        "        for freq in frequencies:\n",
        "            ax1.axvline(x=freq, color='r', linestyle='--')\n",
        "\n",
        "plt.tight_layout(pad=0.5)\n",
        "# plt.savefig(\"pdf/example-frequency-response-ecg1.pdf\")\n",
        "plt.show()"
      ]
    },
    {
      "cell_type": "code",
      "execution_count": null,
      "metadata": {
        "id": "3zg3V72mRHeN"
      },
      "outputs": [],
      "source": [
        "zplane(b=b, a=np.array([1]))"
      ]
    },
    {
      "cell_type": "code",
      "execution_count": null,
      "metadata": {
        "id": "7FNI7hwmWHzP"
      },
      "outputs": [],
      "source": [
        "import matplotlib.pyplot as plt\n",
        "import numpy as np\n",
        "\n",
        "\n",
        "def zplane(b, a=np.array([1])):\n",
        "    \"\"\"Plot the complex z-plane given a transfer function.\"\"\"\n",
        "    # Create a unit circle\n",
        "    plt.figure(figsize=(8, 8))\n",
        "    ax = plt.subplot(1, 1, 1)\n",
        "    unit_circle = plt.Circle((0, 0), 1, color=\"gray\", fill=False, linestyle=\"dotted\")\n",
        "    ax.add_artist(unit_circle)\n",
        "\n",
        "    # Plot zeros and poles\n",
        "    zeros = np.roots(b)\n",
        "    poles = np.roots(a)\n",
        "    plt.scatter(\n",
        "        np.real(zeros),\n",
        "        np.imag(zeros),\n",
        "        s=50,\n",
        "        marker=\"o\",\n",
        "        facecolors=\"none\",\n",
        "        edgecolors=\"b\",\n",
        "        label=\"Zeros\",\n",
        "    )\n",
        "    plt.scatter(\n",
        "        np.real(poles), np.imag(poles), s=50, marker=\"x\", color=\"r\", label=\"Poles\"\n",
        "    )\n",
        "\n",
        "    # Set plot limits and labels\n",
        "    plt.xlim(-1.5, 1.5)\n",
        "    plt.ylim(-1.5, 1.5)\n",
        "    plt.axhline(0, color=\"black\", lw=1)\n",
        "    plt.axvline(0, color=\"black\", lw=1)\n",
        "    plt.xlabel(\"Real Part\")\n",
        "    plt.ylabel(\"Imaginary Part\")\n",
        "    plt.title(\"Z-Plane Diagram\")\n",
        "    plt.grid()\n",
        "    plt.legend()\n",
        "    plt.show()\n",
        "\n",
        "\n",
        "# Example: Design a low-pass FIR filter using the window method\n",
        "# numtaps = 21  # Number of filter coefficients (taps)\n",
        "# cutoff = 0.3  # Normalized cutoff frequency (0 to 1, where 1 corresponds to Nyquist frequency)\n",
        "# b = firwin(numtaps, cutoff)\n",
        "\n",
        "# Plot the z-plane diagram for the FIR filter\n",
        "zplane(b)"
      ]
    },
    {
      "cell_type": "code",
      "source": [
        "import numpy as np\n",
        "import matplotlib.pyplot as plt\n",
        "from scipy.signal import chirp\n",
        "\n",
        "# Define parameters\n",
        "dur = 2.0  # Duration of the chirp signal in seconds\n",
        "sample_rate = 44100  # Sampling rate in Hz\n",
        "f1 = 0  # Start frequency of the chirp in Hz\n",
        "f2 = 2000  # End frequency of the chirp in Hz\n",
        "\n",
        "f_interest = [697, 770, 852, 941, 1209, 1336, 1477, 1633]\n",
        "\n",
        "# Generate the time vector\n",
        "tt = np.arange(0.0, dur, 1 / sample_rate)\n",
        "\n",
        "# Generate the chirp signal\n",
        "chirp_signal = chirp(tt, f0=f1, f1=f2, t1=dur, method='linear')\n",
        "\n",
        "# Calculate the time points for the frequencies of interest\n",
        "t_interest = [(f - f1) / (f2 - f1) * dur for f in f_interest]\n",
        "\n",
        "# Plot the chirp signal\n",
        "plt.figure(figsize=(20, 4))\n",
        "plt.plot(tt, chirp_signal, label='Chirp Signal')\n",
        "\n",
        "# Add markers for the frequencies of interest\n",
        "for f, t in zip(f_interest, t_interest):\n",
        "    plt.axvline(x=t, color='r', linestyle='--', alpha=0.5)\n",
        "    plt.text(t, 0, f'{f} Hz', rotation=90, verticalalignment='bottom', color='r')\n",
        "\n",
        "plt.title(f'Chirp Signal from {f1} Hz to {f2} Hz')\n",
        "plt.xlabel('Time [s]')\n",
        "plt.ylabel('Amplitude')\n",
        "plt.grid(True)\n",
        "plt.legend()\n",
        "plt.show()"
      ],
      "metadata": {
        "id": "XLsaVUMcP9Zt"
      },
      "execution_count": null,
      "outputs": []
    },
    {
      "cell_type": "code",
      "source": [
        "result = intermediate_model.predict(chirp_signal.reshape(1, -1, 1))\n",
        "result.shape"
      ],
      "metadata": {
        "id": "UbbzOWRPOjz3"
      },
      "execution_count": null,
      "outputs": []
    },
    {
      "cell_type": "code",
      "source": [
        "import numpy as np\n",
        "import matplotlib.pyplot as plt\n",
        "\n",
        "# Generate example data (896x8)\n",
        "# In practice, you would load your actual data here\n",
        "data = result.squeeze()\n",
        "\n",
        "# Create a figure with 8 subplots arranged vertically\n",
        "fig, axes = plt.subplots(4, 1, figsize=(10, 12), sharex=True)\n",
        "\n",
        "# Plot each time series in its respective subplot\n",
        "for i in range(4):\n",
        "    ax_data = data[:len(tt), i]\n",
        "    axes[i].plot(tt, ax_data, alpha=0.8)\n",
        "    #axes[i].set_title(f'Time Series {i+1}')\n",
        "    axes[i].grid(True)\n",
        "\n",
        "    # Add markers for the frequencies of interest\n",
        "    for f, t in zip(f_interest, t_interest):\n",
        "        axes[i].axvline(x=t, color='r', linestyle='--', alpha=0.5)\n",
        "        axes[i].text(t*1.01, min(ax_data), f'{f} Hz', rotation=90, verticalalignment='bottom', color='r')\n",
        "\n",
        "# Set common labels\n",
        "fig.text(0.5, 0.04, 'Time', ha='center')\n",
        "fig.text(0.04, 0.5, 'Amplitude', va='center', rotation='vertical')\n",
        "\n",
        "# Adjust layout to prevent overlap\n",
        "plt.tight_layout(rect=[0.03, 0.03, 1, 0.97])\n",
        "\n",
        "# Show the plot\n",
        "plt.show()\n"
      ],
      "metadata": {
        "id": "7aHPwaGFN7Fj"
      },
      "execution_count": null,
      "outputs": []
    },
    {
      "cell_type": "code",
      "source": [
        "dtmf_gen.FREQS"
      ],
      "metadata": {
        "id": "hw0kueXVOc0O"
      },
      "execution_count": null,
      "outputs": []
    },
    {
      "cell_type": "code",
      "source": [],
      "metadata": {
        "id": "DEgSKqSPParf"
      },
      "execution_count": null,
      "outputs": []
    },
    {
      "cell_type": "code",
      "source": [
        "# This model can be used as a basis to analyze it in the frequency domain.\n",
        "# It appears to show some interesting insights in the frequency domain.\n",
        "import numpy as np\n",
        "from tensorflow.keras.models import Model\n",
        "from tensorflow.keras.layers import Input, Conv1D, Concatenate, Activation, Add\n",
        "import tensorflow as tf\n",
        "from tensorflow.keras import layers\n",
        "\n",
        "tf.keras.backend.clear_session(\n",
        "    free_memory=True\n",
        ")\n",
        "\n",
        "# Define the input shape\n",
        "input_shape = (None, 1)  # Example: sequence length is variable, and there are 3 features per time step\n",
        "\n",
        "# Input layer\n",
        "inputs = Input(shape=input_shape, name=\"input\")\n",
        "\n",
        "o = layers.Conv1D(64,kernel_size=32, activation=\"relu\",padding=\"same\")(inputs)\n",
        "\n",
        "# roughly, some temporal autoencoder structure\n",
        "o = layers.Conv1D(16,kernel_size=32, activation=\"relu\",padding=\"same\")(inputs)\n",
        "o = layers.MaxPooling1D(padding=\"same\")(o)\n",
        "o = layers.Conv1D(16, kernel_size=16, activation=\"relu\", padding=\"same\")(o)\n",
        "o = layers.MaxPooling1D(padding=\"same\")(o)\n",
        "o = layers.Conv1D(16, kernel_size=16, activation=\"relu\", padding=\"same\")(o)\n",
        "o = layers.MaxPooling1D(padding=\"same\")(o)\n",
        "o = layers.Conv1D(16, kernel_size=16, activation=\"relu\", padding=\"same\")(o)\n",
        "o = layers.Conv1DTranspose(32, kernel_size=32,strides=2, padding=\"same\")(o)\n",
        "o = layers.Conv1D(16, kernel_size=16, activation=\"relu\", padding=\"same\")(o)\n",
        "o = layers.Conv1DTranspose(32, kernel_size=32,strides=2, padding=\"same\")(o)\n",
        "o = layers.Conv1D(16, kernel_size=16, activation=\"relu\", padding=\"same\")(o)\n",
        "o = layers.Conv1DTranspose(32, kernel_size=32,strides=2, padding=\"same\")(o)\n",
        "o1 = layers.Conv1D(16, kernel_size=32, activation=\"relu\", padding=\"same\")(o)\n",
        "\n",
        "# Dilated convs\n",
        "o = layers.Conv1D(16,kernel_size=16, activation=\"relu\",padding=\"same\", dilation_rate=8)(inputs)\n",
        "o = layers.Conv1D(16,kernel_size=16, activation=\"relu\",padding=\"same\", dilation_rate=4)(o)\n",
        "o = layers.Conv1D(16,kernel_size=16, activation=\"relu\",padding=\"same\", dilation_rate=2)(o)\n",
        "o1d = layers.Conv1D(16,kernel_size=16, activation=\"relu\",padding=\"same\", dilation_rate=1)(o)\n",
        "\n",
        "oi_1 = Add(name=\"concat_i_1\")([inputs,o1, o1d])\n",
        "\n",
        "# roughly, some temporal autoencoder structure\n",
        "o = layers.Conv1D(16,kernel_size=32, activation=\"relu\",padding=\"same\")(oi_1)\n",
        "o = layers.MaxPooling1D(padding=\"same\")(o)\n",
        "o = layers.Conv1D(16, kernel_size=16, activation=\"relu\", padding=\"same\")(o)\n",
        "o = layers.MaxPooling1D(padding=\"same\")(o)\n",
        "o = layers.Conv1D(16, kernel_size=16, activation=\"relu\", padding=\"same\")(o)\n",
        "o = layers.MaxPooling1D(padding=\"same\")(o)\n",
        "o = layers.Conv1D(16, kernel_size=16, activation=\"relu\", padding=\"same\")(o)\n",
        "o = layers.Conv1DTranspose(32, kernel_size=16,strides=2, padding=\"same\")(o)\n",
        "o = layers.Conv1D(16, kernel_size=16, activation=\"relu\", padding=\"same\")(o)\n",
        "o = layers.Conv1DTranspose(32, kernel_size=16,strides=2, padding=\"same\")(o)\n",
        "o = layers.Conv1D(16, kernel_size=16, activation=\"relu\", padding=\"same\")(o)\n",
        "o = layers.Conv1DTranspose(32, kernel_size=16,strides=2, padding=\"same\")(o)\n",
        "o2 = layers.Conv1D(16, kernel_size=32, activation=\"relu\", padding=\"same\")(o)\n",
        "\n",
        "\n",
        "# Dilated convs\n",
        "o = layers.Conv1D(16,kernel_size=16, activation=\"relu\",padding=\"same\", dilation_rate=8)(o1)\n",
        "o = layers.Conv1D(16,kernel_size=16, activation=\"relu\",padding=\"same\", dilation_rate=4)(o)\n",
        "o = layers.Conv1D(16,kernel_size=16, activation=\"relu\",padding=\"same\", dilation_rate=2)(o)\n",
        "o2d = layers.Conv1D(16,kernel_size=16, activation=\"relu\",padding=\"same\", dilation_rate=1)(o)\n",
        "\n",
        "\n",
        "o1_2 = Add(name=\"concat_1_2\")([o1,o2, o2d])\n",
        "\n",
        "# roughly, some temporal autoencoder structure\n",
        "o = layers.Conv1D(16,kernel_size=32, activation=\"relu\",padding=\"same\")(o1_2)\n",
        "o = layers.MaxPooling1D(padding=\"same\")(o)\n",
        "o = layers.Conv1D(16, kernel_size=16, activation=\"relu\", padding=\"same\")(o)\n",
        "o = layers.MaxPooling1D(padding=\"same\")(o)\n",
        "o = layers.Conv1D(16, kernel_size=16, activation=\"relu\", padding=\"same\")(o)\n",
        "o = layers.MaxPooling1D(padding=\"same\")(o)\n",
        "o = layers.Conv1D(16, kernel_size=16, activation=\"relu\", padding=\"same\")(o)\n",
        "o = layers.Conv1DTranspose(32, kernel_size=16,strides=2, padding=\"same\")(o)\n",
        "o = layers.Conv1D(16, kernel_size=16, activation=\"relu\", padding=\"same\")(o)\n",
        "o = layers.Conv1DTranspose(32, kernel_size=16,strides=2, padding=\"same\")(o)\n",
        "o = layers.Conv1D(16, kernel_size=16, activation=\"relu\", padding=\"same\")(o)\n",
        "o = layers.Conv1DTranspose(32, kernel_size=16,strides=2, padding=\"same\")(o)\n",
        "o3 = layers.Conv1D(16, kernel_size=32, activation=\"relu\", padding=\"same\")(o)\n",
        "\n",
        "\n",
        "# Dilated convs\n",
        "o = layers.Conv1D(16,kernel_size=16, activation=\"relu\",padding=\"same\", dilation_rate=8)(o2)\n",
        "o = layers.Conv1D(16,kernel_size=16, activation=\"relu\",padding=\"same\", dilation_rate=4)(o)\n",
        "o = layers.Conv1D(16,kernel_size=16, activation=\"relu\",padding=\"same\", dilation_rate=2)(o)\n",
        "o3d = layers.Conv1D(16,kernel_size=16, activation=\"relu\",padding=\"same\", dilation_rate=1)(o)\n",
        "\n",
        "\n",
        "concatenated = Add(name=\"concat_final\")([o2,o3, o3d])\n",
        "concatenated = layers.Conv1D(32, kernel_size=16, activation=\"relu\", padding=\"same\")(concatenated)\n",
        "\n",
        "# Final 1x1 Conv1D layer with softmax activation\n",
        "output = Conv1D(filters=17, kernel_size=1, activation='softmax', name=\"final_conv\")(concatenated)\n",
        "\n",
        "# Create the model\n",
        "model = Model(inputs=inputs, outputs=output, name=\"MultiConv1DModel\")\n",
        "\n",
        "# Print the model summary\n",
        "model.summary()\n"
      ],
      "metadata": {
        "id": "IoHrDuOGcvj3"
      },
      "execution_count": null,
      "outputs": []
    },
    {
      "cell_type": "code",
      "source": [],
      "metadata": {
        "id": "RViibMMa6XF7"
      },
      "execution_count": null,
      "outputs": []
    }
  ],
  "metadata": {
    "colab": {
      "provenance": [],
      "gpuType": "T4",
      "toc_visible": true,
      "include_colab_link": true
    },
    "kernelspec": {
      "display_name": "Python 3",
      "name": "python3"
    },
    "language_info": {
      "codemirror_mode": {
        "name": "ipython",
        "version": 3
      },
      "file_extension": ".py",
      "mimetype": "text/x-python",
      "name": "python",
      "nbconvert_exporter": "python",
      "pygments_lexer": "ipython3",
      "version": "3.11.0rc1"
    },
    "accelerator": "GPU"
  },
  "nbformat": 4,
  "nbformat_minor": 0
}