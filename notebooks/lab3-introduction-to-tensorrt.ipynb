{
  "cells": [
    {
      "cell_type": "markdown",
      "metadata": {
        "colab_type": "text",
        "id": "view-in-github"
      },
      "source": [
        "<a href=\"https://colab.research.google.com/github/MarkusThill/techdays25/blob/feature-lab2-initial-draft/notebooks/lab3-introduction-to-tensorrt.ipynb\" target=\"_parent\"><img src=\"https://colab.research.google.com/assets/colab-badge.svg\" alt=\"Open In Colab\"/></a>"
      ]
    },
    {
      "cell_type": "markdown",
      "metadata": {
        "id": "T4TgMJt1Gp4-"
      },
      "source": [
        "# 🚀 Lab 3: Erste Schritte mit TensorRT"
      ]
    },
    {
      "cell_type": "markdown",
      "metadata": {
        "id": "cDvwfntVHHfV"
      },
      "source": [
        "## Struktur\n",
        "- Teil 1:\n",
        "  - Mit einfachem Beispiel aus Lab1 (Lineares Modell) beginnen\n",
        "  - Konvertierung nach TensorRT mit der Python SDK\n",
        "  - Miniminal Working Example um eine TensorRT Engine zu starten und eine einfache Inferenz durchzuführen\n",
        "- Verwendung eines vortrainierten DL-Modells das Vier Gewinnt spielen kann (trainiert mit TD($\\lambda$)-Learning)\n",
        "  - Modell ist klein genug für Google Colab\n",
        "- Konvertierung von PyTorch->ONNX->TensorRT (trtexec & Python SDK)\n",
        "- Messung der Inferenzzeiten für PT, ONNX (FP32, FP16), TensorRT (FP32, FP16).\n",
        "- Laufzeit in Abhängigkeit der Batch Size\n",
        "- TensorRT-spezifische Verbesserungen\n",
        "  - Einfluss des Pinned Memory\n",
        "  - Asynchrone Inference mit `enqueue()` anstatt `execute()`\n",
        "  - Optimierungsprofile\n",
        "- Profiling:\n",
        "  - trtexec\n",
        "  - advanced profiling with NVIDIA Nsight toolset\n",
        "- Optional. Weitere Optimierungen:\n",
        "  - Sparsity: Der Feature-Vector ist sehr dünn besetzt. Optimierung unter Verwendung von \"sparse\" Operationen (sparse dot product)\n"
      ]
    },
    {
      "cell_type": "code",
      "execution_count": null,
      "metadata": {
        "id": "AyAPPXPRGp4_"
      },
      "outputs": [],
      "source": [
        "# TODO: Use dependencies in pyproject.toml\n",
        "!pip install ipympl\n",
        "!pip install ipywidgets\n",
        "!jupyter nbextension enable --py widgetsnbextension"
      ]
    },
    {
      "cell_type": "code",
      "execution_count": null,
      "metadata": {
        "id": "ol-MLj2GGp4_"
      },
      "outputs": [],
      "source": [
        "!pip install bitbully"
      ]
    },
    {
      "cell_type": "code",
      "execution_count": null,
      "metadata": {
        "id": "exptNnp8Gp4_"
      },
      "outputs": [],
      "source": [
        "from bitbully.gui_c4 import GuiC4\n",
        "from google.colab import output\n",
        "\n",
        "output.enable_custom_widget_manager()"
      ]
    },
    {
      "cell_type": "code",
      "execution_count": null,
      "metadata": {
        "id": "gZ9TKXBBGp4_"
      },
      "outputs": [],
      "source": [
        "%matplotlib ipympl\n",
        "\n",
        "c4gui = GuiC4()\n",
        "\n",
        "# Display everything\n",
        "display(c4gui.get_widget())"
      ]
    },
    {
      "cell_type": "code",
      "execution_count": null,
      "metadata": {
        "id": "jPIKvRwAG6Yg"
      },
      "outputs": [],
      "source": []
    }
  ],
  "metadata": {
    "colab": {
      "include_colab_link": true,
      "provenance": []
    },
    "kernelspec": {
      "display_name": "venv",
      "language": "python",
      "name": "python3"
    },
    "language_info": {
      "codemirror_mode": {
        "name": "ipython",
        "version": 3
      },
      "file_extension": ".py",
      "mimetype": "text/x-python",
      "name": "python",
      "nbconvert_exporter": "python",
      "pygments_lexer": "ipython3",
      "version": "3.11.0"
    }
  },
  "nbformat": 4,
  "nbformat_minor": 0
}
