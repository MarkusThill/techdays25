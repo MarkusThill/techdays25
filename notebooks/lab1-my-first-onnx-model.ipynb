{
 "cells": [
  {
   "cell_type": "markdown",
   "metadata": {
    "colab_type": "text",
    "id": "view-in-github"
   },
   "source": [
    "<a href=\"https://colab.research.google.com/github/MarkusThill/techdays25/blob/feature-lab1/notebooks/lab1-my-first-onnx-model.ipynb\" target=\"_parent\"><img src=\"https://colab.research.google.com/assets/colab-badge.svg\" alt=\"Open In Colab\"/></a>"
   ]
  },
  {
   "cell_type": "markdown",
   "metadata": {
    "id": "YWUT1cQapD41"
   },
   "source": [
    "# 🚀 Lab 1: Erstelle dein erstes ONNX-Modell Schritt für Schritt\n",
    "- This notebook should also run on a non-GPU device"
   ]
  },
  {
   "cell_type": "markdown",
   "metadata": {
    "id": "Zl1GpAAd1k7s"
   },
   "source": [
    "## Preparation: Setup and install Dependencies"
   ]
  },
  {
   "cell_type": "code",
   "execution_count": null,
   "metadata": {
    "colab": {
     "base_uri": "https://localhost:8080/",
     "height": 1000
    },
    "id": "IksFwQVZpD41",
    "outputId": "fd0606a8-d9fa-47f2-cf81-a820f3b3b8f3"
   },
   "outputs": [],
   "source": [
    "# Remove the `%%capture`, if you have the impression that something is going wrong during the setup\n",
    "%%capture\n",
    "!pip install \"techdays25[lab1] @ git+https://github.com/MarkusThill/techdays25.git@feature-lab1\""
   ]
  },
  {
   "cell_type": "code",
   "execution_count": null,
   "metadata": {},
   "outputs": [],
   "source": [
    "# @title Some Colab-Specific Configuration {display-mode: \"form\"}\n",
    "import sys\n",
    "\n",
    "IN_COLAB = \"google.colab\" in sys.modules\n",
    "\n",
    "if IN_COLAB:\n",
    "    from google.colab import output\n",
    "\n",
    "    output.enable_custom_widget_manager()"
   ]
  },
  {
   "cell_type": "markdown",
   "metadata": {
    "id": "avktg77A1jPC"
   },
   "source": [
    "## Einleitung\n",
    "\n",
    "Notes:\n",
    "- Assume that we record pairs of  using a"
   ]
  },
  {
   "cell_type": "markdown",
   "metadata": {
    "id": "v2Z4yDOi7dYK"
   },
   "source": [
    "## Datengenerierung"
   ]
  },
  {
   "cell_type": "code",
   "execution_count": null,
   "metadata": {
    "colab": {
     "base_uri": "https://localhost:8080/",
     "height": 224
    },
    "id": "wfxyHDtRpD42",
    "outputId": "2e961cb2-f6f2-4201-cd24-cb19be07b08c"
   },
   "outputs": [],
   "source": [
    "# Import the data generation module and generate a small 2-dimensional dataset\n",
    "from techdays25 import measurement_utils as mu\n",
    "\n",
    "df = mu.generate_measurement_data()\n",
    "\n",
    "print(\"df.shape:\", df.shape)\n",
    "\n",
    "# Show the first few lines of the DataFrame\n",
    "df.head()"
   ]
  },
  {
   "cell_type": "code",
   "execution_count": null,
   "metadata": {
    "id": "wsXIGxMV9AmM"
   },
   "outputs": [],
   "source": [
    "# @title Visualize the Generated Data {display-mode: \"form\"}\n",
    "mu.plot_measurement_data(*df.to_numpy().T)"
   ]
  },
  {
   "cell_type": "code",
   "execution_count": null,
   "metadata": {},
   "outputs": [],
   "source": [
    "# TODO: Add Total Sum of Residuals"
   ]
  },
  {
   "cell_type": "code",
   "execution_count": null,
   "metadata": {
    "colab": {
     "base_uri": "https://localhost:8080/",
     "height": 544
    },
    "id": "PPh0ixOQ4Zmb",
    "outputId": "356942b3-f50d-4f99-f97c-114447f74a82"
   },
   "outputs": [],
   "source": [
    "# @title Manually training a linear model {display-mode: \"form\"}\n",
    "\n",
    "# This code will be hidden when the notebook is loaded.\n",
    "\n",
    "%matplotlib widget\n",
    "import ipywidgets as widgets\n",
    "import matplotlib.pyplot as plt\n",
    "\n",
    "# set up plot\n",
    "fig, ax = plt.subplots(figsize=(10, 6))\n",
    "fig.canvas.toolbar_visible = False\n",
    "fig.canvas.resizable = False\n",
    "fig.canvas.toolbar_visible = False\n",
    "fig.canvas.header_visible = False\n",
    "fig.canvas.footer_visible = False\n",
    "fig.canvas.capture_scroll = True\n",
    "ax.grid(True, which=\"both\")\n",
    "\n",
    "uu, ii = df.to_numpy().T\n",
    "\n",
    "ax.scatter(uu, ii)\n",
    "\n",
    "# plt.minorticks_on()\n",
    "ax.set_xlabel(r\"$U \\ [V]$\")\n",
    "ax.set_ylabel(r\"$I \\ [mA]$\")\n",
    "\n",
    "\n",
    "def linear_func(x, m, b):\n",
    "    \"\"\"Return a ...\"\"\"\n",
    "    return m * x + b\n",
    "\n",
    "\n",
    "(line,) = ax.plot(uu, linear_func(uu, 0, 0), color=\"black\")\n",
    "\n",
    "dy = linear_func(uu, 0, 0) - ii\n",
    "residuals_line = ax.vlines(uu, ii, ii + dy, color=\"darkred\")\n",
    "\n",
    "font = {\n",
    "    \"size\": 14,\n",
    "}\n",
    "serr = sum(abs(dy) ** 2)\n",
    "my_textbox = ax.text(\n",
    "    1, 40, r\"Summe der quadrierten Fehler (SSE):\" + str(round(serr, 2)), fontdict=font\n",
    ")  #\n",
    "\n",
    "\n",
    "@widgets.interact(m=(0, 4, 0.01), b=(-10, 10, 0.01))\n",
    "def update(m=1.0, b=1.0):\n",
    "    \"\"\"Remove old lines from plot and plot new one.\"\"\"\n",
    "    line.set_ydata(linear_func(uu, m, b))\n",
    "\n",
    "    # Update line\n",
    "    pred = linear_func(uu, m, b)\n",
    "    dy = pred - ii\n",
    "    seg = residuals_line.get_segments()\n",
    "    new_seg = []\n",
    "    for s, newMin, newMax in zip(seg, pred, pred - dy):\n",
    "        s[0, -1] = newMin\n",
    "        s[1, -1] = newMax\n",
    "        new_seg.append(s)\n",
    "    residuals_line.set_segments(new_seg)\n",
    "\n",
    "    # Update text box\n",
    "    serr = sum(abs(dy) ** 2)\n",
    "    my_textbox.set_text(r\"Summe der quadrierten Fehler (SSE):\" + str(round(serr, 2)))\n",
    "\n",
    "    fig.canvas.draw()"
   ]
  },
  {
   "cell_type": "markdown",
   "metadata": {},
   "source": [
    "## Training unseres ersten Machine-Learning-Modells\n",
    "### Variante 1: Lineare Regression mit SciKit-Learn\n",
    "TODO: Explain scikit-learn here:\n",
    "\n",
    "- Das Scikit-Learn Modell versucht, die Steigung `m` und den Y-Achsenabschnitt (Ordinatenabschnitt) `b` so zu wählen, dass die Summe der quadratischen Fehler minimiert wird\n",
    "\n",
    "Weitere Details und Beispiele können hier nachgeschlagen werden:\n",
    "https://scikit-learn.org/stable/modules/generated/sklearn.linear_model.LinearRegression.html"
   ]
  },
  {
   "cell_type": "code",
   "execution_count": null,
   "metadata": {
    "id": "6VR09gFw9Sc6"
   },
   "outputs": [],
   "source": [
    "import numpy as np\n",
    "from sklearn.linear_model import LinearRegression\n",
    "\n",
    "# write the recorded voltages and currents into the two numpy arrays `u` and `i`\n",
    "uu, ii = df.to_numpy().T\n",
    "\n",
    "# Note that the input has to be reshaped to a matrix of shape (N, 1)\n",
    "# since the LinearRegression model is designed to handle multivariate\n",
    "# regression problems\n",
    "U = uu.reshape(-1, 1)\n",
    "\n",
    "# Initialize and train regressor\n",
    "scikit_regressor = LinearRegression().fit(U, ii)"
   ]
  },
  {
   "cell_type": "code",
   "execution_count": null,
   "metadata": {},
   "outputs": [],
   "source": [
    "# Get the fitted slope `m` and the intercept `b`\n",
    "scikit_regressor.coef_, scikit_regressor.intercept_"
   ]
  },
  {
   "cell_type": "code",
   "execution_count": null,
   "metadata": {},
   "outputs": [],
   "source": [
    "# Now let us put the original data through the model and plot the obtained predictions:\n",
    "\n",
    "# put the Nx1-shaped input through the regression model\n",
    "ii_scikit = scikit_regressor.predict(U)\n",
    "\n",
    "# Plot the predicted line\n",
    "mu.plot_measurement_data(\n",
    "    uu,\n",
    "    ii,\n",
    "    ii_scikit,\n",
    "    xx_pred=U.flatten(),\n",
    "    title=\"Original Data & Predictions by Scikit-Learn\",\n",
    ")"
   ]
  },
  {
   "cell_type": "markdown",
   "metadata": {},
   "source": [
    "#### Optionale Aufgaben\n",
    "1. Stimmen die durch Scikit-Learn ermittelten Parameter `regressor.coef_, regressor.intercept_` in etwa mit den Werten `m` und `b` überein, die ihr im interaktivem Widget weiter oben ermittelt habt?\n",
    "2. Wie könnten wir überprüfen, ob die ermittelten Parameter `m`, `b` schlüssig sind?\n",
    "3. Könnt ihr für 5 neue beliebige Inputs ($U [V]$) auch die zugehörigen Ströme ($I [mA]$) prognostizieren und plotten?\n",
    "\n",
    "#### Export des scikit-Learn Modells nach ONNX\n",
    "TODO: Beschreibung"
   ]
  },
  {
   "cell_type": "code",
   "execution_count": null,
   "metadata": {},
   "outputs": [],
   "source": [
    "from pathlib import Path\n",
    "\n",
    "import onnx\n",
    "import skl2onnx\n",
    "from skl2onnx.common.data_types import FloatTensorType\n",
    "\n",
    "# Define the initial type for the model's input\n",
    "initial_type = [(\"float_input\", FloatTensorType([None, U.shape[1]]))]\n",
    "\n",
    "# Convert the model\n",
    "onnx_model = skl2onnx.convert_sklearn(scikit_regressor, initial_types=initial_type)\n",
    "\n",
    "# Save the ONNX model to a file\n",
    "Path(\"skl_regression.onnx\").write_bytes(onnx_model.SerializeToString())\n",
    "\n",
    "# Load the ONNX model\n",
    "onnx_model = onnx.load(\"skl_regression.onnx\")\n",
    "\n",
    "# Check the model\n",
    "onnx.checker.check_model(onnx_model)\n",
    "\n",
    "# Print a human-readable representation of the model\n",
    "print(onnx.helper.printable_graph(onnx_model.graph))"
   ]
  },
  {
   "cell_type": "markdown",
   "metadata": {},
   "source": [
    "#### Visualisierung des ONNX-Graphen mit Netron\n",
    "- ONNX-Modelle können auf [https://netron.app/](https://netron.app/) visualisiert werden\n",
    "- Alternativ lässt sich auch das `netron` Python Package in Google Colab nutzen"
   ]
  },
  {
   "cell_type": "markdown",
   "metadata": {},
   "source": [
    "### Inferenz mit dem scikit-learn ONNX Modell"
   ]
  },
  {
   "cell_type": "code",
   "execution_count": null,
   "metadata": {},
   "outputs": [],
   "source": [
    "import onnxruntime as ort\n",
    "\n",
    "# Load the ONNX model\n",
    "# Specify the path to the ONNX model file\n",
    "onnx_model_path = \"linear_regression.onnx\"\n",
    "\n",
    "# Create an InferenceSession to load the model\n",
    "session = ort.InferenceSession(onnx_model_path)\n",
    "\n",
    "# Example input data (make sure it matches the input shape expected by the model)\n",
    "# Let us create some new input data. Here, we create a NumPy array with shape\n",
    "# (10, 1) representing 10 samples with 1 feature (voltage) each.\n",
    "# We sample 10 equidistant points between 0 and 15.\n",
    "U_new = np.linspace(start=-2, stop=15, num=10, dtype=np.float32).reshape(-1, 1)\n",
    "\n",
    "# Get the name of the input node\n",
    "# The model may have multiple inputs, but we usually need the first one\n",
    "input_name = session.get_inputs()[0].name\n",
    "\n",
    "# Get the name of the output node\n",
    "# Similarly, the model may have multiple outputs, but we usually need the first one\n",
    "output_name = session.get_outputs()[0].name\n",
    "\n",
    "# Run inference\n",
    "# The run method takes a list of output node names and a dictionary mapping input node names to input data\n",
    "# It returns a list of outputs corresponding to the output node names provided\n",
    "ii_sklearn_onnx = session.run([output_name], {input_name: U_new})\n",
    "\n",
    "# Plot the predictions\n",
    "# The predictions are returned as a list of NumPy arrays, so we print the first (and only) element\n",
    "mu.plot_measurement_data(\n",
    "    uu,\n",
    "    ii,\n",
    "    ii_sklearn_onnx[0].flatten(),\n",
    "    xx_pred=U_new.flatten(),\n",
    "    title=\"Original data & predictions by the ONNX model exported from scikit-learn\",\n",
    ")"
   ]
  },
  {
   "cell_type": "markdown",
   "metadata": {},
   "source": [
    "#### Optionale Aufgaben:\n",
    "1. Was passiert in obigem Beispiel wenn wir in der Zeile \n",
    "   `U_new = np.linspace(start=0, stop=15, num=10, dtype=np.float32).reshape(-1,1) `\n",
    "   das Argument `dtype=np.float32` ersetzen durch `dtype=np.float64`?\n",
    "2. \n"
   ]
  },
  {
   "cell_type": "markdown",
   "metadata": {},
   "source": [
    "### Selbstständiges \"Training\" des Modells durch uns"
   ]
  },
  {
   "cell_type": "code",
   "execution_count": null,
   "metadata": {},
   "outputs": [],
   "source": [
    "import sympy\n",
    "\n",
    "# Lets get our original dataset again:\n",
    "uu, ii = df.to_numpy().T\n",
    "\n",
    "U = np.stack([uu, np.ones(len(uu))]).T\n",
    "sympy.Matrix(U[:5])"
   ]
  },
  {
   "cell_type": "code",
   "execution_count": null,
   "metadata": {},
   "outputs": [],
   "source": []
  }
 ],
 "metadata": {
  "colab": {
   "include_colab_link": true,
   "provenance": [],
   "toc_visible": true
  },
  "kernelspec": {
   "display_name": "venv",
   "language": "python",
   "name": "python3"
  },
  "language_info": {
   "codemirror_mode": {
    "name": "ipython",
    "version": 3
   },
   "file_extension": ".py",
   "mimetype": "text/x-python",
   "name": "python",
   "nbconvert_exporter": "python",
   "pygments_lexer": "ipython3",
   "version": "3.11.0rc1"
  }
 },
 "nbformat": 4,
 "nbformat_minor": 0
}
