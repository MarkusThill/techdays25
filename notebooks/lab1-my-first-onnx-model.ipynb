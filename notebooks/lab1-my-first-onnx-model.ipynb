{
 "cells": [
  {
   "cell_type": "markdown",
   "metadata": {
    "colab_type": "text",
    "id": "view-in-github"
   },
   "source": [
    "<a href=\"https://colab.research.google.com/github/MarkusThill/techdays25/blob/feature-lab2-initial-draft/notebooks/lab1-my-first-onnx-model.ipynb\" target=\"_parent\"><img src=\"https://colab.research.google.com/assets/colab-badge.svg\" alt=\"Open In Colab\"/></a>"
   ]
  },
  {
   "cell_type": "markdown",
   "metadata": {
    "id": "YWUT1cQapD41"
   },
   "source": [
    "# 🚀 Lab 1: Erstelle dein erstes ONNX-Modell Schritt für Schritt\n",
    "- Dieses Jupyter Notebook benötigt keine GPU Laufzeit. Falls nicht bereits voreingestellt, kann daher der Laufzeittyp im Menü unter \"Laufzeit\" > \"Laufzeittyp ändern\" > \"Hardwarebeschleuniger\" > \"CPU\" geändert werden!"
   ]
  },
  {
   "cell_type": "markdown",
   "metadata": {
    "id": "Zl1GpAAd1k7s"
   },
   "source": [
    "# Vorbereitungen: Installation der nötigen Abhängigkeiten"
   ]
  },
  {
   "cell_type": "code",
   "execution_count": null,
   "metadata": {
    "id": "IksFwQVZpD41"
   },
   "outputs": [],
   "source": [
    "# Remove the `%%capture`, if you have the impression that something is going wrong during the setup\n",
    "%%capture\n",
    "!pip install \"techdays25[lab1] @ git+https://github.com/MarkusThill/techdays25.git@main\""
   ]
  },
  {
   "cell_type": "markdown",
   "metadata": {
    "id": "8WTePYiflDYA"
   },
   "source": [
    "<font color=\"red\"><b>\n",
    "⚠️ WICHTIG: Nach der Installation der Abhängigkeiten (siehe oben) muss die Google Colab Laufzeit neugestartet werden (Menü > Laufzeit > Sitzung neu starten)! Im Anschluss kann mit der Ausführung der nächsten Zellen fortgefahren werden werden. ⚠️\n",
    "</font></b>"
   ]
  },
  {
   "cell_type": "code",
   "execution_count": null,
   "metadata": {
    "id": "beG_4T0KxQcp"
   },
   "outputs": [],
   "source": [
    "# @title Einige Colab-spezfische Einstellungen {display-mode: \"form\"}\n",
    "import sys\n",
    "\n",
    "IN_COLAB = \"google.colab\" in sys.modules\n",
    "\n",
    "if IN_COLAB:\n",
    "    from google.colab import output\n",
    "\n",
    "    output.enable_custom_widget_manager()"
   ]
  },
  {
   "cell_type": "markdown",
   "metadata": {
    "id": "avktg77A1jPC"
   },
   "source": [
    "# 🔧 Einführung: Widerstandsschätzung mit Machine Learning\n",
    "\n",
    "In diesem Lab verbinden wir zwei spannende Welten: **klassische Elektrotechnik** und **moderne Methoden des maschinellen Lernens**. Unser Ziel ist es, ein einfaches physikalisches Problem datengetrieben zu lösen – nicht durch manuelle Berechnung, sondern durch das Training eines Modells.\n",
    "\n",
    "---\n",
    "\n",
    "## 🧪 Das Setup: Ein einfacher Stromkreis\n",
    "\n",
    "Stellen wir uns einen einfachen elektrischen Stromkreis vor, bestehend aus:\n",
    "\n",
    "- einer **idealen Spannungsquelle**,\n",
    "- einem unbekannten **Widerstand $R$**,\n",
    "- einem **Amperemeter** zur Strommessung,\n",
    "- und einem **Voltmeter** zur Spannungsmessung.\n",
    "\n",
    "Wenn wir eine Spannung $U$ anlegen, fließt ein Strom $I$ durch den Widerstand. Laut dem **Ohm’schen Gesetz** besteht ein linearer Zusammenhang zwischen Spannung und Strom:\n",
    "\n",
    "$$\n",
    "U = R \\cdot I\n",
    "\\quad \\Rightarrow \\quad\n",
    "I = \\frac{1}{R} \\cdot U\n",
    "$$\n",
    "\n",
    "Solange die Messwerte perfekt sind, genügt eine einfache Division, um $R$ zu bestimmen. In der Praxis jedoch sieht es anders aus.\n",
    "\n",
    "---\n",
    "\n",
    "## 🔍 Das Problem: Messfehler und systematischer Stromversatz\n",
    "\n",
    "In realen Messsituationen sind unsere Daten **nicht perfekt**. Die Spannungs- und Stromwerte, die wir mit unseren Geräten erfassen, sind durch verschiedene Faktoren **verrauscht**:\n",
    "\n",
    "- Ungenauigkeit der Sensoren\n",
    "- elektrische Störungen\n",
    "- Rundungsfehler in der Aufzeichnung\n",
    "\n",
    "Doch in unserem Szenario gibt es eine weitere, spezielle Herausforderung:\n",
    "\n",
    "> 🔎 **Der Stromsensor weist einen systematischen Fehler auf** – er misst durchgehend einen zu hohen Stromwert. Dieser konstante Offset führt dazu, dass alle gemessenen Ströme $I_{\\text{gemessen}}$ größer sind als der tatsächliche Strom $I_{\\text{wahr}}$.\n",
    "\n",
    "Das bedeutet, dass die Daten verzerrt sind – und dass eine direkte Anwendung des Ohm’schen Gesetzes mit den Messwerten zu falschen Schlüssen führen kann.\n",
    "\n",
    "---\n",
    "\n",
    "## 🤖 Die Lösung: Lineares Modell lernen\n",
    "\n",
    "Hier kommt **maschinelles Lernen** ins Spiel.\n",
    "\n",
    "Statt auf einzelne Werte zu schauen, nutzen wir statistische Methoden, um **aus einer Vielzahl verrauschter und verzerrter Daten** die zugrunde liegende Beziehung zu lernen. Die Idee:\n",
    "\n",
    "- Wir betrachten **die Spannung $U$ als Eingabegröße (Feature)**,\n",
    "- und **den Strom $I_{\\text{gemessen}}$ als Zielgröße (Label)**,\n",
    "- und trainieren ein Modell, das lernt:  \n",
    "  $$\n",
    "  I_{\\text{gemessen}} \\approx m \\cdot U + b\n",
    "  $$\n",
    "\n",
    "Dabei ist $m$ die geschätzte Steigung.\n",
    "Der Bias-Term $b$ hilft dabei, den systematischen Stromversatz im Modell zu kompensieren.\n",
    "\n",
    "> ✅ Mithilfe des gelernten Modells lässt sich der **systematische Offset** sowie eine **Schätzung für den Widerstand** $R$ berechnen. Die Frage wäre, wie?\n",
    "\n",
    "---\n",
    "\n",
    "## 🧰 Was wir in diesem Lab machen werden\n",
    "\n",
    "- Wir simulieren Messdaten $(U, I_{\\text{gemessen}})$, wobei die Stromwerte einen konstanten Offset enthalten.\n",
    "- Wir visualisieren die Daten, um den verzerrten Zusammenhang zu verstehen.\n",
    "- Wir verwenden verschiedene Werkzeuge wie **scikit-learn**, **PyTorch**, **TensorFlow** und **ONNX**, um ein lineares Regressionsmodell zu trainieren.\n",
    "- Wir analysieren das Modell und interpretieren die Parameter:\n",
    "  - Wie gut schätzt das Modell den wahren Widerstand $R$? Wie erhalte ich $R$?\n",
    "  - Lässt sich der systematische Fehler im Stromsensor berechnen?\n",
    "\n",
    "---\n",
    "\n",
    "Die folgenden Abbildung illustriert unseren \"Messaufbau\":"
   ]
  },
  {
   "cell_type": "markdown",
   "metadata": {
    "id": "zHPD5Okk1b9P"
   },
   "source": [
    "![image.png](data:image/png;base64,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)"
   ]
  },
  {
   "cell_type": "markdown",
   "metadata": {
    "id": "v2Z4yDOi7dYK"
   },
   "source": [
    "# Datengenerierung"
   ]
  },
  {
   "cell_type": "code",
   "execution_count": null,
   "metadata": {
    "id": "wfxyHDtRpD42"
   },
   "outputs": [],
   "source": [
    "# Importiere das Modul zur Datengenerierung und generiere einen kleinen 2-dimensionalen Datensatz\n",
    "from techdays25 import measurement_utils as mu\n",
    "\n",
    "df = mu.generate_measurement_data()\n",
    "\n",
    "print(\"df.shape:\", df.shape)\n",
    "\n",
    "# Zeige die ersten Zeilen des DataFrames an\n",
    "df.head()"
   ]
  },
  {
   "cell_type": "code",
   "execution_count": null,
   "metadata": {
    "id": "wsXIGxMV9AmM"
   },
   "outputs": [],
   "source": [
    "# @title Visualisierung der generierten Daten {display-mode: \"form\"}\n",
    "mu.plot_measurement_data(*df.to_numpy().T)"
   ]
  },
  {
   "cell_type": "code",
   "execution_count": null,
   "metadata": {
    "id": "PPh0ixOQ4Zmb"
   },
   "outputs": [],
   "source": [
    "# @title Manuelles Einlernen einer linearen Funktion {display-mode: \"form\"}\n",
    "\n",
    "# This code will be hidden when the notebook is loaded.\n",
    "\n",
    "%matplotlib widget\n",
    "import ipywidgets as widgets\n",
    "import matplotlib.pyplot as plt\n",
    "\n",
    "# set up plot\n",
    "fig, ax = plt.subplots(figsize=(10, 6))\n",
    "fig.canvas.toolbar_visible = False\n",
    "fig.canvas.resizable = False\n",
    "fig.canvas.toolbar_visible = False\n",
    "fig.canvas.header_visible = False\n",
    "fig.canvas.footer_visible = False\n",
    "fig.canvas.capture_scroll = True\n",
    "ax.grid(True, which=\"both\")\n",
    "\n",
    "uu, ii = df.to_numpy().T\n",
    "\n",
    "ax.scatter(uu, ii)\n",
    "\n",
    "# plt.minorticks_on()\n",
    "ax.set_xlabel(r\"$U \\ [V]$\")\n",
    "ax.set_ylabel(r\"$I \\ [mA]$\")\n",
    "\n",
    "\n",
    "def linear_func(x, m, b):\n",
    "    \"\"\"Return a ...\"\"\"\n",
    "    return m * x + b\n",
    "\n",
    "\n",
    "(line,) = ax.plot(uu, linear_func(uu, 0, 0), color=\"black\")\n",
    "\n",
    "dy = linear_func(uu, 0, 0) - ii\n",
    "residuals_line = ax.vlines(uu, ii, ii + dy, color=\"darkred\")\n",
    "\n",
    "font = {\n",
    "    \"size\": 14,\n",
    "}\n",
    "serr = sum(abs(dy) ** 2)\n",
    "my_textbox = ax.text(\n",
    "    1, 40, f\"Summe der quadrierten Fehler (SSE): {serr: .2f}\", fontdict=font\n",
    ")\n",
    "\n",
    "\n",
    "@widgets.interact(m=(0, 4, 0.001), b=(-10, 10, 0.001))\n",
    "def update(m=1.0, b=1.0):\n",
    "    \"\"\"Remove old lines from plot and plot new one.\"\"\"\n",
    "    line.set_ydata(linear_func(uu, m, b))\n",
    "\n",
    "    # Update line\n",
    "    pred = linear_func(uu, m, b)\n",
    "    dy = pred - ii\n",
    "    seg = residuals_line.get_segments()\n",
    "    new_seg = []\n",
    "    for s, newMin, newMax in zip(seg, pred, pred - dy):\n",
    "        s[0, -1] = newMin\n",
    "        s[1, -1] = newMax\n",
    "        new_seg.append(s)\n",
    "    residuals_line.set_segments(new_seg)\n",
    "\n",
    "    # Update text box\n",
    "    serr = sum(abs(dy) ** 2)\n",
    "    my_textbox.set_text(f\"Summe der quadrierten Fehler (SSE): {serr:.2f}\")\n",
    "\n",
    "    fig.canvas.draw()"
   ]
  },
  {
   "cell_type": "markdown",
   "metadata": {
    "id": "30D0zrzFxQcq"
   },
   "source": [
    "# Training unseres ersten Machine-Learning-Modells"
   ]
  },
  {
   "cell_type": "markdown",
   "metadata": {
    "id": "eS8oVGLyyU0J"
   },
   "source": [
    "## Variante 1: Lineare Regression mit SciKit-Learn und Export nach ONNX\n",
    "TODO: Explain scikit-learn here:\n",
    "\n",
    "- Das Scikit-Learn Modell versucht, die Steigung `m` und den Y-Achsenabschnitt (Ordinatenabschnitt) `b` so zu wählen, dass die Summe der quadratischen Fehler minimiert wird\n",
    "\n",
    "Weitere Details und Beispiele können hier nachgeschlagen werden:\n",
    "https://scikit-learn.org/stable/modules/generated/sklearn.linear_model.LinearRegression.html"
   ]
  },
  {
   "cell_type": "code",
   "execution_count": null,
   "metadata": {
    "id": "6VR09gFw9Sc6"
   },
   "outputs": [],
   "source": [
    "import numpy as np\n",
    "from sklearn.linear_model import LinearRegression\n",
    "\n",
    "# write the recorded voltages and currents into the two numpy arrays `u` and `i`\n",
    "uu, ii = df.to_numpy().T\n",
    "\n",
    "# Note that the input has to be reshaped to a matrix of shape (N, 1)\n",
    "# since the LinearRegression model is designed to handle multivariate\n",
    "# regression problems\n",
    "U = uu.reshape(-1, 1)\n",
    "\n",
    "# Initialize and train regressor\n",
    "scikit_regressor = LinearRegression().fit(U, ii)"
   ]
  },
  {
   "cell_type": "code",
   "execution_count": null,
   "metadata": {
    "id": "t1xl5Qp6xQcq"
   },
   "outputs": [],
   "source": [
    "# Get the fitted slope `m` and the intercept `b`\n",
    "scikit_regressor.coef_, scikit_regressor.intercept_"
   ]
  },
  {
   "cell_type": "code",
   "execution_count": null,
   "metadata": {
    "id": "-RitJYiAxQcr"
   },
   "outputs": [],
   "source": [
    "# Now let us put the original data through the model and plot the obtained predictions:\n",
    "\n",
    "# put the Nx1-shaped input through the regression model\n",
    "ii_scikit = scikit_regressor.predict(U)\n",
    "\n",
    "# Plot the predicted line\n",
    "mu.plot_measurement_data(\n",
    "    uu,\n",
    "    ii,\n",
    "    ii_scikit,\n",
    "    title=\"Original Data & Predictions by Scikit-Learn\",\n",
    ")"
   ]
  },
  {
   "cell_type": "markdown",
   "metadata": {
    "id": "1AnFV3oBxQcr"
   },
   "source": [
    "### Fragen/Zusatzaufgaben (Optional)\n",
    "1. Stimmen die durch Scikit-Learn ermittelten Parameter `regressor.coef_, regressor.intercept_` in etwa mit den Werten `m` und `b` überein, die ihr im interaktivem Widget weiter oben ermittelt habt?\n",
    "2. Könnt ihr die Summe der quadratischen Abweichungen (SSE) für das scikit-learn-Model bestimmen und vergleichen mit dem SSE den ihr manuell erzielt habt?\n",
    "2. Wie könnten wir überprüfen, ob die ermittelten Parameter `m`, `b` schlüssig sind?\n",
    "3. Könnt ihr für 5 neue beliebige Inputs ($U [V]$) auch die zugehörigen Ströme ($I [mA]$) prognostizieren und plotten?"
   ]
  },
  {
   "cell_type": "markdown",
   "metadata": {
    "id": "3EOTeQWIyfaw"
   },
   "source": [
    "### Export des scikit-learn Modells nach ONNX\n",
    "TODO: Beschreibung"
   ]
  },
  {
   "cell_type": "code",
   "execution_count": null,
   "metadata": {
    "id": "mt_BhWh0xQcr"
   },
   "outputs": [],
   "source": [
    "from pathlib import Path\n",
    "\n",
    "import onnx\n",
    "import skl2onnx\n",
    "from skl2onnx.common.data_types import FloatTensorType\n",
    "\n",
    "# Define the initial type for the model's input\n",
    "initial_type = [(\"float_input\", FloatTensorType([None, U.shape[1]]))]\n",
    "\n",
    "# Convert the model\n",
    "onnx_model = skl2onnx.convert_sklearn(scikit_regressor, initial_types=initial_type)\n",
    "\n",
    "# Save the ONNX model to a file\n",
    "Path(\"sklearn_regression.onnx\").write_bytes(onnx_model.SerializeToString())\n",
    "\n",
    "# Load the ONNX model\n",
    "onnx_model = onnx.load(\"sklearn_regression.onnx\")\n",
    "\n",
    "# Check the model\n",
    "onnx.checker.check_model(onnx_model)\n",
    "\n",
    "# Print a human-readable representation of the model\n",
    "print(onnx.helper.printable_graph(onnx_model.graph))"
   ]
  },
  {
   "cell_type": "markdown",
   "metadata": {
    "id": "BgTZZ8GuxQcr"
   },
   "source": [
    "#### Visualisierung des ONNX-Graphen mit Netron\n",
    "- ONNX-Modelle können auf [https://netron.app/](https://netron.app/) visualisiert werden\n",
    "- Alternativ lässt sich auch das `netron` Python Package in Google Colab nutzen (siehe unten)"
   ]
  },
  {
   "cell_type": "code",
   "execution_count": null,
   "metadata": {
    "id": "Kff98BfBzsGg"
   },
   "outputs": [],
   "source": [
    "from techdays25 import onnx_utils\n",
    "\n",
    "onnx_utils.netron_visualize(\"sklearn_regression.onnx\")"
   ]
  },
  {
   "cell_type": "markdown",
   "metadata": {
    "id": "wvQoUR4nlDYC"
   },
   "source": [
    "## Variante 2: Training eines PyTorch Modells und Export nach ONNX\n",
    "- TODO: Kurze Beschreibung von PyTorch"
   ]
  },
  {
   "cell_type": "code",
   "execution_count": null,
   "metadata": {
    "id": "nxoeKm1llDYC"
   },
   "outputs": [],
   "source": [
    "import matplotlib.pyplot as plt\n",
    "import torch\n",
    "import torch.nn as nn\n",
    "import torch.optim as optim\n",
    "\n",
    "\n",
    "# Define the model\n",
    "class SimpleLinearModel(nn.Module):\n",
    "    \"\"\"A simple linear regression model.\n",
    "\n",
    "    This model consists of a single linear layer with one input and one output. It is used\n",
    "    for simple linear regression tasks where the relationship between the input and output\n",
    "    is assumed to be linear.\n",
    "    \"\"\"\n",
    "\n",
    "    def __init__(self):\n",
    "        \"\"\"Initialize the SimpleLinearModel.\n",
    "\n",
    "        This model consists of a single linear layer with one input and one output.\n",
    "        \"\"\"\n",
    "        super().__init__()\n",
    "        # Define a single linear layer with 1 input and 1 output\n",
    "        self.linear = nn.Linear(1, 1)\n",
    "\n",
    "    def forward(self, x):\n",
    "        \"\"\"Perform a forward pass through the model.\n",
    "\n",
    "        Args:\n",
    "            x (torch.Tensor): Input tensor of shape (batch_size, 1).\n",
    "\n",
    "        Returns:\n",
    "            torch.Tensor: Output tensor of shape (batch_size, 1) after applying the linear layer.\n",
    "        \"\"\"\n",
    "        # Forward pass: compute the output of the linear layer\n",
    "        return self.linear(x)"
   ]
  },
  {
   "cell_type": "code",
   "execution_count": null,
   "metadata": {
    "id": "53qNCNzqlDYC"
   },
   "outputs": [],
   "source": [
    "# Instantiate the model\n",
    "pytorch_regressor = SimpleLinearModel()\n",
    "print(pytorch_regressor)  # Print the model architecture"
   ]
  },
  {
   "cell_type": "code",
   "execution_count": null,
   "metadata": {
    "id": "vG_pCYjWlDYC"
   },
   "outputs": [],
   "source": [
    "# Lets get our original dataset again:\n",
    "uu, ii = df.to_numpy(dtype=np.float32).T\n",
    "\n",
    "# Define the loss function and optimizer\n",
    "criterion = nn.MSELoss()  # Mean Squared Error loss\n",
    "optimizer = optim.SGD(\n",
    "    pytorch_regressor.parameters(), lr=0.01\n",
    ")  # Stochastic Gradient Descent optimizer with learning rate 0.01\n",
    "\n",
    "\n",
    "# Convert data to PyTorch tensors\n",
    "u_tensor = torch.from_numpy(uu.reshape(-1, 1))\n",
    "i_tensor = torch.from_numpy(ii.reshape(-1, 1))\n",
    "\n",
    "# Train the model\n",
    "num_epochs = 50  # Number of epochs to train\n",
    "\n",
    "for epoch in range(num_epochs):\n",
    "    # In practice this is usually not done, but train on the overall dataset\n",
    "    # here.\n",
    "\n",
    "    # Zero the parameter gradients\n",
    "    optimizer.zero_grad()\n",
    "\n",
    "    # Forward pass: compute the model output for the batch\n",
    "    outputs = pytorch_regressor(u_tensor)\n",
    "\n",
    "    # Compute the loss\n",
    "    loss = criterion(outputs, i_tensor)\n",
    "\n",
    "    # Backward pass: compute the gradients\n",
    "    loss.backward()\n",
    "\n",
    "    # Update the model parameters\n",
    "    optimizer.step()\n",
    "\n",
    "    # Print the loss every 10 epochs\n",
    "    if (epoch + 1) % 10 == 0:\n",
    "        print(\n",
    "            f\"Epoch [{epoch + 1}/{num_epochs}], MSE Loss: {loss.item():.4f}, SSE Loss: {loss.item() * i_tensor.shape[0]:.2f}\"\n",
    "        )"
   ]
  },
  {
   "cell_type": "code",
   "execution_count": null,
   "metadata": {
    "id": "Ab6aRSoclDYC"
   },
   "outputs": [],
   "source": [
    "# Accessing the trained parameters\n",
    "print(\"Trained parameters (state_dict):\")\n",
    "for param_tensor in pytorch_regressor.state_dict():\n",
    "    print(f\"{param_tensor}: {pytorch_regressor.state_dict()[param_tensor].numpy()}\")\n",
    "\n",
    "# Extract specific parameters\n",
    "weights = pytorch_regressor.linear.weight.data.numpy()\n",
    "bias = pytorch_regressor.linear.bias.data.numpy()\n",
    "\n",
    "print(\"\\nExtracted parameters:\")\n",
    "print(f\"Weights: {weights}\")\n",
    "print(f\"Bias: {bias}\")"
   ]
  },
  {
   "cell_type": "code",
   "execution_count": null,
   "metadata": {
    "id": "L4dY-EMLlDYC"
   },
   "outputs": [],
   "source": [
    "# Get the model's predictions and plot\n",
    "with torch.no_grad():  # Disable gradient computation for inference\n",
    "    ii_pytorch = (\n",
    "        pytorch_regressor(u_tensor).numpy().flatten()\n",
    "    )  # Get the predictions and convert to NumPy array\n",
    "\n",
    "sse_torch = mu.sse(ii, ii_pytorch)\n",
    "sse_scikit = mu.sse(ii, ii_scikit)\n",
    "mu.plot_measurement_data(\n",
    "    uu.flatten(),\n",
    "    ii.flatten(),\n",
    "    {\"torch\": ii_pytorch, \"scikit-learn\": ii_scikit},\n",
    "    title=f\"Original data & predictions by the PyTorch (SSE=${sse_torch:.2f}$) and scikit-learn models (SSE=${sse_scikit:.2f}$)\",\n",
    ")"
   ]
  },
  {
   "cell_type": "markdown",
   "metadata": {
    "id": "i8KgQhrHlDYD"
   },
   "source": [
    "### Fragen/Zusatzaufgaben (Optional):\n",
    "1. Woran könnte es liegen, dass die Geraden (Prognosen) für \"pytorch\" und \"scikit-learn\" nicht übereinstimmen?\n",
    "2. Wie könnte man das ausgemachte Problem aus 1. beheben?"
   ]
  },
  {
   "cell_type": "markdown",
   "metadata": {
    "id": "aOtABli7lDYD"
   },
   "source": [
    "### Export des PyTorch Modells nach ONNX"
   ]
  },
  {
   "cell_type": "code",
   "execution_count": null,
   "metadata": {
    "id": "VZieoGaSlDYD"
   },
   "outputs": [],
   "source": [
    "# Export the model to ONNX\n",
    "# Create a dummy input tensor with the same shape as the model input\n",
    "dummy_input = torch.randn(1, 1)\n",
    "\n",
    "# Specify the path where the ONNX file will be saved\n",
    "onnx_file_path = \"pytorch_regression.onnx\"\n",
    "\n",
    "# Export the model to ONNX format\n",
    "torch.onnx.export(\n",
    "    pytorch_regressor,  # The trained PyTorch model to be exported\n",
    "    dummy_input,  # A dummy input tensor to trace the model\n",
    "    onnx_file_path,  # The path where the ONNX file will be saved\n",
    "    input_names=[\"input\"],  # A list of input names for the ONNX model\n",
    "    output_names=[\"output\"],  # A list of output names for the ONNX model\n",
    "    dynamic_axes={\n",
    "        \"input\": {0: \"batch_size\"},\n",
    "        \"output\": {0: \"batch_size\"},\n",
    "    },  # Specify which axes are dynamic (e.g., batch size)\n",
    ")\n",
    "\n",
    "# Print a confirmation message\n",
    "print(f\"Model has been converted to ONNX and saved at {onnx_file_path}\")"
   ]
  },
  {
   "cell_type": "markdown",
   "metadata": {
    "id": "kP2XmpHGlDYD"
   },
   "source": [
    "#### Visualisierung des PyTorch-exportierten ONNX-Graphen mit Netron"
   ]
  },
  {
   "cell_type": "code",
   "execution_count": null,
   "metadata": {
    "id": "9DDbVcm3lDYD"
   },
   "outputs": [],
   "source": [
    "from techdays25 import onnx_utils\n",
    "\n",
    "onnx_utils.netron_visualize(\"pytorch_regression.onnx\")"
   ]
  },
  {
   "cell_type": "markdown",
   "metadata": {
    "id": "x__dr1YptG0-"
   },
   "source": [
    "#### Fragen/Zusatzaufgaben (Optional)\n",
    "1. Inwieweit unterscheidet sich das obige ONNX-Modell von dem ONNX-Modell das wir aus scikit-learn exportiert haben?\n",
    "2. Was verbirgt sich hinter der Operation im obigen Graphen? Hinweis: In den \"Node Properties\" kann beispielsweise für das Feld \"type\" ein Hilfefenster angezeigt werden."
   ]
  },
  {
   "cell_type": "markdown",
   "metadata": {
    "id": "slg5qRcUuI4l"
   },
   "source": [
    "## Variante 3 (Optional): Training eines Keras/Tensorflow Modells und Export nach ONNX"
   ]
  },
  {
   "cell_type": "code",
   "execution_count": null,
   "metadata": {
    "id": "RBDLh_hvubs_"
   },
   "outputs": [],
   "source": [
    "import matplotlib.pyplot as plt\n",
    "import numpy as np\n",
    "import tensorflow as tf\n",
    "from tensorflow import keras\n",
    "\n",
    "# Define the model\n",
    "keras_regressor = keras.models.Sequential()\n",
    "keras_regressor.add(keras.layers.Input(shape=(1,), dtype=tf.float32))\n",
    "keras_regressor.add(\n",
    "    keras.layers.Dense(1, activation=\"linear\")\n",
    ")  # A single neuron with linear activation\n",
    "\n",
    "# Compile the model\n",
    "keras_regressor.compile(optimizer=\"sgd\", loss=\"mse\")\n",
    "keras_regressor.summary()"
   ]
  },
  {
   "cell_type": "code",
   "execution_count": null,
   "metadata": {
    "id": "46kkl8VjZcBF"
   },
   "outputs": [],
   "source": [
    "# Train the model\n",
    "uu, ii = df.to_numpy().T\n",
    "history = keras_regressor.fit(uu, ii, epochs=200, batch_size=20, verbose=0)\n",
    "\n",
    "# Get model weights\n",
    "weights = keras_regressor.get_weights()\n",
    "\n",
    "# weights[0] contains the weights of the Dense layer\n",
    "# weights[1] contains the bias of the Dense layer\n",
    "print(\"Weights:\", weights[0])\n",
    "print(\"Bias:\", weights[1])"
   ]
  },
  {
   "cell_type": "code",
   "execution_count": null,
   "metadata": {
    "id": "uxUca401aFDS"
   },
   "outputs": [],
   "source": [
    "# Get the model's predictions\n",
    "ii_keras = keras_regressor.predict(uu).flatten()"
   ]
  },
  {
   "cell_type": "code",
   "execution_count": null,
   "metadata": {
    "id": "cEbzYhGjbpHP"
   },
   "outputs": [],
   "source": [
    "sse_torch = mu.sse(ii, ii_pytorch)\n",
    "sse_scikit = mu.sse(ii, ii_scikit)\n",
    "sse_keras = mu.sse(ii, ii_keras)\n",
    "\n",
    "mu.plot_measurement_data(\n",
    "    uu.flatten(),\n",
    "    ii.flatten(),\n",
    "    {\"keras\": ii_keras, \"torch\": ii_pytorch, \"scikit-learn\": ii_scikit},\n",
    "    title=f\"Keras (SSE=${sse_keras:.2f}$), PyTorch (SSE=${sse_torch:.2f}$) & Scikit-Learn (SSE=${sse_scikit:.2f}$) im Vergleich\",\n",
    ")"
   ]
  },
  {
   "cell_type": "markdown",
   "metadata": {
    "id": "D3GvcujCef5R"
   },
   "source": [
    "### Export des Keras Modells nach ONNX"
   ]
  },
  {
   "cell_type": "code",
   "execution_count": null,
   "metadata": {
    "id": "XbzPZiccc8ef"
   },
   "outputs": [],
   "source": [
    "import tf2onnx\n",
    "\n",
    "# Diese Zelle könnte einen Fehler werfen.\n",
    "# Dennoch sollte das ONNX Modell korrekt exportiert werden\n",
    "keras_regressor.output_names = [\"output\"]\n",
    "\n",
    "input_signature = [tf.TensorSpec([None, 1], tf.float32, name=\"u\")]\n",
    "# Use from_function for tf functions\n",
    "onnx_model, _ = tf2onnx.convert.from_keras(keras_regressor, input_signature, opset=18)\n",
    "onnx.save(onnx_model, \"keras_regression.onnx\")"
   ]
  },
  {
   "cell_type": "code",
   "execution_count": null,
   "metadata": {
    "id": "ElUVk7Elg7-E"
   },
   "outputs": [],
   "source": [
    "from techdays25 import onnx_utils\n",
    "\n",
    "onnx_utils.netron_visualize(\"keras_regression.onnx\")"
   ]
  },
  {
   "cell_type": "markdown",
   "metadata": {
    "id": "ZP6yLHoBxQcr"
   },
   "source": [
    "## Variante 4 (Optional): Wir \"trainieren\" und exportieren das Modell selbst"
   ]
  },
  {
   "cell_type": "markdown",
   "metadata": {
    "id": "bs3mMRXGrwAX"
   },
   "source": [
    "TODO: Einleitung hier:"
   ]
  },
  {
   "cell_type": "markdown",
   "metadata": {
    "id": "qwLRmRTUoVJY"
   },
   "source": [
    "Es kann gezeigt werden, dass folgende Lösung tatsächlich der \"Methode der kleinsten Quadrate\" entspricht:\n",
    "\\begin{align}\n",
    "\\mathbf{i}&= \\mathbf{U}\\mathbf{w} \\\\\n",
    "\\mathbf{U}^\\mathsf{T}\\mathbf{i} &= \\mathbf{U}^\\mathsf{T}\\mathbf{U}\\mathbf{w} \\\\\n",
    "(\\mathbf{U}^\\mathsf{T}\\mathbf{U})^{-1}\\mathbf{U}^\\mathsf{T}\\mathbf{i} &= (\\mathbf{U}^\\mathsf{T}\\mathbf{U})^{-1} \\mathbf{U}^\\mathsf{T}\\mathbf{U}\\mathbf{w} \\\\\n",
    "\\mathbf{w} &= (\\mathbf{U}^\\mathsf{T}\\mathbf{U})^{-1}\\mathbf{U}^\\mathsf{T}\\mathbf{i} \\\\\n",
    "\\end{align}"
   ]
  },
  {
   "cell_type": "code",
   "execution_count": null,
   "metadata": {
    "id": "C7jblnxJxQcs"
   },
   "outputs": [],
   "source": [
    "import sympy\n",
    "\n",
    "# Lets get our original dataset again:\n",
    "uu, ii = df.to_numpy().T\n",
    "\n",
    "U = np.stack([uu, np.ones(len(uu))]).T\n",
    "sympy.Matrix(U[:7])"
   ]
  },
  {
   "cell_type": "code",
   "execution_count": null,
   "metadata": {
    "id": "g52qGcDhxQcs"
   },
   "outputs": [],
   "source": [
    "weight, bias = np.linalg.inv(U.T @ U) @ U.T @ ii\n",
    "print(f\"weight: {weight}, bias: {bias}\")"
   ]
  },
  {
   "cell_type": "markdown",
   "metadata": {
    "id": "EPQMivpyCM_v"
   },
   "source": [
    "### Export mit 'onnx.parser'"
   ]
  },
  {
   "cell_type": "code",
   "execution_count": null,
   "metadata": {
    "id": "OnU5_7sWSxNV"
   },
   "outputs": [],
   "source": [
    "from onnx import helper, parser\n",
    "\n",
    "graph_str = f\"\"\"\n",
    "agraph (float[N, 2] X) => (float[N, 1] Y_pred)\n",
    "{{\n",
    "    W = Constant <value = float[2,1] {{ {weight}, {bias} }}> ()\n",
    "    Y_pred = MatMul(X,W)\n",
    "}}\n",
    "\"\"\"\n",
    "\n",
    "graph = parser.parse_graph(graph_str)\n",
    "model = helper.make_model(graph, producer_name=\"onnx-agraph\")\n",
    "onnx.save(model, \"parsedgraph_regression.onnx\")"
   ]
  },
  {
   "cell_type": "code",
   "execution_count": null,
   "metadata": {
    "id": "TklHAKB92okG"
   },
   "outputs": [],
   "source": [
    "from techdays25 import onnx_utils\n",
    "\n",
    "onnx_utils.netron_visualize(\"parsedgraph_regression.onnx\")"
   ]
  },
  {
   "cell_type": "markdown",
   "metadata": {
    "id": "3fd1Za7Hs0OI"
   },
   "source": [
    "### Export mit ONNX Helper API"
   ]
  },
  {
   "cell_type": "code",
   "execution_count": null,
   "metadata": {
    "id": "Sz5OlLTys0mY"
   },
   "outputs": [],
   "source": [
    "import numpy as np\n",
    "import onnx\n",
    "from onnx import TensorProto, helper, numpy_helper\n",
    "\n",
    "# Define weights\n",
    "W_array = np.array([[weight], [bias]], dtype=np.float32)\n",
    "W_tensor = numpy_helper.from_array(W_array, name=\"W\")\n",
    "\n",
    "# Input and output tensor definitions\n",
    "X = helper.make_tensor_value_info(\"X\", TensorProto.FLOAT, [\"N\", 2])\n",
    "Y_pred = helper.make_tensor_value_info(\"Y_pred\", TensorProto.FLOAT, [\"N\", 1])\n",
    "\n",
    "# Constant node for weights\n",
    "const_node = helper.make_node(\"Constant\", inputs=[], outputs=[\"W\"], value=W_tensor)\n",
    "\n",
    "# MatMul node\n",
    "matmul_node = helper.make_node(\"MatMul\", inputs=[\"X\", \"W\"], outputs=[\"Y_pred\"])\n",
    "\n",
    "# Create the graph\n",
    "graph = helper.make_graph(\n",
    "    nodes=[const_node, matmul_node],\n",
    "    name=\"LinearModelGraph\",\n",
    "    inputs=[X],\n",
    "    outputs=[Y_pred],\n",
    "    initializer=[],  # Constants are provided via nodes\n",
    ")\n",
    "\n",
    "# Create the model\n",
    "model = helper.make_model(graph, producer_name=\"onnx-helper-api\")\n",
    "onnx.save(model, \"helperapi_regression.onnx\")"
   ]
  },
  {
   "cell_type": "markdown",
   "metadata": {
    "id": "zZ0P894gC6f0"
   },
   "source": [
    "### Export mit ONNX Script"
   ]
  },
  {
   "cell_type": "code",
   "execution_count": null,
   "metadata": {
    "id": "iBzvQ5CaCmI5"
   },
   "outputs": [],
   "source": [
    "import numpy as np\n",
    "import onnx\n",
    "from onnx import TensorProto\n",
    "from onnxscript import FLOAT, script\n",
    "from onnxscript import opset18 as op\n",
    "\n",
    "\n",
    "def onnxscript_regression(weight: float, bias: float):\n",
    "    \"\"\"Builds a simple ONNX regression model using torchscript.\n",
    "\n",
    "    Args:\n",
    "        weight (float): slope of the linear function\n",
    "        bias (float): offset of the linear function\n",
    "\n",
    "    Returns:\n",
    "        _type_: _description_\n",
    "    \"\"\"\n",
    "\n",
    "    @script()\n",
    "    def linear_model(x_mat: FLOAT[...]):\n",
    "        W = op.Constant(\n",
    "            value=onnx.helper.make_tensor(\n",
    "                name=\"W\",\n",
    "                data_type=TensorProto.FLOAT,\n",
    "                dims=[2, 1],\n",
    "                vals=[weight, bias],\n",
    "            )\n",
    "        )\n",
    "        return op.MatMul(x_mat, W)\n",
    "\n",
    "    return linear_model.to_model_proto()\n",
    "\n",
    "\n",
    "onnx.save(onnxscript_regression(weight, bias), \"onnxscript_regression.onnx\")"
   ]
  },
  {
   "cell_type": "code",
   "execution_count": null,
   "metadata": {
    "id": "u3WbaCmPfsnn"
   },
   "outputs": [],
   "source": [
    "onnx_utils.netron_visualize(\"onnxscript_regression.onnx\")"
   ]
  },
  {
   "cell_type": "markdown",
   "metadata": {
    "id": "_wwCTlZrxQcr"
   },
   "source": [
    "## Inferenz mit den ONNX Modellen"
   ]
  },
  {
   "cell_type": "code",
   "execution_count": null,
   "metadata": {
    "id": "Hr1T1ZQmxQcr"
   },
   "outputs": [],
   "source": [
    "import onnxruntime as ort\n",
    "\n",
    "# Load the ONNX model\n",
    "# Specify the path to the ONNX model file\n",
    "onnx_model_path = \"helperapi_regression.onnx\"  # TODO: Namen des Modells hier eintragen\n",
    "\n",
    "# Create an InferenceSession to load the model\n",
    "session = ort.InferenceSession(onnx_model_path)\n",
    "\n",
    "# Example input data (make sure it matches the input shape expected by the model)\n",
    "# Let us create some new input data. Here, we create a NumPy array with shape\n",
    "# (10, 1) representing 10 samples with 1 feature (voltage) each.\n",
    "# We sample 10 equidistant points between 0 and 15.\n",
    "U_new = np.stack([uu, np.ones(len(uu))]).T.astype(dtype=np.float32)\n",
    "\n",
    "# Get the name of the input node\n",
    "# The model may have multiple inputs, but we usually need the first one\n",
    "input_name = session.get_inputs()[0].name\n",
    "\n",
    "# Get the name of the output node\n",
    "# Similarly, the model may have multiple outputs, but we usually need the first one\n",
    "output_name = session.get_outputs()[0].name\n",
    "\n",
    "# Run inference\n",
    "# The run method takes a list of output node names and a dictionary mapping input node names to input data\n",
    "# It returns a list of outputs corresponding to the output node names provided\n",
    "\n",
    "ii_onnx = session.run([output_name], {input_name: U_new})[0]\n",
    "\n",
    "# Plot the predictions\n",
    "# The predictions are returned as a list of NumPy arrays, so we print the first (and only) element\n",
    "mu.plot_measurement_data(\n",
    "    uu,\n",
    "    ii,\n",
    "    ii_onnx,\n",
    "    xx_pred=None,\n",
    "    title=f\"Original data & predictions by the ONNX model '{onnx_model_path}'\",\n",
    ")"
   ]
  },
  {
   "cell_type": "markdown",
   "metadata": {
    "id": "vWaqU3nNxQcr"
   },
   "source": [
    "#### Fragen/Zusatzaufgaben (Optional)\n",
    "1. Was passiert in obigem Beispiel wenn wir in der Zeile\n",
    "   `U_new = np.stack([uu, np.ones(len(uu))]).T.astype(dtype=np.float32)`\n",
    "   das Argument `dtype=np.float32` ersetzen durch `dtype=np.float64`?\n",
    "2. Wie genau stimmen die Prognosen des ONNX-Modells (von scikit-learn exportiert) mit denen des originalen Modells (z.B., das ursprüngliche scikit-learn Modell) überein? Evaluiere hierzu beide Modelle auf jeweils denselben Input-Daten (entweder die bereits vorhanden Daten oder beispielsweise neu erzeugte (zufällige) Daten für die Spannung $U [V]$.)\n"
   ]
  },
  {
   "cell_type": "code",
   "execution_count": null,
   "metadata": {
    "id": "Y6gpAC8gnm6m"
   },
   "outputs": [],
   "source": []
  }
 ],
 "metadata": {
  "colab": {
   "include_colab_link": true,
   "provenance": [],
   "toc_visible": true
  },
  "kernelspec": {
   "display_name": "venv",
   "language": "python",
   "name": "python3"
  },
  "language_info": {
   "codemirror_mode": {
    "name": "ipython",
    "version": 3
   },
   "file_extension": ".py",
   "mimetype": "text/x-python",
   "name": "python",
   "nbconvert_exporter": "python",
   "pygments_lexer": "ipython3",
   "version": "3.11.0"
  }
 },
 "nbformat": 4,
 "nbformat_minor": 0
}
